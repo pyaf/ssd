{
 "cells": [
  {
   "cell_type": "code",
   "execution_count": 17,
   "metadata": {
    "ExecuteTime": {
     "end_time": "2018-10-22T11:03:43.795174Z",
     "start_time": "2018-10-22T11:03:43.724665Z"
    }
   },
   "outputs": [],
   "source": [
    "torch.nn.DataParallel?"
   ]
  },
  {
   "cell_type": "code",
   "execution_count": 1,
   "metadata": {
    "ExecuteTime": {
     "end_time": "2018-10-22T07:00:33.328339Z",
     "start_time": "2018-10-22T07:00:27.435285Z"
    }
   },
   "outputs": [],
   "source": [
    "import sys\n",
    "sys.path.append('../')\n",
    "import os\n",
    "import torch\n",
    "import random\n",
    "import numpy as np\n",
    "import pandas as pd\n",
    "from tqdm import tqdm\n",
    "import matplotlib.pyplot as plt\n",
    "import matplotlib.image as mpimg\n",
    "from collections import defaultdict\n",
    "from sklearn.model_selection import train_test_split\n",
    "import pydicom\n",
    "os.environ['CUDA_VISIBLE_DEVICES']=\"None\"\n",
    "%matplotlib inline"
   ]
  },
  {
   "cell_type": "markdown",
   "metadata": {
    "heading_collapsed": true
   },
   "source": [
    "## saving npy files"
   ]
  },
  {
   "cell_type": "code",
   "execution_count": null,
   "metadata": {
    "hidden": true
   },
   "outputs": [],
   "source": [
    "arr = [1,3,4,5]"
   ]
  },
  {
   "cell_type": "code",
   "execution_count": null,
   "metadata": {
    "hidden": true
   },
   "outputs": [],
   "source": [
    "np.save('data/test.npy', np.array(arr).astype(np.float32))"
   ]
  },
  {
   "cell_type": "code",
   "execution_count": null,
   "metadata": {
    "hidden": true
   },
   "outputs": [],
   "source": [
    "arr_l = np.load('data/test.npy')"
   ]
  },
  {
   "cell_type": "code",
   "execution_count": null,
   "metadata": {
    "hidden": true
   },
   "outputs": [],
   "source": [
    "arr_l"
   ]
  },
  {
   "cell_type": "code",
   "execution_count": null,
   "metadata": {
    "hidden": true
   },
   "outputs": [],
   "source": [
    "os.path.exists('data')"
   ]
  },
  {
   "cell_type": "code",
   "execution_count": null,
   "metadata": {
    "hidden": true
   },
   "outputs": [],
   "source": [
    "fnames = np.load('data/npy_data/train_fnames.npy')"
   ]
  },
  {
   "cell_type": "code",
   "execution_count": null,
   "metadata": {
    "hidden": true
   },
   "outputs": [],
   "source": [
    "fnames.shape"
   ]
  },
  {
   "cell_type": "markdown",
   "metadata": {
    "heading_collapsed": true
   },
   "source": [
    "## tesing train test split bug"
   ]
  },
  {
   "cell_type": "code",
   "execution_count": null,
   "metadata": {
    "hidden": true
   },
   "outputs": [],
   "source": []
  },
  {
   "cell_type": "code",
   "execution_count": null,
   "metadata": {
    "hidden": true
   },
   "outputs": [],
   "source": []
  },
  {
   "cell_type": "code",
   "execution_count": null,
   "metadata": {
    "hidden": true
   },
   "outputs": [],
   "source": [
    "df = pd.read_csv(\"data/stage_1_train_labels.csv\")\n",
    "class_df = pd.read_csv('data/stage_1_detailed_class_info.csv')\n",
    "# df = df[df[\"Target\"] == 0]\n",
    "# df.reset_index(drop=True, inplace=True)\n",
    "# df_groups = df.groupby([\"patientId\"]).groups\n",
    "# fnames = list(df_groups.keys())\n"
   ]
  },
  {
   "cell_type": "code",
   "execution_count": null,
   "metadata": {
    "hidden": true
   },
   "outputs": [],
   "source": [
    "class_df.head(10)"
   ]
  },
  {
   "cell_type": "code",
   "execution_count": null,
   "metadata": {
    "hidden": true
   },
   "outputs": [],
   "source": [
    "df.head()"
   ]
  },
  {
   "cell_type": "code",
   "execution_count": null,
   "metadata": {
    "hidden": true
   },
   "outputs": [],
   "source": [
    "# df['class'] = df.apply(lambda x: class_df[class_df['patientId'] == x]['class'])\n",
    "df['class'] = class_df['class']"
   ]
  },
  {
   "cell_type": "code",
   "execution_count": null,
   "metadata": {
    "hidden": true
   },
   "outputs": [],
   "source": [
    "df.head(10)"
   ]
  },
  {
   "cell_type": "code",
   "execution_count": null,
   "metadata": {
    "hidden": true
   },
   "outputs": [],
   "source": []
  },
  {
   "cell_type": "code",
   "execution_count": null,
   "metadata": {
    "hidden": true
   },
   "outputs": [],
   "source": [
    "image_df = df.groupby('patientId').apply(lambda x: x.sample(1))"
   ]
  },
  {
   "cell_type": "code",
   "execution_count": null,
   "metadata": {
    "hidden": true
   },
   "outputs": [],
   "source": [
    "image_df.head(10)"
   ]
  },
  {
   "cell_type": "code",
   "execution_count": null,
   "metadata": {
    "hidden": true
   },
   "outputs": [],
   "source": [
    "image_df.sample?"
   ]
  },
  {
   "cell_type": "code",
   "execution_count": null,
   "metadata": {
    "hidden": true
   },
   "outputs": [],
   "source": [
    "image_df.shape"
   ]
  },
  {
   "cell_type": "code",
   "execution_count": null,
   "metadata": {
    "hidden": true
   },
   "outputs": [],
   "source": [
    "raw_train_df, valid_df = train_test_split(image_df, test_size=0.1, random_state=2018, stratify=image_df['class'])\n",
    "print(raw_train_df.shape, 'training data')\n",
    "print(valid_df.shape, 'validation data')"
   ]
  },
  {
   "cell_type": "code",
   "execution_count": null,
   "metadata": {
    "hidden": true
   },
   "outputs": [],
   "source": [
    "raw_train_df.head()"
   ]
  },
  {
   "cell_type": "code",
   "execution_count": null,
   "metadata": {
    "hidden": true
   },
   "outputs": [],
   "source": [
    "raw_train_df['class'].value_counts()"
   ]
  },
  {
   "cell_type": "code",
   "execution_count": null,
   "metadata": {
    "hidden": true
   },
   "outputs": [],
   "source": [
    "valid_df['class'].value_counts()"
   ]
  },
  {
   "cell_type": "code",
   "execution_count": null,
   "metadata": {
    "hidden": true
   },
   "outputs": [],
   "source": [
    "tf = list(raw_train_df.patientId)\n",
    "vf = list(valid_df.patientId)"
   ]
  },
  {
   "cell_type": "code",
   "execution_count": null,
   "metadata": {
    "hidden": true
   },
   "outputs": [],
   "source": [
    "len(tf), len(vf)"
   ]
  },
  {
   "cell_type": "code",
   "execution_count": null,
   "metadata": {
    "hidden": true
   },
   "outputs": [],
   "source": [
    "tf[:4]"
   ]
  },
  {
   "cell_type": "code",
   "execution_count": null,
   "metadata": {
    "hidden": true
   },
   "outputs": [],
   "source": [
    "'''Check if tf and vf are mutually exclusive'''\n",
    "print(len(tf + vf) == image_df.shape[0])\n",
    "len(set(tf + vf)) == len(tf) + len(vf)"
   ]
  },
  {
   "cell_type": "code",
   "execution_count": null,
   "metadata": {
    "hidden": true
   },
   "outputs": [],
   "source": [
    "len(tf), len(vf)"
   ]
  },
  {
   "cell_type": "markdown",
   "metadata": {
    "hidden": true
   },
   "source": [
    "##### sanity check"
   ]
  },
  {
   "cell_type": "code",
   "execution_count": null,
   "metadata": {
    "hidden": true
   },
   "outputs": [],
   "source": [
    "train_fnames = np.load('data/npy_data/train_fnames.npy')\n",
    "val_fnames = np.load('data/npy_data/val_fnames.npy')"
   ]
  },
  {
   "cell_type": "code",
   "execution_count": null,
   "metadata": {
    "hidden": true
   },
   "outputs": [],
   "source": [
    "len(train_fnames), len(val_fnames), (len(set(list(train_fnames) + list(val_fnames))) == len(train_fnames) + len(val_fnames))"
   ]
  },
  {
   "cell_type": "code",
   "execution_count": null,
   "metadata": {
    "hidden": true
   },
   "outputs": [],
   "source": [
    "tl = np.load('data/npy_data/train_labels.npy')\n",
    "vl = np.load('data/npy_data/val_labels.npy')"
   ]
  },
  {
   "cell_type": "code",
   "execution_count": null,
   "metadata": {
    "hidden": true
   },
   "outputs": [],
   "source": [
    "np.unique(tl, return_counts=True)"
   ]
  },
  {
   "cell_type": "code",
   "execution_count": null,
   "metadata": {
    "hidden": true
   },
   "outputs": [],
   "source": [
    "np.unique(vl, return_counts=True)"
   ]
  },
  {
   "cell_type": "code",
   "execution_count": null,
   "metadata": {
    "hidden": true
   },
   "outputs": [],
   "source": []
  },
  {
   "cell_type": "code",
   "execution_count": null,
   "metadata": {
    "hidden": true
   },
   "outputs": [],
   "source": []
  },
  {
   "cell_type": "markdown",
   "metadata": {
    "heading_collapsed": true
   },
   "source": [
    "## class analysis of the boxes"
   ]
  },
  {
   "cell_type": "code",
   "execution_count": null,
   "metadata": {
    "hidden": true
   },
   "outputs": [],
   "source": [
    "class_df = pd.read_csv('data/stage_1_detailed_class_info.csv')"
   ]
  },
  {
   "cell_type": "code",
   "execution_count": null,
   "metadata": {
    "hidden": true
   },
   "outputs": [],
   "source": [
    "class_df.head()"
   ]
  },
  {
   "cell_type": "code",
   "execution_count": null,
   "metadata": {
    "hidden": true
   },
   "outputs": [],
   "source": [
    "class_df.groupby('class').groups"
   ]
  },
  {
   "cell_type": "code",
   "execution_count": null,
   "metadata": {
    "hidden": true
   },
   "outputs": [],
   "source": [
    "class_df.head(10)()"
   ]
  },
  {
   "cell_type": "code",
   "execution_count": null,
   "metadata": {
    "hidden": true
   },
   "outputs": [],
   "source": [
    "train_df = pd.read_csv('data/stage_1_train_labels.csv')\n",
    "train_df.head(10)"
   ]
  },
  {
   "cell_type": "code",
   "execution_count": null,
   "metadata": {
    "hidden": true
   },
   "outputs": [],
   "source": [
    "train_df.shape, class_df.shape"
   ]
  },
  {
   "cell_type": "code",
   "execution_count": null,
   "metadata": {
    "hidden": true
   },
   "outputs": [],
   "source": [
    "grp = class_df.groupby([\"patientId\"]).groups"
   ]
  },
  {
   "cell_type": "code",
   "execution_count": null,
   "metadata": {
    "hidden": true
   },
   "outputs": [],
   "source": [
    "class_df.iloc[12790]['class']"
   ]
  },
  {
   "cell_type": "code",
   "execution_count": null,
   "metadata": {
    "hidden": true
   },
   "outputs": [],
   "source": [
    "class_df['class'].nunique()"
   ]
  },
  {
   "cell_type": "code",
   "execution_count": null,
   "metadata": {
    "hidden": true
   },
   "outputs": [],
   "source": [
    "class_df.groupby([\"class\"]).nunique()"
   ]
  },
  {
   "cell_type": "code",
   "execution_count": null,
   "metadata": {
    "hidden": true
   },
   "outputs": [],
   "source": []
  },
  {
   "cell_type": "code",
   "execution_count": null,
   "metadata": {
    "hidden": true
   },
   "outputs": [],
   "source": []
  },
  {
   "cell_type": "markdown",
   "metadata": {
    "heading_collapsed": true
   },
   "source": [
    "## Analysing anchor boxes (priors)"
   ]
  },
  {
   "cell_type": "code",
   "execution_count": null,
   "metadata": {
    "hidden": true
   },
   "outputs": [],
   "source": [
    "from layers import PriorBox\n",
    "from data.config import cfg\n",
    "    "
   ]
  },
  {
   "cell_type": "code",
   "execution_count": null,
   "metadata": {
    "hidden": true
   },
   "outputs": [],
   "source": [
    "priors = PriorBox(cfg).forward() * 300"
   ]
  },
  {
   "cell_type": "code",
   "execution_count": null,
   "metadata": {
    "hidden": true
   },
   "outputs": [],
   "source": [
    "5776, 2166, 600, 150, 36, 4"
   ]
  },
  {
   "cell_type": "code",
   "execution_count": null,
   "metadata": {
    "hidden": true,
    "scrolled": false
   },
   "outputs": [],
   "source": [
    "canvas = np.ones([300, 300])\n",
    "colors = ['b', 'g', 'r', 'c', 'm', 'y', 'k']\n",
    "count = 0\n",
    "fig, ax = plt.subplots(figsize=(10, 10))\n",
    "T = 100\n",
    "for idx, box in enumerate(priors):\n",
    "    x, y, w, h = box\n",
    "    XMin = x - w\n",
    "    YMin = y - h\n",
    "    if count<=T:\n",
    "#         print(XMin, YMin)\n",
    "#         print(x,y, w,h)\n",
    "        rect = plt.Rectangle((XMin, YMin), width=w, height=h, edgecolor=random.choice(colors), fill=None, linewidth=2)\n",
    "        ax.add_patch(rect)\n",
    "#         fig.canvas.draw();\n",
    "#     if count==T: break\n",
    "    count += 1\n",
    "print(count)\n",
    "ax.imshow(canvas, cmap='binary')\n",
    "plt.show();"
   ]
  },
  {
   "cell_type": "code",
   "execution_count": null,
   "metadata": {
    "hidden": true
   },
   "outputs": [],
   "source": [
    "def area(box):\n",
    "    XMin, YMin, XMax, YMax = box\n",
    "    w = XMax - XMin + 1\n",
    "    h = YMax - YMin + 1\n",
    "#     print(abs(w), abs(h))\n",
    "    return abs(w*h)"
   ]
  },
  {
   "cell_type": "code",
   "execution_count": null,
   "metadata": {
    "hidden": true
   },
   "outputs": [],
   "source": [
    "for idx, box in enumerate(priors):\n",
    "#     print(box)\n",
    "    a = area(box)\n",
    "    print(a)\n",
    "#     break"
   ]
  },
  {
   "cell_type": "code",
   "execution_count": null,
   "metadata": {
    "hidden": true
   },
   "outputs": [],
   "source": [
    "priors"
   ]
  },
  {
   "cell_type": "code",
   "execution_count": null,
   "metadata": {
    "hidden": true
   },
   "outputs": [],
   "source": []
  },
  {
   "cell_type": "code",
   "execution_count": null,
   "metadata": {
    "hidden": true
   },
   "outputs": [],
   "source": []
  },
  {
   "cell_type": "code",
   "execution_count": null,
   "metadata": {
    "hidden": true
   },
   "outputs": [],
   "source": []
  },
  {
   "cell_type": "markdown",
   "metadata": {
    "hidden": true
   },
   "source": [
    "\n",
    "## random testing"
   ]
  },
  {
   "cell_type": "markdown",
   "metadata": {
    "heading_collapsed": true
   },
   "source": [
    "## Testing data"
   ]
  },
  {
   "cell_type": "code",
   "execution_count": null,
   "metadata": {
    "hidden": true
   },
   "outputs": [],
   "source": [
    "df = pd.read_csv('data/stage_1_train_labels.csv')"
   ]
  },
  {
   "cell_type": "code",
   "execution_count": null,
   "metadata": {
    "hidden": true
   },
   "outputs": [],
   "source": []
  },
  {
   "cell_type": "code",
   "execution_count": null,
   "metadata": {
    "hidden": true
   },
   "outputs": [],
   "source": [
    "df.head()"
   ]
  },
  {
   "cell_type": "code",
   "execution_count": null,
   "metadata": {
    "hidden": true
   },
   "outputs": [],
   "source": [
    "df = df[df['Target'] == 1]\n",
    "df_groups = df.groupby([\"patientId\"]).groups"
   ]
  },
  {
   "cell_type": "code",
   "execution_count": null,
   "metadata": {
    "hidden": true
   },
   "outputs": [],
   "source": [
    "df.head()"
   ]
  },
  {
   "cell_type": "code",
   "execution_count": null,
   "metadata": {
    "hidden": true
   },
   "outputs": [],
   "source": [
    "df.iloc[0]"
   ]
  },
  {
   "cell_type": "code",
   "execution_count": null,
   "metadata": {
    "hidden": true
   },
   "outputs": [],
   "source": [
    "random.seed(69)\n",
    "df_groups = df.groupby([\"patientId\"]).groups\n",
    "fnames = df_groups.keys()"
   ]
  },
  {
   "cell_type": "code",
   "execution_count": null,
   "metadata": {
    "hidden": true
   },
   "outputs": [],
   "source": [
    "\n",
    "# train_fnames, val_fnames = train_test_split(fnames, test_size=0.2)\n",
    "# fnames = train_fnames if phase == \"train\" else val_fnames\n",
    "boxes = []\n",
    "labels = []\n",
    "for name in fnames:\n",
    "    indices = df_groups[name]\n",
    "    box, label = [], []\n",
    "    for idx in indices:\n",
    "        line = df.iloc[idx]\n",
    "        if line['Target']:\n",
    "            x, y = line[\"x\"], line[\"y\"]\n",
    "            box.append([x, y, (x + line[\"width\"]), (y + line[\"height\"])])\n",
    "    labels.append(np.zeros(len(box)))\n",
    "    boxes.append(box)\n",
    "    if len(boxes) >10: break  # just for testing\n",
    "num_samples = len(fnames)\n"
   ]
  },
  {
   "cell_type": "code",
   "execution_count": null,
   "metadata": {
    "hidden": true
   },
   "outputs": [],
   "source": [
    "len(fnames)"
   ]
  },
  {
   "cell_type": "markdown",
   "metadata": {},
   "source": [
    "## Testing dataloader"
   ]
  },
  {
   "cell_type": "code",
   "execution_count": 2,
   "metadata": {
    "ExecuteTime": {
     "end_time": "2018-10-22T07:00:56.670944Z",
     "start_time": "2018-10-22T07:00:54.589931Z"
    }
   },
   "outputs": [
    {
     "name": "stdout",
     "output_type": "stream",
     "text": [
      "HOME: /home/eee/ug/15084015/kaggle/rsna-pneumonia-detection-challenge\n",
      "DATA_ROOT:  /home/eee/ug/15084015/kaggle/rsna-pneumonia-detection-challenge/data\n"
     ]
    }
   ],
   "source": [
    "from data.dataloader import provider\n",
    "# from utils.augmentations import *"
   ]
  },
  {
   "cell_type": "code",
   "execution_count": 3,
   "metadata": {
    "ExecuteTime": {
     "end_time": "2018-10-22T07:01:00.215150Z",
     "start_time": "2018-10-22T07:00:57.628475Z"
    }
   },
   "outputs": [],
   "source": [
    "df = pd.read_csv(\"../data/stage_1_train_labels.csv\")\n",
    "df_groups = df.groupby([\"patientId\"]).groups"
   ]
  },
  {
   "cell_type": "code",
   "execution_count": 4,
   "metadata": {
    "ExecuteTime": {
     "end_time": "2018-10-22T07:01:13.935103Z",
     "start_time": "2018-10-22T07:01:13.169047Z"
    }
   },
   "outputs": [],
   "source": [
    "dataloader = provider(phase='train', num_workers=4)"
   ]
  },
  {
   "cell_type": "code",
   "execution_count": 7,
   "metadata": {
    "ExecuteTime": {
     "end_time": "2018-10-22T06:51:56.123158Z",
     "start_time": "2018-10-22T06:51:56.113906Z"
    }
   },
   "outputs": [],
   "source": [
    "# dataloader = provider(phase='train', num_workers=0)\n",
    "# size=300\n",
    "# mean=(104, 117, 123)\n",
    "# transforms = [\n",
    "#     ConvertFromInts(),\n",
    "#     PhotometricDistort(),\n",
    "#     Expand(mean),\n",
    "# #     RandomSampleCrop(),\n",
    "#     RandomMirror(),\n",
    "#     ToPercentCoords(),\n",
    "#     Resize(300),\n",
    "#     SubtractMeans(mean)\n",
    "# ]\n",
    "\n",
    "# dataloader.dataset.transform.augment = Compose(transforms)"
   ]
  },
  {
   "cell_type": "code",
   "execution_count": 5,
   "metadata": {
    "ExecuteTime": {
     "end_time": "2018-10-22T07:03:01.332333Z",
     "start_time": "2018-10-22T07:01:30.458503Z"
    }
   },
   "outputs": [
    {
     "name": "stderr",
     "output_type": "stream",
     "text": [
      "/home/eee/ug/15084015/miniconda3/envs/ML/lib/python3.7/site-packages/imgaug/imgaug.py:2064: RuntimeWarning: invalid value encountered in sqrt\n",
      "  distance_maps = np.sqrt(distance_maps)\n",
      "/home/eee/ug/15084015/miniconda3/envs/ML/lib/python3.7/site-packages/imgaug/imgaug.py:2064: RuntimeWarning: invalid value encountered in sqrt\n",
      "  distance_maps = np.sqrt(distance_maps)\n",
      "/home/eee/ug/15084015/miniconda3/envs/ML/lib/python3.7/site-packages/imgaug/imgaug.py:2064: RuntimeWarning: invalid value encountered in sqrt\n",
      "  distance_maps = np.sqrt(distance_maps)\n",
      "/home/eee/ug/15084015/miniconda3/envs/ML/lib/python3.7/site-packages/imgaug/imgaug.py:2064: RuntimeWarning: invalid value encountered in sqrt\n",
      "  distance_maps = np.sqrt(distance_maps)\n",
      "Process Process-3:\n",
      "Traceback (most recent call last):\n",
      "  File \"../utils/aug_imgaug.py\", line 464, in __call__\n",
      "    aug_bbs = self.seq_det.augment_bounding_boxes([bbs])[0]\n",
      "  File \"/home/eee/ug/15084015/miniconda3/envs/ML/lib/python3.7/site-packages/imgaug/augmenters/meta.py\", line 907, in augment_bounding_boxes\n",
      "    kps_ois_aug = self.augment_keypoints(kps_ois, hooks=hooks)\n",
      "  File \"/home/eee/ug/15084015/miniconda3/envs/ML/lib/python3.7/site-packages/imgaug/augmenters/meta.py\", line 801, in augment_keypoints\n",
      "    hooks=hooks\n",
      "  File \"/home/eee/ug/15084015/miniconda3/envs/ML/lib/python3.7/site-packages/imgaug/augmenters/meta.py\", line 1800, in _augment_keypoints\n",
      "    hooks=hooks\n",
      "  File \"/home/eee/ug/15084015/miniconda3/envs/ML/lib/python3.7/site-packages/imgaug/augmenters/meta.py\", line 801, in augment_keypoints\n",
      "    hooks=hooks\n",
      "  File \"/home/eee/ug/15084015/miniconda3/envs/ML/lib/python3.7/site-packages/imgaug/augmenters/meta.py\", line 2123, in _augment_keypoints\n",
      "    hooks=hooks\n",
      "  File \"/home/eee/ug/15084015/miniconda3/envs/ML/lib/python3.7/site-packages/imgaug/augmenters/meta.py\", line 801, in augment_keypoints\n",
      "    hooks=hooks\n",
      "  File \"/home/eee/ug/15084015/miniconda3/envs/ML/lib/python3.7/site-packages/imgaug/augmenters/geometric.py\", line 1476, in _augment_keypoints\n",
      "    output_shape=(kpsoi.shape[0], kpsoi.shape[1], len(kpsoi.keypoints))\n",
      "  File \"/home/eee/ug/15084015/miniconda3/envs/ML/lib/python3.7/site-packages/skimage/transform/_warps.py\", line 887, in warp\n",
      "    coords = warp_coords(coord_map, output_shape)\n",
      "  File \"/home/eee/ug/15084015/miniconda3/envs/ML/lib/python3.7/site-packages/skimage/transform/_warps.py\", line 612, in warp_coords\n",
      "    coords[2, ...] = range(shape[2])\n",
      "KeyboardInterrupt\n",
      "\n",
      "During handling of the above exception, another exception occurred:\n",
      "\n",
      "Traceback (most recent call last):\n",
      "  File \"/home/eee/ug/15084015/miniconda3/envs/ML/lib/python3.7/multiprocessing/process.py\", line 297, in _bootstrap\n",
      "    self.run()\n",
      "  File \"/home/eee/ug/15084015/miniconda3/envs/ML/lib/python3.7/multiprocessing/process.py\", line 99, in run\n",
      "    self._target(*self._args, **self._kwargs)\n",
      "  File \"/home/eee/ug/15084015/miniconda3/envs/ML/lib/python3.7/site-packages/torch/utils/data/dataloader.py\", line 106, in _worker_loop\n",
      "    samples = collate_fn([dataset[i] for i in batch_indices])\n",
      "  File \"/home/eee/ug/15084015/miniconda3/envs/ML/lib/python3.7/site-packages/torch/utils/data/dataloader.py\", line 106, in <listcomp>\n",
      "    samples = collate_fn([dataset[i] for i in batch_indices])\n",
      "  File \"../data/dataloader.py\", line 88, in __getitem__\n",
      "    img, boxes, labels = self.transform(img, boxes, labels)\n",
      "  File \"../utils/aug_imgaug.py\", line 468, in __call__\n",
      "    traceback.print_exc()\n",
      "  File \"/home/eee/ug/15084015/miniconda3/envs/ML/lib/python3.7/traceback.py\", line 159, in print_exc\n",
      "    print_exception(*sys.exc_info(), limit=limit, file=file, chain=chain)\n",
      "  File \"/home/eee/ug/15084015/miniconda3/envs/ML/lib/python3.7/traceback.py\", line 100, in print_exception\n",
      "    type(value), value, tb, limit=limit).format(chain=chain):\n",
      "  File \"/home/eee/ug/15084015/miniconda3/envs/ML/lib/python3.7/traceback.py\", line 496, in __init__\n",
      "    capture_locals=capture_locals)\n",
      "  File \"/home/eee/ug/15084015/miniconda3/envs/ML/lib/python3.7/traceback.py\", line 357, in extract\n",
      "    f.line\n",
      "  File \"/home/eee/ug/15084015/miniconda3/envs/ML/lib/python3.7/codecs.py\", line 319, in decode\n",
      "    def decode(self, input, final=False):\n",
      "  File \"/home/eee/ug/15084015/miniconda3/envs/ML/lib/python3.7/traceback.py\", line 281, in line\n",
      "    self._line = linecache.getline(self.filename, self.lineno).strip()\n",
      "  File \"/home/eee/ug/15084015/miniconda3/envs/ML/lib/python3.7/linecache.py\", line 16, in getline\n",
      "    lines = getlines(filename, module_globals)\n",
      "  File \"/home/eee/ug/15084015/miniconda3/envs/ML/lib/python3.7/linecache.py\", line 47, in getlines\n",
      "    return updatecache(filename, module_globals)\n",
      "  File \"/home/eee/ug/15084015/miniconda3/envs/ML/lib/python3.7/linecache.py\", line 137, in updatecache\n",
      "    lines = fp.readlines()\n",
      "KeyboardInterrupt\n"
     ]
    }
   ],
   "source": [
    "fnames, images, boxes = next(iter(dataloader))\n",
    "index_range = iter(range(len(images)))"
   ]
  },
  {
   "cell_type": "code",
   "execution_count": 6,
   "metadata": {
    "ExecuteTime": {
     "end_time": "2018-10-22T07:03:18.543213Z",
     "start_time": "2018-10-22T07:03:18.512344Z"
    }
   },
   "outputs": [
    {
     "data": {
      "text/plain": [
       "[tensor([[ 0.,  0.,  0.,  0., -1.]]),\n",
       " tensor([[0.2031, 0.4424, 0.3643, 0.5664, 0.0000]]),\n",
       " tensor([[0.3018, 0.2168, 0.5205, 0.5820, 0.0000],\n",
       "         [0.6504, 0.3574, 0.8633, 0.6865, 0.0000]]),\n",
       " tensor([[ 0.,  0.,  0.,  0., -1.]]),\n",
       " tensor([[0.1582, 0.4688, 0.4551, 0.7363, 0.0000],\n",
       "         [0.5938, 0.4863, 0.9004, 0.7656, 0.0000]]),\n",
       " tensor([[ 0.,  0.,  0.,  0., -1.]]),\n",
       " tensor([[ 0.,  0.,  0.,  0., -1.]]),\n",
       " tensor([[0.6123, 0.2920, 0.8750, 0.6582, 0.0000],\n",
       "         [0.2080, 0.4385, 0.5107, 0.6094, 0.0000]])]"
      ]
     },
     "execution_count": 6,
     "metadata": {},
     "output_type": "execute_result"
    }
   ],
   "source": [
    "boxes"
   ]
  },
  {
   "cell_type": "code",
   "execution_count": 9,
   "metadata": {
    "ExecuteTime": {
     "end_time": "2018-10-22T06:41:11.812581Z",
     "start_time": "2018-10-22T06:41:11.803712Z"
    }
   },
   "outputs": [],
   "source": [
    "# images[i].shape\n",
    "# images[i].numpy().transpose(1,2,0) + np.array((104, 117, 123), dtype=np.float32)"
   ]
  },
  {
   "cell_type": "code",
   "execution_count": 16,
   "metadata": {
    "ExecuteTime": {
     "end_time": "2018-10-22T10:25:41.442935Z",
     "start_time": "2018-10-22T10:25:36.923438Z"
    }
   },
   "outputs": [
    {
     "ename": "StopIteration",
     "evalue": "",
     "output_type": "error",
     "traceback": [
      "\u001b[0;31m---------------------------------------------------------------------------\u001b[0m",
      "\u001b[0;31mStopIteration\u001b[0m                             Traceback (most recent call last)",
      "\u001b[0;32m<ipython-input-16-d7d96c34bca1>\u001b[0m in \u001b[0;36m<module>\u001b[0;34m()\u001b[0m\n\u001b[1;32m      1\u001b[0m \u001b[0;34m'''Plot random images from the dataloader with the original ground truth bboxes'''\u001b[0m\u001b[0;34m\u001b[0m\u001b[0m\n\u001b[1;32m      2\u001b[0m \u001b[0;31m# i = random.choice(list(range(len(images))))\u001b[0m\u001b[0;34m\u001b[0m\u001b[0;34m\u001b[0m\u001b[0m\n\u001b[0;32m----> 3\u001b[0;31m \u001b[0mi\u001b[0m \u001b[0;34m=\u001b[0m \u001b[0mnext\u001b[0m\u001b[0;34m(\u001b[0m\u001b[0mindex_range\u001b[0m\u001b[0;34m)\u001b[0m\u001b[0;34m\u001b[0m\u001b[0m\n\u001b[0m\u001b[1;32m      4\u001b[0m \u001b[0mprint\u001b[0m\u001b[0;34m(\u001b[0m\u001b[0mi\u001b[0m\u001b[0;34m,\u001b[0m \u001b[0mboxes\u001b[0m\u001b[0;34m[\u001b[0m\u001b[0mi\u001b[0m\u001b[0;34m]\u001b[0m\u001b[0;34m)\u001b[0m\u001b[0;34m\u001b[0m\u001b[0m\n\u001b[1;32m      5\u001b[0m \u001b[0mfig\u001b[0m \u001b[0;34m=\u001b[0m \u001b[0mplt\u001b[0m\u001b[0;34m.\u001b[0m\u001b[0mfigure\u001b[0m\u001b[0;34m(\u001b[0m\u001b[0mfigsize\u001b[0m\u001b[0;34m=\u001b[0m\u001b[0;34m(\u001b[0m\u001b[0;36m40\u001b[0m\u001b[0;34m,\u001b[0m \u001b[0;36m10\u001b[0m\u001b[0;34m)\u001b[0m\u001b[0;34m)\u001b[0m\u001b[0;34m\u001b[0m\u001b[0m\n",
      "\u001b[0;31mStopIteration\u001b[0m: "
     ]
    }
   ],
   "source": [
    "'''Plot random images from the dataloader with the original ground truth bboxes'''\n",
    "# i = random.choice(list(range(len(images))))\n",
    "i = next(index_range)\n",
    "print(i, boxes[i])\n",
    "fig = plt.figure(figsize=(40, 10))\n",
    "ax = fig.add_subplot(111)\n",
    "j = 0\n",
    "for box in boxes[i]:\n",
    "    box = [i.item() * 300 for i in box[:4]]\n",
    "#     print(box)\n",
    "    XMin, YMin, XMax, YMax = box\n",
    "    w = XMax - XMin\n",
    "    h = YMax - YMin\n",
    "    rect = plt.Rectangle((XMin, YMin), width=w, height=h, edgecolor='r', fill=None, linewidth=2)\n",
    "    ax.add_patch(rect)\n",
    "    j += 1\n",
    "img_aug = images[i].numpy().transpose(1,2,0) + np.array((104, 117, 123), dtype=np.float32)\n",
    "img_aug = img_aug.astype('int')\n",
    "ax.imshow(img_aug, cmap=\"gist_gray\", label=\"aug image\")\n",
    "\n",
    "\n",
    "ax = fig.add_subplot(122)\n",
    "# print(fnames[i])\n",
    "gt_boxes = []\n",
    "indices = df_groups[fnames[i]]\n",
    "for idx in indices:\n",
    "    line = df.iloc[idx]\n",
    "    x, y = line[\"x\"], line[\"y\"]\n",
    "    if line[\"Target\"]:\n",
    "        gt_boxes.append([x, y, (x + line[\"width\"]), (y + line[\"height\"])])\n",
    "img = pydicom.read_file('../data/stage_1_train_images/' + fnames[i] + \".dcm\")\n",
    "img = np.expand_dims(img.pixel_array, -1)\n",
    "img = img.repeat(3, axis=-1)\n",
    "for box in gt_boxes:\n",
    "    XMin, YMin, XMax, YMax = box\n",
    "    w = XMax - XMin\n",
    "    h = YMax - YMin\n",
    "    rect = plt.Rectangle((XMin, YMin), width=w, height=h, edgecolor='r', fill=None, linewidth=2)\n",
    "    ax.add_patch(rect)\n",
    "    j += 1\n",
    "ax.imshow(img / 255, cmap=\"gist_gray\", label=\"org image\")\n",
    "plt.show()"
   ]
  },
  {
   "cell_type": "code",
   "execution_count": null,
   "metadata": {},
   "outputs": [],
   "source": []
  },
  {
   "cell_type": "code",
   "execution_count": null,
   "metadata": {},
   "outputs": [],
   "source": []
  },
  {
   "cell_type": "code",
   "execution_count": null,
   "metadata": {},
   "outputs": [],
   "source": []
  },
  {
   "cell_type": "code",
   "execution_count": null,
   "metadata": {},
   "outputs": [],
   "source": []
  },
  {
   "cell_type": "code",
   "execution_count": null,
   "metadata": {},
   "outputs": [],
   "source": []
  },
  {
   "cell_type": "code",
   "execution_count": 16,
   "metadata": {
    "ExecuteTime": {
     "end_time": "2018-10-22T06:54:37.530125Z",
     "start_time": "2018-10-22T06:54:37.426375Z"
    }
   },
   "outputs": [],
   "source": [
    "iaa.Affine?"
   ]
  },
  {
   "cell_type": "code",
   "execution_count": null,
   "metadata": {
    "ExecuteTime": {
     "end_time": "2018-10-08T13:10:19.660235Z",
     "start_time": "2018-10-08T13:10:19.588027Z"
    }
   },
   "outputs": [],
   "source": [
    "np.max(images[i].numpy().transpose(1,2,0))"
   ]
  },
  {
   "cell_type": "code",
   "execution_count": null,
   "metadata": {
    "ExecuteTime": {
     "end_time": "2018-10-08T13:12:51.563641Z",
     "start_time": "2018-10-08T13:12:38.837434Z"
    }
   },
   "outputs": [],
   "source": [
    "import imgaug as ia\n",
    "from imgaug import augmenters as iaa\n",
    "\n",
    "ia.seed(1)\n"
   ]
  },
  {
   "cell_type": "code",
   "execution_count": null,
   "metadata": {
    "ExecuteTime": {
     "end_time": "2018-10-08T13:27:54.263317Z",
     "start_time": "2018-10-08T13:27:54.216278Z"
    }
   },
   "outputs": [],
   "source": [
    "ia.BoundingBoxesOnImage?"
   ]
  },
  {
   "cell_type": "code",
   "execution_count": null,
   "metadata": {
    "ExecuteTime": {
     "end_time": "2018-10-08T13:37:02.314910Z",
     "start_time": "2018-10-08T13:37:02.047441Z"
    }
   },
   "outputs": [],
   "source": [
    "\n",
    "image = ia.quokka(size=(256, 256))\n",
    "bbs = ia.BoundingBoxesOnImage([ia.BoundingBox(*[0, 0, 1, 1])], shape=image.shape)\n",
    "\n",
    "seq = iaa.Sequential([\n",
    "    iaa.Multiply((1.2, 1.5)), # change brightness, doesn't affect BBs\n",
    "    iaa.Affine(\n",
    "        translate_px={\"x\": 40, \"y\": 60},\n",
    "        scale=(0.5, 0.7)\n",
    "    ) # translate by 40/60px on x/y axis, and scale to 50-70%, affects BBs\n",
    "])\n",
    "\n",
    "seq_det = seq.to_deterministic()\n",
    "image_aug = seq_det.augment_images([image])[0]\n",
    "bbs_aug = seq_det.augment_bounding_boxes([bbs])[0]\n",
    "\n",
    "# print coordinates before/after augmentation (see below)\n",
    "# use .x1_int, .y_int, ... to get integer coordinates\n",
    "for i in range(len(bbs.bounding_boxes)):\n",
    "    before = bbs.bounding_boxes[i]\n",
    "    after = bbs_aug.bounding_boxes[i]\n",
    "    print(\"BB %d: (%.4f, %.4f, %.4f, %.4f) -> (%.4f, %.4f, %.4f, %.4f)\" % (\n",
    "        i,\n",
    "        before.x1, before.y1, before.x2, before.y2,\n",
    "        after.x1, after.y1, after.x2, after.y2)\n",
    "    )\n",
    "\n",
    "# image with BBs before/after augmentation (shown below)\n",
    "image_before = bbs.draw_on_image(image, thickness=2)\n",
    "image_after = bbs_aug.draw_on_image(image_aug, thickness=2, color=[0, 0, 255])\n"
   ]
  },
  {
   "cell_type": "code",
   "execution_count": null,
   "metadata": {
    "ExecuteTime": {
     "end_time": "2018-10-22T06:13:43.677493Z",
     "start_time": "2018-10-22T06:13:43.580652Z"
    }
   },
   "outputs": [],
   "source": [
    "bbs_aug."
   ]
  },
  {
   "cell_type": "code",
   "execution_count": null,
   "metadata": {
    "ExecuteTime": {
     "end_time": "2018-10-08T13:37:13.461368Z",
     "start_time": "2018-10-08T13:37:11.833981Z"
    }
   },
   "outputs": [],
   "source": [
    "plt.imshow(image_after)"
   ]
  },
  {
   "cell_type": "code",
   "execution_count": null,
   "metadata": {
    "ExecuteTime": {
     "end_time": "2018-10-08T12:49:53.542205Z",
     "start_time": "2018-10-08T12:49:53.522282Z"
    }
   },
   "outputs": [],
   "source": []
  },
  {
   "cell_type": "markdown",
   "metadata": {
    "heading_collapsed": true
   },
   "source": [
    "## Prepare VOC formatted dataset"
   ]
  },
  {
   "cell_type": "code",
   "execution_count": null,
   "metadata": {
    "hidden": true
   },
   "outputs": [],
   "source": [
    "from pascal_voc_writer import Writer\n",
    "import random\n",
    "import numpy as np\n",
    "import pandas as pd\n",
    "from tqdm import tqdm\n",
    "import matplotlib.pyplot as plt\n",
    "import matplotlib.image as mpimg\n",
    "from collections import defaultdict\n",
    "%matplotlib inline"
   ]
  },
  {
   "cell_type": "code",
   "execution_count": null,
   "metadata": {
    "hidden": true
   },
   "outputs": [],
   "source": [
    "root = '/home/eee/ug/15084015/ML/codefest/data/'\n",
    "image_data_root = '/home/eee/ug/15084015/ML/codefest/data/image_data/'"
   ]
  },
  {
   "cell_type": "code",
   "execution_count": null,
   "metadata": {
    "hidden": true
   },
   "outputs": [],
   "source": [
    "'''Prepare xml annotations using bbox_train.csv file'''\n",
    "\n",
    "image_root = 'VOCFace/JPEGImages/'\n",
    "annotations_root = 'VOCFace/Annotations/'\n",
    "\n",
    "df = pd.read_csv(root + \"train.csv\")\n",
    "box_df = pd.read_csv(root + \"bbox_train.csv\")\n",
    "fnames = df[\"Name\"].values\n",
    "box_df_groups = box_df.groupby([\"Name\"]).groups\n",
    "\n",
    "for name in tqdm(fnames):\n",
    "    indices = box_df_groups[name]\n",
    "    width = box_df.iloc[indices[0]]['width']\n",
    "    height = box_df.iloc[indices[0]]['height']\n",
    "    writer = Writer(image_root + '17182.jpg', width, height)\n",
    "    for idx in indices:\n",
    "        line = box_df.iloc[idx]\n",
    "        writer.addObject('face', line[\"xmin\"], line[\"ymin\"], line[\"xmax\"], line[\"ymax\"])\n",
    "    writer.save(annotations_root + name.split('.')[0] + '.xml')"
   ]
  },
  {
   "cell_type": "code",
   "execution_count": null,
   "metadata": {
    "hidden": true
   },
   "outputs": [],
   "source": [
    "'''Create trainval.txt file too '''\n",
    "fnames_clean = [x.split('.')[0] for x in fnames]\n",
    "trainvalfile = open('VOCFace/ImageSets/Main/trainval.txt', 'w')\n",
    "for item in fnames_clean:\n",
    "    trainvalfile.write(\"%s\\n\" % item)"
   ]
  },
  {
   "cell_type": "code",
   "execution_count": null,
   "metadata": {
    "hidden": true
   },
   "outputs": [],
   "source": []
  },
  {
   "cell_type": "code",
   "execution_count": null,
   "metadata": {
    "hidden": true
   },
   "outputs": [],
   "source": []
  }
 ],
 "metadata": {
  "kernelspec": {
   "display_name": "ML",
   "language": "python",
   "name": "ml"
  },
  "language_info": {
   "codemirror_mode": {
    "name": "ipython",
    "version": 3
   },
   "file_extension": ".py",
   "mimetype": "text/x-python",
   "name": "python",
   "nbconvert_exporter": "python",
   "pygments_lexer": "ipython3",
   "version": "3.7.0"
  }
 },
 "nbformat": 4,
 "nbformat_minor": 2
}
