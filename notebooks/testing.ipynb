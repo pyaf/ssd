{
 "cells": [
  {
   "cell_type": "code",
   "execution_count": 1,
   "metadata": {
    "ExecuteTime": {
     "end_time": "2018-10-24T13:25:19.718674Z",
     "start_time": "2018-10-24T13:25:17.142566Z"
    }
   },
   "outputs": [
    {
     "name": "stderr",
     "output_type": "stream",
     "text": [
      "UsageError: unrecognized arguments: # has to be rerun for real time plotting (nonsense, i know)\n"
     ]
    }
   ],
   "source": [
    "# import sys\n",
    "# sys.path.append('..')\n",
    "# # sys.path.append('../functions')\n",
    "import os\n",
    "import time\n",
    "\n",
    "import torch\n",
    "import random\n",
    "import numpy as np\n",
    "import pandas as pd\n",
    "from tqdm import tqdm\n",
    "import matplotlib.pyplot as plt\n",
    "import matplotlib.image as mpimg\n",
    "from collections import defaultdict\n",
    "from sklearn.model_selection import train_test_split\n",
    "import pydicom\n",
    "os.environ['CUDA_VISIBLE_DEVICES']=\"None\"\n",
    "HOME = os.path.dirname(os.path.abspath(os.curdir))\n",
    "\n",
    "%matplotlib inline"
   ]
  },
  {
   "cell_type": "markdown",
   "metadata": {
    "heading_collapsed": true
   },
   "source": [
    "## saving npy files"
   ]
  },
  {
   "cell_type": "code",
   "execution_count": null,
   "metadata": {
    "hidden": true
   },
   "outputs": [],
   "source": [
    "arr = [1,3,4,5]"
   ]
  },
  {
   "cell_type": "code",
   "execution_count": null,
   "metadata": {
    "hidden": true
   },
   "outputs": [],
   "source": [
    "np.save('data/test.npy', np.array(arr).astype(np.float32))"
   ]
  },
  {
   "cell_type": "code",
   "execution_count": null,
   "metadata": {
    "hidden": true
   },
   "outputs": [],
   "source": [
    "arr_l = np.load('data/test.npy')"
   ]
  },
  {
   "cell_type": "code",
   "execution_count": null,
   "metadata": {
    "hidden": true
   },
   "outputs": [],
   "source": [
    "arr_l"
   ]
  },
  {
   "cell_type": "code",
   "execution_count": null,
   "metadata": {
    "hidden": true
   },
   "outputs": [],
   "source": [
    "os.path.exists('data')"
   ]
  },
  {
   "cell_type": "code",
   "execution_count": null,
   "metadata": {
    "hidden": true
   },
   "outputs": [],
   "source": [
    "fnames = np.load('data/npy_data/train_fnames.npy')"
   ]
  },
  {
   "cell_type": "code",
   "execution_count": null,
   "metadata": {
    "hidden": true
   },
   "outputs": [],
   "source": [
    "fnames.shape"
   ]
  },
  {
   "cell_type": "markdown",
   "metadata": {
    "heading_collapsed": true
   },
   "source": [
    "## tesing train test split bug"
   ]
  },
  {
   "cell_type": "code",
   "execution_count": null,
   "metadata": {
    "hidden": true
   },
   "outputs": [],
   "source": []
  },
  {
   "cell_type": "code",
   "execution_count": null,
   "metadata": {
    "hidden": true
   },
   "outputs": [],
   "source": []
  },
  {
   "cell_type": "code",
   "execution_count": null,
   "metadata": {
    "hidden": true
   },
   "outputs": [],
   "source": [
    "df = pd.read_csv(\"data/stage_1_train_labels.csv\")\n",
    "class_df = pd.read_csv('data/stage_1_detailed_class_info.csv')\n",
    "# df = df[df[\"Target\"] == 0]\n",
    "# df.reset_index(drop=True, inplace=True)\n",
    "# df_groups = df.groupby([\"patientId\"]).groups\n",
    "# fnames = list(df_groups.keys())\n"
   ]
  },
  {
   "cell_type": "code",
   "execution_count": null,
   "metadata": {
    "hidden": true
   },
   "outputs": [],
   "source": [
    "class_df.head(10)"
   ]
  },
  {
   "cell_type": "code",
   "execution_count": null,
   "metadata": {
    "hidden": true
   },
   "outputs": [],
   "source": [
    "df.head()"
   ]
  },
  {
   "cell_type": "code",
   "execution_count": null,
   "metadata": {
    "hidden": true
   },
   "outputs": [],
   "source": [
    "# df['class'] = df.apply(lambda x: class_df[class_df['patientId'] == x]['class'])\n",
    "df['class'] = class_df['class']"
   ]
  },
  {
   "cell_type": "code",
   "execution_count": null,
   "metadata": {
    "hidden": true
   },
   "outputs": [],
   "source": [
    "df.head(10)"
   ]
  },
  {
   "cell_type": "code",
   "execution_count": null,
   "metadata": {
    "hidden": true
   },
   "outputs": [],
   "source": []
  },
  {
   "cell_type": "code",
   "execution_count": null,
   "metadata": {
    "hidden": true
   },
   "outputs": [],
   "source": [
    "image_df = df.groupby('patientId').apply(lambda x: x.sample(1))"
   ]
  },
  {
   "cell_type": "code",
   "execution_count": null,
   "metadata": {
    "hidden": true
   },
   "outputs": [],
   "source": [
    "image_df.head(10)"
   ]
  },
  {
   "cell_type": "code",
   "execution_count": null,
   "metadata": {
    "hidden": true
   },
   "outputs": [],
   "source": [
    "image_df.sample?"
   ]
  },
  {
   "cell_type": "code",
   "execution_count": null,
   "metadata": {
    "hidden": true
   },
   "outputs": [],
   "source": [
    "image_df.shape"
   ]
  },
  {
   "cell_type": "code",
   "execution_count": null,
   "metadata": {
    "hidden": true
   },
   "outputs": [],
   "source": [
    "raw_train_df, valid_df = train_test_split(image_df, test_size=0.1, random_state=2018, stratify=image_df['class'])\n",
    "print(raw_train_df.shape, 'training data')\n",
    "print(valid_df.shape, 'validation data')"
   ]
  },
  {
   "cell_type": "code",
   "execution_count": null,
   "metadata": {
    "hidden": true
   },
   "outputs": [],
   "source": [
    "raw_train_df.head()"
   ]
  },
  {
   "cell_type": "code",
   "execution_count": null,
   "metadata": {
    "hidden": true
   },
   "outputs": [],
   "source": [
    "raw_train_df['class'].value_counts()"
   ]
  },
  {
   "cell_type": "code",
   "execution_count": null,
   "metadata": {
    "hidden": true
   },
   "outputs": [],
   "source": [
    "valid_df['class'].value_counts()"
   ]
  },
  {
   "cell_type": "code",
   "execution_count": null,
   "metadata": {
    "hidden": true
   },
   "outputs": [],
   "source": [
    "tf = list(raw_train_df.patientId)\n",
    "vf = list(valid_df.patientId)"
   ]
  },
  {
   "cell_type": "code",
   "execution_count": null,
   "metadata": {
    "hidden": true
   },
   "outputs": [],
   "source": [
    "len(tf), len(vf)"
   ]
  },
  {
   "cell_type": "code",
   "execution_count": null,
   "metadata": {
    "hidden": true
   },
   "outputs": [],
   "source": [
    "tf[:4]"
   ]
  },
  {
   "cell_type": "code",
   "execution_count": null,
   "metadata": {
    "hidden": true
   },
   "outputs": [],
   "source": [
    "'''Check if tf and vf are mutually exclusive'''\n",
    "print(len(tf + vf) == image_df.shape[0])\n",
    "len(set(tf + vf)) == len(tf) + len(vf)"
   ]
  },
  {
   "cell_type": "code",
   "execution_count": null,
   "metadata": {
    "hidden": true
   },
   "outputs": [],
   "source": [
    "len(tf), len(vf)"
   ]
  },
  {
   "cell_type": "markdown",
   "metadata": {
    "hidden": true
   },
   "source": [
    "##### sanity check"
   ]
  },
  {
   "cell_type": "code",
   "execution_count": null,
   "metadata": {
    "hidden": true
   },
   "outputs": [],
   "source": [
    "train_fnames = np.load('data/npy_data/train_fnames.npy')\n",
    "val_fnames = np.load('data/npy_data/val_fnames.npy')"
   ]
  },
  {
   "cell_type": "code",
   "execution_count": null,
   "metadata": {
    "hidden": true
   },
   "outputs": [],
   "source": [
    "len(train_fnames), len(val_fnames), (len(set(list(train_fnames) + list(val_fnames))) == len(train_fnames) + len(val_fnames))"
   ]
  },
  {
   "cell_type": "code",
   "execution_count": null,
   "metadata": {
    "hidden": true
   },
   "outputs": [],
   "source": [
    "tl = np.load('data/npy_data/train_labels.npy')\n",
    "vl = np.load('data/npy_data/val_labels.npy')"
   ]
  },
  {
   "cell_type": "code",
   "execution_count": null,
   "metadata": {
    "hidden": true
   },
   "outputs": [],
   "source": [
    "np.unique(tl, return_counts=True)"
   ]
  },
  {
   "cell_type": "code",
   "execution_count": null,
   "metadata": {
    "hidden": true
   },
   "outputs": [],
   "source": [
    "np.unique(vl, return_counts=True)"
   ]
  },
  {
   "cell_type": "code",
   "execution_count": null,
   "metadata": {
    "hidden": true
   },
   "outputs": [],
   "source": []
  },
  {
   "cell_type": "code",
   "execution_count": null,
   "metadata": {
    "hidden": true
   },
   "outputs": [],
   "source": []
  },
  {
   "cell_type": "markdown",
   "metadata": {
    "heading_collapsed": true
   },
   "source": [
    "## class analysis of the boxes"
   ]
  },
  {
   "cell_type": "code",
   "execution_count": null,
   "metadata": {
    "hidden": true
   },
   "outputs": [],
   "source": [
    "class_df = pd.read_csv('data/stage_1_detailed_class_info.csv')"
   ]
  },
  {
   "cell_type": "code",
   "execution_count": null,
   "metadata": {
    "hidden": true
   },
   "outputs": [],
   "source": [
    "class_df.head()"
   ]
  },
  {
   "cell_type": "code",
   "execution_count": null,
   "metadata": {
    "hidden": true
   },
   "outputs": [],
   "source": [
    "class_df.groupby('class').groups"
   ]
  },
  {
   "cell_type": "code",
   "execution_count": null,
   "metadata": {
    "hidden": true
   },
   "outputs": [],
   "source": [
    "class_df.head(10)()"
   ]
  },
  {
   "cell_type": "code",
   "execution_count": null,
   "metadata": {
    "hidden": true
   },
   "outputs": [],
   "source": [
    "train_df = pd.read_csv('data/stage_1_train_labels.csv')\n",
    "train_df.head(10)"
   ]
  },
  {
   "cell_type": "code",
   "execution_count": null,
   "metadata": {
    "hidden": true
   },
   "outputs": [],
   "source": [
    "train_df.shape, class_df.shape"
   ]
  },
  {
   "cell_type": "code",
   "execution_count": null,
   "metadata": {
    "hidden": true
   },
   "outputs": [],
   "source": [
    "grp = class_df.groupby([\"patientId\"]).groups"
   ]
  },
  {
   "cell_type": "code",
   "execution_count": null,
   "metadata": {
    "hidden": true
   },
   "outputs": [],
   "source": [
    "class_df.iloc[12790]['class']"
   ]
  },
  {
   "cell_type": "code",
   "execution_count": null,
   "metadata": {
    "hidden": true
   },
   "outputs": [],
   "source": [
    "class_df['class'].nunique()"
   ]
  },
  {
   "cell_type": "code",
   "execution_count": null,
   "metadata": {
    "hidden": true
   },
   "outputs": [],
   "source": [
    "class_df.groupby([\"class\"]).nunique()"
   ]
  },
  {
   "cell_type": "code",
   "execution_count": null,
   "metadata": {
    "hidden": true
   },
   "outputs": [],
   "source": []
  },
  {
   "cell_type": "code",
   "execution_count": null,
   "metadata": {
    "hidden": true
   },
   "outputs": [],
   "source": []
  },
  {
   "cell_type": "markdown",
   "metadata": {},
   "source": [
    "## Analysing ground truth bboxes"
   ]
  },
  {
   "cell_type": "code",
   "execution_count": 16,
   "metadata": {
    "ExecuteTime": {
     "end_time": "2018-10-24T09:20:38.951410Z",
     "start_time": "2018-10-24T09:20:05.620494Z"
    }
   },
   "outputs": [
    {
     "name": "stdout",
     "output_type": "stream",
     "text": [
      "Reading, gouping, spliting data...\n"
     ]
    }
   ],
   "source": [
    "DATA_ROOT = os.path.join(HOME, \"data\")\n",
    "print('Reading, gouping, spliting data...')\n",
    "df = pd.read_csv(os.path.join(DATA_ROOT, \"stage_1_train_labels.csv\"))\n",
    "df_groupby = df.groupby(\"patientId\")\n",
    "df_groups = df_groupby.groups\n",
    "image_df = df_groupby.apply(lambda x: x.sample(1))\n",
    "fnames = image_df.patientId"
   ]
  },
  {
   "cell_type": "code",
   "execution_count": 17,
   "metadata": {
    "ExecuteTime": {
     "end_time": "2018-10-24T09:21:32.778447Z",
     "start_time": "2018-10-24T09:21:17.113125Z"
    }
   },
   "outputs": [
    {
     "name": "stderr",
     "output_type": "stream",
     "text": [
      "100%|██████████| 25684/25684 [00:15<00:00, 1647.10it/s]\n"
     ]
    }
   ],
   "source": [
    "labels, boxes = [], []\n",
    "widths, heights = [], []\n",
    "for name in tqdm(fnames):\n",
    "    indices = df_groups[name]\n",
    "    box, label = [], []\n",
    "    for idx in indices:\n",
    "        line = df.iloc[idx]\n",
    "        if line[\"Target\"]:\n",
    "            x, y, w, h = line[\"x\"], line[\"y\"], line[\"width\"], line[\"height\"]\n",
    "            boxes.append([x, y, (x + w), (y + h)])\n",
    "            widths.append(w)\n",
    "            heights.append(h)\n",
    "boxes = np.array(boxes) * 300/1024\n",
    "widths = np.array(widths) * 300/1024\n",
    "heights = np.array(heights) * 300/1024\n",
    "\n",
    "#Note: GT boxes are in scale of 1024, need to be converted to 300 scale and are of format x,y,x,y (NOT THE CASE WITH PRIOR BOXES)"
   ]
  },
  {
   "cell_type": "code",
   "execution_count": 18,
   "metadata": {
    "ExecuteTime": {
     "end_time": "2018-10-24T09:21:40.264037Z",
     "start_time": "2018-10-24T09:21:40.238850Z"
    }
   },
   "outputs": [
    {
     "data": {
      "text/plain": [
       "(11.71875, 154.6875, 13.18359375, 275.9765625)"
      ]
     },
     "execution_count": 18,
     "metadata": {},
     "output_type": "execute_result"
    }
   ],
   "source": [
    "min(widths), max(widths), min(heights), max(heights)"
   ]
  },
  {
   "cell_type": "code",
   "execution_count": 37,
   "metadata": {
    "ExecuteTime": {
     "end_time": "2018-10-24T09:46:50.531295Z",
     "start_time": "2018-10-24T09:46:50.517268Z"
    }
   },
   "outputs": [],
   "source": [
    "np.digitize?"
   ]
  },
  {
   "cell_type": "code",
   "execution_count": 21,
   "metadata": {
    "ExecuteTime": {
     "end_time": "2018-10-24T13:29:28.325990Z",
     "start_time": "2018-10-24T13:29:28.299356Z"
    }
   },
   "outputs": [],
   "source": [
    "def digitize(data):\n",
    "    bins = np.array([x * 10 for x in range(31)])  # upto 30 because of the image size, more higher values can be choosen\n",
    "    dig = np.digitize(data, bins) - 1 # -1 because digitize returns the index of where it is larger than the value in bins\n",
    "    return bins[dig]"
   ]
  },
  {
   "cell_type": "code",
   "execution_count": 20,
   "metadata": {
    "ExecuteTime": {
     "end_time": "2018-10-24T09:21:43.183604Z",
     "start_time": "2018-10-24T09:21:43.170842Z"
    }
   },
   "outputs": [],
   "source": [
    "dig_widths = digitize(widths)\n",
    "dig_heights = digitize(heights)\n",
    "height_unique, height_counts = np.unique(dig_heights, return_counts=True)\n",
    "width_unique, width_counts = np.unique(dig_widths, return_counts=True)"
   ]
  },
  {
   "cell_type": "code",
   "execution_count": 21,
   "metadata": {
    "ExecuteTime": {
     "end_time": "2018-10-24T09:21:52.431465Z",
     "start_time": "2018-10-24T09:21:51.623678Z"
    }
   },
   "outputs": [
    {
     "data": {
      "image/png": "[encoded data removed]",
      "text/plain": [
       "<Figure size 1440x360 with 1 Axes>"
      ]
     },
     "metadata": {},
     "output_type": "display_data"
    }
   ],
   "source": [
    "''' GT box widths vs Counts'''\n",
    "fig, ax = plt.subplots(figsize=(20, 5))\n",
    "plt.bar(width_unique, width_counts, width=8);"
   ]
  },
  {
   "cell_type": "code",
   "execution_count": 22,
   "metadata": {
    "ExecuteTime": {
     "end_time": "2018-10-24T09:21:56.589658Z",
     "start_time": "2018-10-24T09:21:55.844804Z"
    }
   },
   "outputs": [
    {
     "data": {
      "image/png": "[encoded data removed]",
      "text/plain": [
       "<Figure size 1440x360 with 1 Axes>"
      ]
     },
     "metadata": {},
     "output_type": "display_data"
    }
   ],
   "source": [
    "''' GT box heights vs Counts'''\n",
    "fig, ax = plt.subplots(figsize=(20, 5))\n",
    "plt.bar(height_unique, height_counts, width=8);"
   ]
  },
  {
   "cell_type": "markdown",
   "metadata": {},
   "source": [
    "#### Note: aspect ratio = w / h, we need priors with aspect ratios less than one."
   ]
  },
  {
   "cell_type": "code",
   "execution_count": 23,
   "metadata": {
    "ExecuteTime": {
     "end_time": "2018-10-24T09:22:28.938310Z",
     "start_time": "2018-10-24T09:21:56.594958Z"
    }
   },
   "outputs": [
    {
     "name": "stderr",
     "output_type": "stream",
     "text": [
      "100%|██████████| 8964/8964 [00:15<00:00, 580.88it/s]\n"
     ]
    },
    {
     "data": {
      "image/png": "[encoded data removed]",
      "text/plain": [
       "<Figure size 720x720 with 1 Axes>"
      ]
     },
     "metadata": {},
     "output_type": "display_data"
    }
   ],
   "source": [
    "'''Let's plot all the bounding boxes on a canvas '''\n",
    "canvas = np.ones([300, 300])\n",
    "colors = ['b', 'g', 'r', 'c', 'm', 'y', 'k']\n",
    "fig, ax = plt.subplots(figsize=(10, 10))\n",
    "for box in tqdm(boxes):\n",
    "    x1, y1, x2, y2 = box\n",
    "    rect = plt.Rectangle((x1, y1), width=x2-x1, height=y2-y1, edgecolor=random.choice(colors), fill=None, linewidth=2)\n",
    "    ax.add_patch(rect)\n",
    "ax.imshow(canvas, cmap='binary')\n",
    "plt.show();"
   ]
  },
  {
   "cell_type": "code",
   "execution_count": null,
   "metadata": {},
   "outputs": [],
   "source": []
  },
  {
   "cell_type": "code",
   "execution_count": 25,
   "metadata": {
    "ExecuteTime": {
     "end_time": "2018-10-24T09:22:31.912806Z",
     "start_time": "2018-10-24T09:22:29.777302Z"
    }
   },
   "outputs": [
    {
     "name": "stderr",
     "output_type": "stream",
     "text": [
      "100%|██████████| 8964/8964 [00:00<00:00, 289075.53it/s]\n"
     ]
    },
    {
     "data": {
      "image/png": "[encoded data removed]",
      "text/plain": [
       "<Figure size 720x720 with 1 Axes>"
      ]
     },
     "metadata": {},
     "output_type": "display_data"
    }
   ],
   "source": [
    "'''Ploting centroids as dots on a canvas'''\n",
    "canvas = np.ones([300, 300])\n",
    "colors = ['b', 'g', 'r', 'c', 'm', 'y', 'k']\n",
    "fig, ax = plt.subplots(figsize=(10, 10))\n",
    "xs, ys = [], []\n",
    "for box in tqdm(boxes):\n",
    "    x1, y1, x2, y2 = box\n",
    "    x, y = (x1 + x2) /2, (y1 + y2) / 2\n",
    "    xs.append(x)\n",
    "    ys.append(y)\n",
    "ax.imshow(canvas, cmap='binary')\n",
    "ax.scatter(xs, ys)\n",
    "plt.show();"
   ]
  },
  {
   "cell_type": "code",
   "execution_count": null,
   "metadata": {},
   "outputs": [],
   "source": [
    "'''See variation in aspect ratios'''"
   ]
  },
  {
   "cell_type": "code",
   "execution_count": 100,
   "metadata": {
    "ExecuteTime": {
     "end_time": "2018-10-24T12:41:59.038335Z",
     "start_time": "2018-10-24T12:41:58.957861Z"
    }
   },
   "outputs": [],
   "source": [
    "ARs = set()\n",
    "for box in boxes:\n",
    "    x1, y1, x2, y2 = box\n",
    "    ARs.add((x2-x1) / (y2-y1))"
   ]
  },
  {
   "cell_type": "code",
   "execution_count": 101,
   "metadata": {
    "ExecuteTime": {
     "end_time": "2018-10-24T12:42:00.244091Z",
     "start_time": "2018-10-24T12:42:00.229613Z"
    }
   },
   "outputs": [
    {
     "data": {
      "text/plain": [
       "{0.3333333088620393,\n",
       " 0.33333334067472176,\n",
       " 0.33333336086354115,\n",
       " 0.5,\n",
       " 1.0,\n",
       " 2.0,\n",
       " 2.9999997522281503,\n",
       " 2.999999933927506,\n",
       " 3.0000002202416622}"
      ]
     },
     "execution_count": 101,
     "metadata": {},
     "output_type": "execute_result"
    }
   ],
   "source": [
    "ARs"
   ]
  },
  {
   "cell_type": "markdown",
   "metadata": {},
   "source": [
    "#### NOTE: It can be seen, the ground truth bboxes have a fixed set of Aspect ratios: 1/3, 1/2, 1, 2, 3"
   ]
  },
  {
   "cell_type": "markdown",
   "metadata": {},
   "source": [
    "## Analysing anchor boxes (priors) "
   ]
  },
  {
   "cell_type": "code",
   "execution_count": 4,
   "metadata": {
    "ExecuteTime": {
     "end_time": "2018-10-24T09:14:35.554220Z",
     "start_time": "2018-10-24T09:14:35.498246Z"
    }
   },
   "outputs": [
    {
     "name": "stdout",
     "output_type": "stream",
     "text": [
      "HOME: /home/eee/ug/15084015/kaggle/rsna-pneumonia-detection-challenge\n"
     ]
    }
   ],
   "source": [
    "import sys\n",
    "sys.path.append('..')\n",
    "from functions import PriorBox\n",
    "from config import cfg"
   ]
  },
  {
   "cell_type": "code",
   "execution_count": 5,
   "metadata": {
    "ExecuteTime": {
     "end_time": "2018-10-24T09:14:36.321370Z",
     "start_time": "2018-10-24T09:14:36.308670Z"
    }
   },
   "outputs": [],
   "source": [
    "priors = PriorBox(cfg).forward() * 300"
   ]
  },
  {
   "cell_type": "code",
   "execution_count": 72,
   "metadata": {
    "ExecuteTime": {
     "end_time": "2018-10-24T14:21:23.025043Z",
     "start_time": "2018-10-24T14:21:22.501648Z"
    }
   },
   "outputs": [
    {
     "name": "stderr",
     "output_type": "stream",
     "text": [
      "100%|██████████| 9695/9695 [00:00<00:00, 22277.70it/s]\n"
     ]
    }
   ],
   "source": [
    "labels, boxes = [], []\n",
    "widths, heights = [], []\n",
    "for box in tqdm(priors):\n",
    "    x, y, w, h = [i.item() for i in box]  # box is a torch tensor\n",
    "    boxes.append([x, y, (x + w), (y + h)])\n",
    "    widths.append(w)\n",
    "    heights.append(h)\n",
    "    \n",
    "# these don't need to be multiplied by 300/ 1024, as these are already in 300 scale\n",
    "boxes = np.array(boxes)\n",
    "widths = np.array(widths)\n",
    "heights = np.array(heights)"
   ]
  },
  {
   "cell_type": "code",
   "execution_count": 73,
   "metadata": {
    "ExecuteTime": {
     "end_time": "2018-10-24T14:21:23.191934Z",
     "start_time": "2018-10-24T14:21:23.099390Z"
    }
   },
   "outputs": [
    {
     "data": {
      "text/plain": [
       "(34.64101791381836, 311.7691345214844, 34.64101791381836, 311.7691345214844)"
      ]
     },
     "execution_count": 73,
     "metadata": {},
     "output_type": "execute_result"
    }
   ],
   "source": [
    "min(widths), max(widths), min(heights), max(heights)"
   ]
  },
  {
   "cell_type": "code",
   "execution_count": 74,
   "metadata": {
    "ExecuteTime": {
     "end_time": "2018-10-24T14:21:23.757901Z",
     "start_time": "2018-10-24T14:21:23.722069Z"
    }
   },
   "outputs": [],
   "source": [
    "dig_widths = digitize(widths)  # defined in 'Analyse Ground truth bbox section'\n",
    "dig_heights = digitize(heights)\n",
    "height_unique, height_counts = np.unique(dig_heights, return_counts=True)\n",
    "width_unique, width_counts = np.unique(dig_widths, return_counts=True)"
   ]
  },
  {
   "cell_type": "code",
   "execution_count": 75,
   "metadata": {
    "ExecuteTime": {
     "end_time": "2018-10-24T14:21:24.453957Z",
     "start_time": "2018-10-24T14:21:24.314544Z"
    }
   },
   "outputs": [
    {
     "data": {
      "application/javascript": [
       "/* Put everything inside the global mpl namespace */\n",
       "window.mpl = {};\n",
       "\n",
       "\n",
       "mpl.get_websocket_type = function() {\n",
       "    if (typeof(WebSocket) !== 'undefined') {\n",
       "        return WebSocket;\n",
       "    } else if (typeof(MozWebSocket) !== 'undefined') {\n",
       "        return MozWebSocket;\n",
       "    } else {\n",
       "        alert('Your browser does not have WebSocket support.' +\n",
       "              'Please try Chrome, Safari or Firefox ≥ 6. ' +\n",
       "              'Firefox 4 and 5 are also supported but you ' +\n",
       "              'have to enable WebSockets in about:config.');\n",
       "    };\n",
       "}\n",
       "\n",
       "mpl.figure = function(figure_id, websocket, ondownload, parent_element) {\n",
       "    this.id = figure_id;\n",
       "\n",
       "    this.ws = websocket;\n",
       "\n",
       "    this.supports_binary = (this.ws.binaryType != undefined);\n",
       "\n",
       "    if (!this.supports_binary) {\n",
       "        var warnings = document.getElementById(\"mpl-warnings\");\n",
       "        if (warnings) {\n",
       "            warnings.style.display = 'block';\n",
       "            warnings.textContent = (\n",
       "                \"This browser does not support binary websocket messages. \" +\n",
       "                    \"Performance may be slow.\");\n",
       "        }\n",
       "    }\n",
       "\n",
       "    this.imageObj = new Image();\n",
       "\n",
       "    this.context = undefined;\n",
       "    this.message = undefined;\n",
       "    this.canvas = undefined;\n",
       "    this.rubberband_canvas = undefined;\n",
       "    this.rubberband_context = undefined;\n",
       "    this.format_dropdown = undefined;\n",
       "\n",
       "    this.image_mode = 'full';\n",
       "\n",
       "    this.root = $('<div/>');\n",
       "    this._root_extra_style(this.root)\n",
       "    this.root.attr('style', 'display: inline-block');\n",
       "\n",
       "    $(parent_element).append(this.root);\n",
       "\n",
       "    this._init_header(this);\n",
       "    this._init_canvas(this);\n",
       "    this._init_toolbar(this);\n",
       "\n",
       "    var fig = this;\n",
       "\n",
       "    this.waiting = false;\n",
       "\n",
       "    this.ws.onopen =  function () {\n",
       "            fig.send_message(\"supports_binary\", {value: fig.supports_binary});\n",
       "            fig.send_message(\"send_image_mode\", {});\n",
       "            if (mpl.ratio != 1) {\n",
       "                fig.send_message(\"set_dpi_ratio\", {'dpi_ratio': mpl.ratio});\n",
       "            }\n",
       "            fig.send_message(\"refresh\", {});\n",
       "        }\n",
       "\n",
       "    this.imageObj.onload = function() {\n",
       "            if (fig.image_mode == 'full') {\n",
       "                // Full images could contain transparency (where diff images\n",
       "                // almost always do), so we need to clear the canvas so that\n",
       "                // there is no ghosting.\n",
       "                fig.context.clearRect(0, 0, fig.canvas.width, fig.canvas.height);\n",
       "            }\n",
       "            fig.context.drawImage(fig.imageObj, 0, 0);\n",
       "        };\n",
       "\n",
       "    this.imageObj.onunload = function() {\n",
       "        fig.ws.close();\n",
       "    }\n",
       "\n",
       "    this.ws.onmessage = this._make_on_message_function(this);\n",
       "\n",
       "    this.ondownload = ondownload;\n",
       "}\n",
       "\n",
       "mpl.figure.prototype._init_header = function() {\n",
       "    var titlebar = $(\n",
       "        '<div class=\"ui-dialog-titlebar ui-widget-header ui-corner-all ' +\n",
       "        'ui-helper-clearfix\"/>');\n",
       "    var titletext = $(\n",
       "        '<div class=\"ui-dialog-title\" style=\"width: 100%; ' +\n",
       "        'text-align: center; padding: 3px;\"/>');\n",
       "    titlebar.append(titletext)\n",
       "    this.root.append(titlebar);\n",
       "    this.header = titletext[0];\n",
       "}\n",
       "\n",
       "\n",
       "\n",
       "mpl.figure.prototype._canvas_extra_style = function(canvas_div) {\n",
       "\n",
       "}\n",
       "\n",
       "\n",
       "mpl.figure.prototype._root_extra_style = function(canvas_div) {\n",
       "\n",
       "}\n",
       "\n",
       "mpl.figure.prototype._init_canvas = function() {\n",
       "    var fig = this;\n",
       "\n",
       "    var canvas_div = $('<div/>');\n",
       "\n",
       "    canvas_div.attr('style', 'position: relative; clear: both; outline: 0');\n",
       "\n",
       "    function canvas_keyboard_event(event) {\n",
       "        return fig.key_event(event, event['data']);\n",
       "    }\n",
       "\n",
       "    canvas_div.keydown('key_press', canvas_keyboard_event);\n",
       "    canvas_div.keyup('key_release', canvas_keyboard_event);\n",
       "    this.canvas_div = canvas_div\n",
       "    this._canvas_extra_style(canvas_div)\n",
       "    this.root.append(canvas_div);\n",
       "\n",
       "    var canvas = $('<canvas/>');\n",
       "    canvas.addClass('mpl-canvas');\n",
       "    canvas.attr('style', \"left: 0; top: 0; z-index: 0; outline: 0\")\n",
       "\n",
       "    this.canvas = canvas[0];\n",
       "    this.context = canvas[0].getContext(\"2d\");\n",
       "\n",
       "    var backingStore = this.context.backingStorePixelRatio ||\n",
       "\tthis.context.webkitBackingStorePixelRatio ||\n",
       "\tthis.context.mozBackingStorePixelRatio ||\n",
       "\tthis.context.msBackingStorePixelRatio ||\n",
       "\tthis.context.oBackingStorePixelRatio ||\n",
       "\tthis.context.backingStorePixelRatio || 1;\n",
       "\n",
       "    mpl.ratio = (window.devicePixelRatio || 1) / backingStore;\n",
       "\n",
       "    var rubberband = $('<canvas/>');\n",
       "    rubberband.attr('style', \"position: absolute; left: 0; top: 0; z-index: 1;\")\n",
       "\n",
       "    var pass_mouse_events = true;\n",
       "\n",
       "    canvas_div.resizable({\n",
       "        start: function(event, ui) {\n",
       "            pass_mouse_events = false;\n",
       "        },\n",
       "        resize: function(event, ui) {\n",
       "            fig.request_resize(ui.size.width, ui.size.height);\n",
       "        },\n",
       "        stop: function(event, ui) {\n",
       "            pass_mouse_events = true;\n",
       "            fig.request_resize(ui.size.width, ui.size.height);\n",
       "        },\n",
       "    });\n",
       "\n",
       "    function mouse_event_fn(event) {\n",
       "        if (pass_mouse_events)\n",
       "            return fig.mouse_event(event, event['data']);\n",
       "    }\n",
       "\n",
       "    rubberband.mousedown('button_press', mouse_event_fn);\n",
       "    rubberband.mouseup('button_release', mouse_event_fn);\n",
       "    // Throttle sequential mouse events to 1 every 20ms.\n",
       "    rubberband.mousemove('motion_notify', mouse_event_fn);\n",
       "\n",
       "    rubberband.mouseenter('figure_enter', mouse_event_fn);\n",
       "    rubberband.mouseleave('figure_leave', mouse_event_fn);\n",
       "\n",
       "    canvas_div.on(\"wheel\", function (event) {\n",
       "        event = event.originalEvent;\n",
       "        event['data'] = 'scroll'\n",
       "        if (event.deltaY < 0) {\n",
       "            event.step = 1;\n",
       "        } else {\n",
       "            event.step = -1;\n",
       "        }\n",
       "        mouse_event_fn(event);\n",
       "    });\n",
       "\n",
       "    canvas_div.append(canvas);\n",
       "    canvas_div.append(rubberband);\n",
       "\n",
       "    this.rubberband = rubberband;\n",
       "    this.rubberband_canvas = rubberband[0];\n",
       "    this.rubberband_context = rubberband[0].getContext(\"2d\");\n",
       "    this.rubberband_context.strokeStyle = \"#000000\";\n",
       "\n",
       "    this._resize_canvas = function(width, height) {\n",
       "        // Keep the size of the canvas, canvas container, and rubber band\n",
       "        // canvas in synch.\n",
       "        canvas_div.css('width', width)\n",
       "        canvas_div.css('height', height)\n",
       "\n",
       "        canvas.attr('width', width * mpl.ratio);\n",
       "        canvas.attr('height', height * mpl.ratio);\n",
       "        canvas.attr('style', 'width: ' + width + 'px; height: ' + height + 'px;');\n",
       "\n",
       "        rubberband.attr('width', width);\n",
       "        rubberband.attr('height', height);\n",
       "    }\n",
       "\n",
       "    // Set the figure to an initial 600x600px, this will subsequently be updated\n",
       "    // upon first draw.\n",
       "    this._resize_canvas(600, 600);\n",
       "\n",
       "    // Disable right mouse context menu.\n",
       "    $(this.rubberband_canvas).bind(\"contextmenu\",function(e){\n",
       "        return false;\n",
       "    });\n",
       "\n",
       "    function set_focus () {\n",
       "        canvas.focus();\n",
       "        canvas_div.focus();\n",
       "    }\n",
       "\n",
       "    window.setTimeout(set_focus, 100);\n",
       "}\n",
       "\n",
       "mpl.figure.prototype._init_toolbar = function() {\n",
       "    var fig = this;\n",
       "\n",
       "    var nav_element = $('<div/>')\n",
       "    nav_element.attr('style', 'width: 100%');\n",
       "    this.root.append(nav_element);\n",
       "\n",
       "    // Define a callback function for later on.\n",
       "    function toolbar_event(event) {\n",
       "        return fig.toolbar_button_onclick(event['data']);\n",
       "    }\n",
       "    function toolbar_mouse_event(event) {\n",
       "        return fig.toolbar_button_onmouseover(event['data']);\n",
       "    }\n",
       "\n",
       "    for(var toolbar_ind in mpl.toolbar_items) {\n",
       "        var name = mpl.toolbar_items[toolbar_ind][0];\n",
       "        var tooltip = mpl.toolbar_items[toolbar_ind][1];\n",
       "        var image = mpl.toolbar_items[toolbar_ind][2];\n",
       "        var method_name = mpl.toolbar_items[toolbar_ind][3];\n",
       "\n",
       "        if (!name) {\n",
       "            // put a spacer in here.\n",
       "            continue;\n",
       "        }\n",
       "        var button = $('<button/>');\n",
       "        button.addClass('ui-button ui-widget ui-state-default ui-corner-all ' +\n",
       "                        'ui-button-icon-only');\n",
       "        button.attr('role', 'button');\n",
       "        button.attr('aria-disabled', 'false');\n",
       "        button.click(method_name, toolbar_event);\n",
       "        button.mouseover(tooltip, toolbar_mouse_event);\n",
       "\n",
       "        var icon_img = $('<span/>');\n",
       "        icon_img.addClass('ui-button-icon-primary ui-icon');\n",
       "        icon_img.addClass(image);\n",
       "        icon_img.addClass('ui-corner-all');\n",
       "\n",
       "        var tooltip_span = $('<span/>');\n",
       "        tooltip_span.addClass('ui-button-text');\n",
       "        tooltip_span.html(tooltip);\n",
       "\n",
       "        button.append(icon_img);\n",
       "        button.append(tooltip_span);\n",
       "\n",
       "        nav_element.append(button);\n",
       "    }\n",
       "\n",
       "    var fmt_picker_span = $('<span/>');\n",
       "\n",
       "    var fmt_picker = $('<select/>');\n",
       "    fmt_picker.addClass('mpl-toolbar-option ui-widget ui-widget-content');\n",
       "    fmt_picker_span.append(fmt_picker);\n",
       "    nav_element.append(fmt_picker_span);\n",
       "    this.format_dropdown = fmt_picker[0];\n",
       "\n",
       "    for (var ind in mpl.extensions) {\n",
       "        var fmt = mpl.extensions[ind];\n",
       "        var option = $(\n",
       "            '<option/>', {selected: fmt === mpl.default_extension}).html(fmt);\n",
       "        fmt_picker.append(option)\n",
       "    }\n",
       "\n",
       "    // Add hover states to the ui-buttons\n",
       "    $( \".ui-button\" ).hover(\n",
       "        function() { $(this).addClass(\"ui-state-hover\");},\n",
       "        function() { $(this).removeClass(\"ui-state-hover\");}\n",
       "    );\n",
       "\n",
       "    var status_bar = $('<span class=\"mpl-message\"/>');\n",
       "    nav_element.append(status_bar);\n",
       "    this.message = status_bar[0];\n",
       "}\n",
       "\n",
       "mpl.figure.prototype.request_resize = function(x_pixels, y_pixels) {\n",
       "    // Request matplotlib to resize the figure. Matplotlib will then trigger a resize in the client,\n",
       "    // which will in turn request a refresh of the image.\n",
       "    this.send_message('resize', {'width': x_pixels, 'height': y_pixels});\n",
       "}\n",
       "\n",
       "mpl.figure.prototype.send_message = function(type, properties) {\n",
       "    properties['type'] = type;\n",
       "    properties['figure_id'] = this.id;\n",
       "    this.ws.send(JSON.stringify(properties));\n",
       "}\n",
       "\n",
       "mpl.figure.prototype.send_draw_message = function() {\n",
       "    if (!this.waiting) {\n",
       "        this.waiting = true;\n",
       "        this.ws.send(JSON.stringify({type: \"draw\", figure_id: this.id}));\n",
       "    }\n",
       "}\n",
       "\n",
       "\n",
       "mpl.figure.prototype.handle_save = function(fig, msg) {\n",
       "    var format_dropdown = fig.format_dropdown;\n",
       "    var format = format_dropdown.options[format_dropdown.selectedIndex].value;\n",
       "    fig.ondownload(fig, format);\n",
       "}\n",
       "\n",
       "\n",
       "mpl.figure.prototype.handle_resize = function(fig, msg) {\n",
       "    var size = msg['size'];\n",
       "    if (size[0] != fig.canvas.width || size[1] != fig.canvas.height) {\n",
       "        fig._resize_canvas(size[0], size[1]);\n",
       "        fig.send_message(\"refresh\", {});\n",
       "    };\n",
       "}\n",
       "\n",
       "mpl.figure.prototype.handle_rubberband = function(fig, msg) {\n",
       "    var x0 = msg['x0'] / mpl.ratio;\n",
       "    var y0 = (fig.canvas.height - msg['y0']) / mpl.ratio;\n",
       "    var x1 = msg['x1'] / mpl.ratio;\n",
       "    var y1 = (fig.canvas.height - msg['y1']) / mpl.ratio;\n",
       "    x0 = Math.floor(x0) + 0.5;\n",
       "    y0 = Math.floor(y0) + 0.5;\n",
       "    x1 = Math.floor(x1) + 0.5;\n",
       "    y1 = Math.floor(y1) + 0.5;\n",
       "    var min_x = Math.min(x0, x1);\n",
       "    var min_y = Math.min(y0, y1);\n",
       "    var width = Math.abs(x1 - x0);\n",
       "    var height = Math.abs(y1 - y0);\n",
       "\n",
       "    fig.rubberband_context.clearRect(\n",
       "        0, 0, fig.canvas.width, fig.canvas.height);\n",
       "\n",
       "    fig.rubberband_context.strokeRect(min_x, min_y, width, height);\n",
       "}\n",
       "\n",
       "mpl.figure.prototype.handle_figure_label = function(fig, msg) {\n",
       "    // Updates the figure title.\n",
       "    fig.header.textContent = msg['label'];\n",
       "}\n",
       "\n",
       "mpl.figure.prototype.handle_cursor = function(fig, msg) {\n",
       "    var cursor = msg['cursor'];\n",
       "    switch(cursor)\n",
       "    {\n",
       "    case 0:\n",
       "        cursor = 'pointer';\n",
       "        break;\n",
       "    case 1:\n",
       "        cursor = 'default';\n",
       "        break;\n",
       "    case 2:\n",
       "        cursor = 'crosshair';\n",
       "        break;\n",
       "    case 3:\n",
       "        cursor = 'move';\n",
       "        break;\n",
       "    }\n",
       "    fig.rubberband_canvas.style.cursor = cursor;\n",
       "}\n",
       "\n",
       "mpl.figure.prototype.handle_message = function(fig, msg) {\n",
       "    fig.message.textContent = msg['message'];\n",
       "}\n",
       "\n",
       "mpl.figure.prototype.handle_draw = function(fig, msg) {\n",
       "    // Request the server to send over a new figure.\n",
       "    fig.send_draw_message();\n",
       "}\n",
       "\n",
       "mpl.figure.prototype.handle_image_mode = function(fig, msg) {\n",
       "    fig.image_mode = msg['mode'];\n",
       "}\n",
       "\n",
       "mpl.figure.prototype.updated_canvas_event = function() {\n",
       "    // Called whenever the canvas gets updated.\n",
       "    this.send_message(\"ack\", {});\n",
       "}\n",
       "\n",
       "// A function to construct a web socket function for onmessage handling.\n",
       "// Called in the figure constructor.\n",
       "mpl.figure.prototype._make_on_message_function = function(fig) {\n",
       "    return function socket_on_message(evt) {\n",
       "        if (evt.data instanceof Blob) {\n",
       "            /* FIXME: We get \"Resource interpreted as Image but\n",
       "             * transferred with MIME type text/plain:\" errors on\n",
       "             * Chrome.  But how to set the MIME type?  It doesn't seem\n",
       "             * to be part of the websocket stream */\n",
       "            evt.data.type = \"image/png\";\n",
       "\n",
       "            /* Free the memory for the previous frames */\n",
       "            if (fig.imageObj.src) {\n",
       "                (window.URL || window.webkitURL).revokeObjectURL(\n",
       "                    fig.imageObj.src);\n",
       "            }\n",
       "\n",
       "            fig.imageObj.src = (window.URL || window.webkitURL).createObjectURL(\n",
       "                evt.data);\n",
       "            fig.updated_canvas_event();\n",
       "            fig.waiting = false;\n",
       "            return;\n",
       "        }\n",
       "        else if (typeof evt.data === 'string' && evt.data.slice(0, 21) == \"data:image/png;base64\") {\n",
       "            fig.imageObj.src = evt.data;\n",
       "            fig.updated_canvas_event();\n",
       "            fig.waiting = false;\n",
       "            return;\n",
       "        }\n",
       "\n",
       "        var msg = JSON.parse(evt.data);\n",
       "        var msg_type = msg['type'];\n",
       "\n",
       "        // Call the  \"handle_{type}\" callback, which takes\n",
       "        // the figure and JSON message as its only arguments.\n",
       "        try {\n",
       "            var callback = fig[\"handle_\" + msg_type];\n",
       "        } catch (e) {\n",
       "            console.log(\"No handler for the '\" + msg_type + \"' message type: \", msg);\n",
       "            return;\n",
       "        }\n",
       "\n",
       "        if (callback) {\n",
       "            try {\n",
       "                // console.log(\"Handling '\" + msg_type + \"' message: \", msg);\n",
       "                callback(fig, msg);\n",
       "            } catch (e) {\n",
       "                console.log(\"Exception inside the 'handler_\" + msg_type + \"' callback:\", e, e.stack, msg);\n",
       "            }\n",
       "        }\n",
       "    };\n",
       "}\n",
       "\n",
       "// from http://stackoverflow.com/questions/1114465/getting-mouse-location-in-canvas\n",
       "mpl.findpos = function(e) {\n",
       "    //this section is from http://www.quirksmode.org/js/events_properties.html\n",
       "    var targ;\n",
       "    if (!e)\n",
       "        e = window.event;\n",
       "    if (e.target)\n",
       "        targ = e.target;\n",
       "    else if (e.srcElement)\n",
       "        targ = e.srcElement;\n",
       "    if (targ.nodeType == 3) // defeat Safari bug\n",
       "        targ = targ.parentNode;\n",
       "\n",
       "    // jQuery normalizes the pageX and pageY\n",
       "    // pageX,Y are the mouse positions relative to the document\n",
       "    // offset() returns the position of the element relative to the document\n",
       "    var x = e.pageX - $(targ).offset().left;\n",
       "    var y = e.pageY - $(targ).offset().top;\n",
       "\n",
       "    return {\"x\": x, \"y\": y};\n",
       "};\n",
       "\n",
       "/*\n",
       " * return a copy of an object with only non-object keys\n",
       " * we need this to avoid circular references\n",
       " * http://stackoverflow.com/a/24161582/3208463\n",
       " */\n",
       "function simpleKeys (original) {\n",
       "  return Object.keys(original).reduce(function (obj, key) {\n",
       "    if (typeof original[key] !== 'object')\n",
       "        obj[key] = original[key]\n",
       "    return obj;\n",
       "  }, {});\n",
       "}\n",
       "\n",
       "mpl.figure.prototype.mouse_event = function(event, name) {\n",
       "    var canvas_pos = mpl.findpos(event)\n",
       "\n",
       "    if (name === 'button_press')\n",
       "    {\n",
       "        this.canvas.focus();\n",
       "        this.canvas_div.focus();\n",
       "    }\n",
       "\n",
       "    var x = canvas_pos.x * mpl.ratio;\n",
       "    var y = canvas_pos.y * mpl.ratio;\n",
       "\n",
       "    this.send_message(name, {x: x, y: y, button: event.button,\n",
       "                             step: event.step,\n",
       "                             guiEvent: simpleKeys(event)});\n",
       "\n",
       "    /* This prevents the web browser from automatically changing to\n",
       "     * the text insertion cursor when the button is pressed.  We want\n",
       "     * to control all of the cursor setting manually through the\n",
       "     * 'cursor' event from matplotlib */\n",
       "    event.preventDefault();\n",
       "    return false;\n",
       "}\n",
       "\n",
       "mpl.figure.prototype._key_event_extra = function(event, name) {\n",
       "    // Handle any extra behaviour associated with a key event\n",
       "}\n",
       "\n",
       "mpl.figure.prototype.key_event = function(event, name) {\n",
       "\n",
       "    // Prevent repeat events\n",
       "    if (name == 'key_press')\n",
       "    {\n",
       "        if (event.which === this._key)\n",
       "            return;\n",
       "        else\n",
       "            this._key = event.which;\n",
       "    }\n",
       "    if (name == 'key_release')\n",
       "        this._key = null;\n",
       "\n",
       "    var value = '';\n",
       "    if (event.ctrlKey && event.which != 17)\n",
       "        value += \"ctrl+\";\n",
       "    if (event.altKey && event.which != 18)\n",
       "        value += \"alt+\";\n",
       "    if (event.shiftKey && event.which != 16)\n",
       "        value += \"shift+\";\n",
       "\n",
       "    value += 'k';\n",
       "    value += event.which.toString();\n",
       "\n",
       "    this._key_event_extra(event, name);\n",
       "\n",
       "    this.send_message(name, {key: value,\n",
       "                             guiEvent: simpleKeys(event)});\n",
       "    return false;\n",
       "}\n",
       "\n",
       "mpl.figure.prototype.toolbar_button_onclick = function(name) {\n",
       "    if (name == 'download') {\n",
       "        this.handle_save(this, null);\n",
       "    } else {\n",
       "        this.send_message(\"toolbar_button\", {name: name});\n",
       "    }\n",
       "};\n",
       "\n",
       "mpl.figure.prototype.toolbar_button_onmouseover = function(tooltip) {\n",
       "    this.message.textContent = tooltip;\n",
       "};\n",
       "mpl.toolbar_items = [[\"Home\", \"Reset original view\", \"fa fa-home icon-home\", \"home\"], [\"Back\", \"Back to  previous view\", \"fa fa-arrow-left icon-arrow-left\", \"back\"], [\"Forward\", \"Forward to next view\", \"fa fa-arrow-right icon-arrow-right\", \"forward\"], [\"\", \"\", \"\", \"\"], [\"Pan\", \"Pan axes with left mouse, zoom with right\", \"fa fa-arrows icon-move\", \"pan\"], [\"Zoom\", \"Zoom to rectangle\", \"fa fa-square-o icon-check-empty\", \"zoom\"], [\"\", \"\", \"\", \"\"], [\"Download\", \"Download plot\", \"fa fa-floppy-o icon-save\", \"download\"]];\n",
       "\n",
       "mpl.extensions = [\"eps\", \"jpeg\", \"pdf\", \"png\", \"ps\", \"raw\", \"svg\", \"tif\"];\n",
       "\n",
       "mpl.default_extension = \"png\";var comm_websocket_adapter = function(comm) {\n",
       "    // Create a \"websocket\"-like object which calls the given IPython comm\n",
       "    // object with the appropriate methods. Currently this is a non binary\n",
       "    // socket, so there is still some room for performance tuning.\n",
       "    var ws = {};\n",
       "\n",
       "    ws.close = function() {\n",
       "        comm.close()\n",
       "    };\n",
       "    ws.send = function(m) {\n",
       "        //console.log('sending', m);\n",
       "        comm.send(m);\n",
       "    };\n",
       "    // Register the callback with on_msg.\n",
       "    comm.on_msg(function(msg) {\n",
       "        //console.log('receiving', msg['content']['data'], msg);\n",
       "        // Pass the mpl event to the overridden (by mpl) onmessage function.\n",
       "        ws.onmessage(msg['content']['data'])\n",
       "    });\n",
       "    return ws;\n",
       "}\n",
       "\n",
       "mpl.mpl_figure_comm = function(comm, msg) {\n",
       "    // This is the function which gets called when the mpl process\n",
       "    // starts-up an IPython Comm through the \"matplotlib\" channel.\n",
       "\n",
       "    var id = msg.content.data.id;\n",
       "    // Get hold of the div created by the display call when the Comm\n",
       "    // socket was opened in Python.\n",
       "    var element = $(\"#\" + id);\n",
       "    var ws_proxy = comm_websocket_adapter(comm)\n",
       "\n",
       "    function ondownload(figure, format) {\n",
       "        window.open(figure.imageObj.src);\n",
       "    }\n",
       "\n",
       "    var fig = new mpl.figure(id, ws_proxy,\n",
       "                           ondownload,\n",
       "                           element.get(0));\n",
       "\n",
       "    // Call onopen now - mpl needs it, as it is assuming we've passed it a real\n",
       "    // web socket which is closed, not our websocket->open comm proxy.\n",
       "    ws_proxy.onopen();\n",
       "\n",
       "    fig.parent_element = element.get(0);\n",
       "    fig.cell_info = mpl.find_output_cell(\"<div id='\" + id + \"'></div>\");\n",
       "    if (!fig.cell_info) {\n",
       "        console.error(\"Failed to find cell for figure\", id, fig);\n",
       "        return;\n",
       "    }\n",
       "\n",
       "    var output_index = fig.cell_info[2]\n",
       "    var cell = fig.cell_info[0];\n",
       "\n",
       "};\n",
       "\n",
       "mpl.figure.prototype.handle_close = function(fig, msg) {\n",
       "    var width = fig.canvas.width/mpl.ratio\n",
       "    fig.root.unbind('remove')\n",
       "\n",
       "    // Update the output cell to use the data from the current canvas.\n",
       "    fig.push_to_output();\n",
       "    var dataURL = fig.canvas.toDataURL();\n",
       "    // Re-enable the keyboard manager in IPython - without this line, in FF,\n",
       "    // the notebook keyboard shortcuts fail.\n",
       "    IPython.keyboard_manager.enable()\n",
       "    $(fig.parent_element).html('<img src=\"' + dataURL + '\" width=\"' + width + '\">');\n",
       "    fig.close_ws(fig, msg);\n",
       "}\n",
       "\n",
       "mpl.figure.prototype.close_ws = function(fig, msg){\n",
       "    fig.send_message('closing', msg);\n",
       "    // fig.ws.close()\n",
       "}\n",
       "\n",
       "mpl.figure.prototype.push_to_output = function(remove_interactive) {\n",
       "    // Turn the data on the canvas into data in the output cell.\n",
       "    var width = this.canvas.width/mpl.ratio\n",
       "    var dataURL = this.canvas.toDataURL();\n",
       "    this.cell_info[1]['text/html'] = '<img src=\"' + dataURL + '\" width=\"' + width + '\">';\n",
       "}\n",
       "\n",
       "mpl.figure.prototype.updated_canvas_event = function() {\n",
       "    // Tell IPython that the notebook contents must change.\n",
       "    IPython.notebook.set_dirty(true);\n",
       "    this.send_message(\"ack\", {});\n",
       "    var fig = this;\n",
       "    // Wait a second, then push the new image to the DOM so\n",
       "    // that it is saved nicely (might be nice to debounce this).\n",
       "    setTimeout(function () { fig.push_to_output() }, 1000);\n",
       "}\n",
       "\n",
       "mpl.figure.prototype._init_toolbar = function() {\n",
       "    var fig = this;\n",
       "\n",
       "    var nav_element = $('<div/>')\n",
       "    nav_element.attr('style', 'width: 100%');\n",
       "    this.root.append(nav_element);\n",
       "\n",
       "    // Define a callback function for later on.\n",
       "    function toolbar_event(event) {\n",
       "        return fig.toolbar_button_onclick(event['data']);\n",
       "    }\n",
       "    function toolbar_mouse_event(event) {\n",
       "        return fig.toolbar_button_onmouseover(event['data']);\n",
       "    }\n",
       "\n",
       "    for(var toolbar_ind in mpl.toolbar_items){\n",
       "        var name = mpl.toolbar_items[toolbar_ind][0];\n",
       "        var tooltip = mpl.toolbar_items[toolbar_ind][1];\n",
       "        var image = mpl.toolbar_items[toolbar_ind][2];\n",
       "        var method_name = mpl.toolbar_items[toolbar_ind][3];\n",
       "\n",
       "        if (!name) { continue; };\n",
       "\n",
       "        var button = $('<button class=\"btn btn-default\" href=\"#\" title=\"' + name + '\"><i class=\"fa ' + image + ' fa-lg\"></i></button>');\n",
       "        button.click(method_name, toolbar_event);\n",
       "        button.mouseover(tooltip, toolbar_mouse_event);\n",
       "        nav_element.append(button);\n",
       "    }\n",
       "\n",
       "    // Add the status bar.\n",
       "    var status_bar = $('<span class=\"mpl-message\" style=\"text-align:right; float: right;\"/>');\n",
       "    nav_element.append(status_bar);\n",
       "    this.message = status_bar[0];\n",
       "\n",
       "    // Add the close button to the window.\n",
       "    var buttongrp = $('<div class=\"btn-group inline pull-right\"></div>');\n",
       "    var button = $('<button class=\"btn btn-mini btn-primary\" href=\"#\" title=\"Stop Interaction\"><i class=\"fa fa-power-off icon-remove icon-large\"></i></button>');\n",
       "    button.click(function (evt) { fig.handle_close(fig, {}); } );\n",
       "    button.mouseover('Stop Interaction', toolbar_mouse_event);\n",
       "    buttongrp.append(button);\n",
       "    var titlebar = this.root.find($('.ui-dialog-titlebar'));\n",
       "    titlebar.prepend(buttongrp);\n",
       "}\n",
       "\n",
       "mpl.figure.prototype._root_extra_style = function(el){\n",
       "    var fig = this\n",
       "    el.on(\"remove\", function(){\n",
       "\tfig.close_ws(fig, {});\n",
       "    });\n",
       "}\n",
       "\n",
       "mpl.figure.prototype._canvas_extra_style = function(el){\n",
       "    // this is important to make the div 'focusable\n",
       "    el.attr('tabindex', 0)\n",
       "    // reach out to IPython and tell the keyboard manager to turn it's self\n",
       "    // off when our div gets focus\n",
       "\n",
       "    // location in version 3\n",
       "    if (IPython.notebook.keyboard_manager) {\n",
       "        IPython.notebook.keyboard_manager.register_events(el);\n",
       "    }\n",
       "    else {\n",
       "        // location in version 2\n",
       "        IPython.keyboard_manager.register_events(el);\n",
       "    }\n",
       "\n",
       "}\n",
       "\n",
       "mpl.figure.prototype._key_event_extra = function(event, name) {\n",
       "    var manager = IPython.notebook.keyboard_manager;\n",
       "    if (!manager)\n",
       "        manager = IPython.keyboard_manager;\n",
       "\n",
       "    // Check for shift+enter\n",
       "    if (event.shiftKey && event.which == 13) {\n",
       "        this.canvas_div.blur();\n",
       "        event.shiftKey = false;\n",
       "        // Send a \"J\" for go to next cell\n",
       "        event.which = 74;\n",
       "        event.keyCode = 74;\n",
       "        manager.command_mode();\n",
       "        manager.handle_keydown(event);\n",
       "    }\n",
       "}\n",
       "\n",
       "mpl.figure.prototype.handle_save = function(fig, msg) {\n",
       "    fig.ondownload(fig, null);\n",
       "}\n",
       "\n",
       "\n",
       "mpl.find_output_cell = function(html_output) {\n",
       "    // Return the cell and output element which can be found *uniquely* in the notebook.\n",
       "    // Note - this is a bit hacky, but it is done because the \"notebook_saving.Notebook\"\n",
       "    // IPython event is triggered only after the cells have been serialised, which for\n",
       "    // our purposes (turning an active figure into a static one), is too late.\n",
       "    var cells = IPython.notebook.get_cells();\n",
       "    var ncells = cells.length;\n",
       "    for (var i=0; i<ncells; i++) {\n",
       "        var cell = cells[i];\n",
       "        if (cell.cell_type === 'code'){\n",
       "            for (var j=0; j<cell.output_area.outputs.length; j++) {\n",
       "                var data = cell.output_area.outputs[j];\n",
       "                if (data.data) {\n",
       "                    // IPython >= 3 moved mimebundle to data attribute of output\n",
       "                    data = data.data;\n",
       "                }\n",
       "                if (data['text/html'] == html_output) {\n",
       "                    return [cell, data, j];\n",
       "                }\n",
       "            }\n",
       "        }\n",
       "    }\n",
       "}\n",
       "\n",
       "// Register the function which deals with the matplotlib target/channel.\n",
       "// The kernel may be null if the page has been refreshed.\n",
       "if (IPython.notebook.kernel != null) {\n",
       "    IPython.notebook.kernel.comm_manager.register_target('matplotlib', mpl.mpl_figure_comm);\n",
       "}\n"
      ],
      "text/plain": [
       "<IPython.core.display.Javascript object>"
      ]
     },
     "metadata": {},
     "output_type": "display_data"
    },
    {
     "data": {
      "text/html": [
       "<img src=\"data:image/png;base64,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\" width=\"1500\">"
      ],
      "text/plain": [
       "<IPython.core.display.HTML object>"
      ]
     },
     "metadata": {},
     "output_type": "display_data"
    }
   ],
   "source": [
    "''' prior box widths vs Counts'''\n",
    "fig, ax = plt.subplots(figsize=(15, 5))\n",
    "plt.bar(width_unique, width_counts, width=8);"
   ]
  },
  {
   "cell_type": "code",
   "execution_count": 32,
   "metadata": {
    "ExecuteTime": {
     "end_time": "2018-10-24T13:33:27.600938Z",
     "start_time": "2018-10-24T13:33:27.448126Z"
    },
    "collapsed": true
   },
   "outputs": [
    {
     "data": {
      "application/javascript": [
       "/* Put everything inside the global mpl namespace */\n",
       "window.mpl = {};\n",
       "\n",
       "\n",
       "mpl.get_websocket_type = function() {\n",
       "    if (typeof(WebSocket) !== 'undefined') {\n",
       "        return WebSocket;\n",
       "    } else if (typeof(MozWebSocket) !== 'undefined') {\n",
       "        return MozWebSocket;\n",
       "    } else {\n",
       "        alert('Your browser does not have WebSocket support.' +\n",
       "              'Please try Chrome, Safari or Firefox ≥ 6. ' +\n",
       "              'Firefox 4 and 5 are also supported but you ' +\n",
       "              'have to enable WebSockets in about:config.');\n",
       "    };\n",
       "}\n",
       "\n",
       "mpl.figure = function(figure_id, websocket, ondownload, parent_element) {\n",
       "    this.id = figure_id;\n",
       "\n",
       "    this.ws = websocket;\n",
       "\n",
       "    this.supports_binary = (this.ws.binaryType != undefined);\n",
       "\n",
       "    if (!this.supports_binary) {\n",
       "        var warnings = document.getElementById(\"mpl-warnings\");\n",
       "        if (warnings) {\n",
       "            warnings.style.display = 'block';\n",
       "            warnings.textContent = (\n",
       "                \"This browser does not support binary websocket messages. \" +\n",
       "                    \"Performance may be slow.\");\n",
       "        }\n",
       "    }\n",
       "\n",
       "    this.imageObj = new Image();\n",
       "\n",
       "    this.context = undefined;\n",
       "    this.message = undefined;\n",
       "    this.canvas = undefined;\n",
       "    this.rubberband_canvas = undefined;\n",
       "    this.rubberband_context = undefined;\n",
       "    this.format_dropdown = undefined;\n",
       "\n",
       "    this.image_mode = 'full';\n",
       "\n",
       "    this.root = $('<div/>');\n",
       "    this._root_extra_style(this.root)\n",
       "    this.root.attr('style', 'display: inline-block');\n",
       "\n",
       "    $(parent_element).append(this.root);\n",
       "\n",
       "    this._init_header(this);\n",
       "    this._init_canvas(this);\n",
       "    this._init_toolbar(this);\n",
       "\n",
       "    var fig = this;\n",
       "\n",
       "    this.waiting = false;\n",
       "\n",
       "    this.ws.onopen =  function () {\n",
       "            fig.send_message(\"supports_binary\", {value: fig.supports_binary});\n",
       "            fig.send_message(\"send_image_mode\", {});\n",
       "            if (mpl.ratio != 1) {\n",
       "                fig.send_message(\"set_dpi_ratio\", {'dpi_ratio': mpl.ratio});\n",
       "            }\n",
       "            fig.send_message(\"refresh\", {});\n",
       "        }\n",
       "\n",
       "    this.imageObj.onload = function() {\n",
       "            if (fig.image_mode == 'full') {\n",
       "                // Full images could contain transparency (where diff images\n",
       "                // almost always do), so we need to clear the canvas so that\n",
       "                // there is no ghosting.\n",
       "                fig.context.clearRect(0, 0, fig.canvas.width, fig.canvas.height);\n",
       "            }\n",
       "            fig.context.drawImage(fig.imageObj, 0, 0);\n",
       "        };\n",
       "\n",
       "    this.imageObj.onunload = function() {\n",
       "        fig.ws.close();\n",
       "    }\n",
       "\n",
       "    this.ws.onmessage = this._make_on_message_function(this);\n",
       "\n",
       "    this.ondownload = ondownload;\n",
       "}\n",
       "\n",
       "mpl.figure.prototype._init_header = function() {\n",
       "    var titlebar = $(\n",
       "        '<div class=\"ui-dialog-titlebar ui-widget-header ui-corner-all ' +\n",
       "        'ui-helper-clearfix\"/>');\n",
       "    var titletext = $(\n",
       "        '<div class=\"ui-dialog-title\" style=\"width: 100%; ' +\n",
       "        'text-align: center; padding: 3px;\"/>');\n",
       "    titlebar.append(titletext)\n",
       "    this.root.append(titlebar);\n",
       "    this.header = titletext[0];\n",
       "}\n",
       "\n",
       "\n",
       "\n",
       "mpl.figure.prototype._canvas_extra_style = function(canvas_div) {\n",
       "\n",
       "}\n",
       "\n",
       "\n",
       "mpl.figure.prototype._root_extra_style = function(canvas_div) {\n",
       "\n",
       "}\n",
       "\n",
       "mpl.figure.prototype._init_canvas = function() {\n",
       "    var fig = this;\n",
       "\n",
       "    var canvas_div = $('<div/>');\n",
       "\n",
       "    canvas_div.attr('style', 'position: relative; clear: both; outline: 0');\n",
       "\n",
       "    function canvas_keyboard_event(event) {\n",
       "        return fig.key_event(event, event['data']);\n",
       "    }\n",
       "\n",
       "    canvas_div.keydown('key_press', canvas_keyboard_event);\n",
       "    canvas_div.keyup('key_release', canvas_keyboard_event);\n",
       "    this.canvas_div = canvas_div\n",
       "    this._canvas_extra_style(canvas_div)\n",
       "    this.root.append(canvas_div);\n",
       "\n",
       "    var canvas = $('<canvas/>');\n",
       "    canvas.addClass('mpl-canvas');\n",
       "    canvas.attr('style', \"left: 0; top: 0; z-index: 0; outline: 0\")\n",
       "\n",
       "    this.canvas = canvas[0];\n",
       "    this.context = canvas[0].getContext(\"2d\");\n",
       "\n",
       "    var backingStore = this.context.backingStorePixelRatio ||\n",
       "\tthis.context.webkitBackingStorePixelRatio ||\n",
       "\tthis.context.mozBackingStorePixelRatio ||\n",
       "\tthis.context.msBackingStorePixelRatio ||\n",
       "\tthis.context.oBackingStorePixelRatio ||\n",
       "\tthis.context.backingStorePixelRatio || 1;\n",
       "\n",
       "    mpl.ratio = (window.devicePixelRatio || 1) / backingStore;\n",
       "\n",
       "    var rubberband = $('<canvas/>');\n",
       "    rubberband.attr('style', \"position: absolute; left: 0; top: 0; z-index: 1;\")\n",
       "\n",
       "    var pass_mouse_events = true;\n",
       "\n",
       "    canvas_div.resizable({\n",
       "        start: function(event, ui) {\n",
       "            pass_mouse_events = false;\n",
       "        },\n",
       "        resize: function(event, ui) {\n",
       "            fig.request_resize(ui.size.width, ui.size.height);\n",
       "        },\n",
       "        stop: function(event, ui) {\n",
       "            pass_mouse_events = true;\n",
       "            fig.request_resize(ui.size.width, ui.size.height);\n",
       "        },\n",
       "    });\n",
       "\n",
       "    function mouse_event_fn(event) {\n",
       "        if (pass_mouse_events)\n",
       "            return fig.mouse_event(event, event['data']);\n",
       "    }\n",
       "\n",
       "    rubberband.mousedown('button_press', mouse_event_fn);\n",
       "    rubberband.mouseup('button_release', mouse_event_fn);\n",
       "    // Throttle sequential mouse events to 1 every 20ms.\n",
       "    rubberband.mousemove('motion_notify', mouse_event_fn);\n",
       "\n",
       "    rubberband.mouseenter('figure_enter', mouse_event_fn);\n",
       "    rubberband.mouseleave('figure_leave', mouse_event_fn);\n",
       "\n",
       "    canvas_div.on(\"wheel\", function (event) {\n",
       "        event = event.originalEvent;\n",
       "        event['data'] = 'scroll'\n",
       "        if (event.deltaY < 0) {\n",
       "            event.step = 1;\n",
       "        } else {\n",
       "            event.step = -1;\n",
       "        }\n",
       "        mouse_event_fn(event);\n",
       "    });\n",
       "\n",
       "    canvas_div.append(canvas);\n",
       "    canvas_div.append(rubberband);\n",
       "\n",
       "    this.rubberband = rubberband;\n",
       "    this.rubberband_canvas = rubberband[0];\n",
       "    this.rubberband_context = rubberband[0].getContext(\"2d\");\n",
       "    this.rubberband_context.strokeStyle = \"#000000\";\n",
       "\n",
       "    this._resize_canvas = function(width, height) {\n",
       "        // Keep the size of the canvas, canvas container, and rubber band\n",
       "        // canvas in synch.\n",
       "        canvas_div.css('width', width)\n",
       "        canvas_div.css('height', height)\n",
       "\n",
       "        canvas.attr('width', width * mpl.ratio);\n",
       "        canvas.attr('height', height * mpl.ratio);\n",
       "        canvas.attr('style', 'width: ' + width + 'px; height: ' + height + 'px;');\n",
       "\n",
       "        rubberband.attr('width', width);\n",
       "        rubberband.attr('height', height);\n",
       "    }\n",
       "\n",
       "    // Set the figure to an initial 600x600px, this will subsequently be updated\n",
       "    // upon first draw.\n",
       "    this._resize_canvas(600, 600);\n",
       "\n",
       "    // Disable right mouse context menu.\n",
       "    $(this.rubberband_canvas).bind(\"contextmenu\",function(e){\n",
       "        return false;\n",
       "    });\n",
       "\n",
       "    function set_focus () {\n",
       "        canvas.focus();\n",
       "        canvas_div.focus();\n",
       "    }\n",
       "\n",
       "    window.setTimeout(set_focus, 100);\n",
       "}\n",
       "\n",
       "mpl.figure.prototype._init_toolbar = function() {\n",
       "    var fig = this;\n",
       "\n",
       "    var nav_element = $('<div/>')\n",
       "    nav_element.attr('style', 'width: 100%');\n",
       "    this.root.append(nav_element);\n",
       "\n",
       "    // Define a callback function for later on.\n",
       "    function toolbar_event(event) {\n",
       "        return fig.toolbar_button_onclick(event['data']);\n",
       "    }\n",
       "    function toolbar_mouse_event(event) {\n",
       "        return fig.toolbar_button_onmouseover(event['data']);\n",
       "    }\n",
       "\n",
       "    for(var toolbar_ind in mpl.toolbar_items) {\n",
       "        var name = mpl.toolbar_items[toolbar_ind][0];\n",
       "        var tooltip = mpl.toolbar_items[toolbar_ind][1];\n",
       "        var image = mpl.toolbar_items[toolbar_ind][2];\n",
       "        var method_name = mpl.toolbar_items[toolbar_ind][3];\n",
       "\n",
       "        if (!name) {\n",
       "            // put a spacer in here.\n",
       "            continue;\n",
       "        }\n",
       "        var button = $('<button/>');\n",
       "        button.addClass('ui-button ui-widget ui-state-default ui-corner-all ' +\n",
       "                        'ui-button-icon-only');\n",
       "        button.attr('role', 'button');\n",
       "        button.attr('aria-disabled', 'false');\n",
       "        button.click(method_name, toolbar_event);\n",
       "        button.mouseover(tooltip, toolbar_mouse_event);\n",
       "\n",
       "        var icon_img = $('<span/>');\n",
       "        icon_img.addClass('ui-button-icon-primary ui-icon');\n",
       "        icon_img.addClass(image);\n",
       "        icon_img.addClass('ui-corner-all');\n",
       "\n",
       "        var tooltip_span = $('<span/>');\n",
       "        tooltip_span.addClass('ui-button-text');\n",
       "        tooltip_span.html(tooltip);\n",
       "\n",
       "        button.append(icon_img);\n",
       "        button.append(tooltip_span);\n",
       "\n",
       "        nav_element.append(button);\n",
       "    }\n",
       "\n",
       "    var fmt_picker_span = $('<span/>');\n",
       "\n",
       "    var fmt_picker = $('<select/>');\n",
       "    fmt_picker.addClass('mpl-toolbar-option ui-widget ui-widget-content');\n",
       "    fmt_picker_span.append(fmt_picker);\n",
       "    nav_element.append(fmt_picker_span);\n",
       "    this.format_dropdown = fmt_picker[0];\n",
       "\n",
       "    for (var ind in mpl.extensions) {\n",
       "        var fmt = mpl.extensions[ind];\n",
       "        var option = $(\n",
       "            '<option/>', {selected: fmt === mpl.default_extension}).html(fmt);\n",
       "        fmt_picker.append(option)\n",
       "    }\n",
       "\n",
       "    // Add hover states to the ui-buttons\n",
       "    $( \".ui-button\" ).hover(\n",
       "        function() { $(this).addClass(\"ui-state-hover\");},\n",
       "        function() { $(this).removeClass(\"ui-state-hover\");}\n",
       "    );\n",
       "\n",
       "    var status_bar = $('<span class=\"mpl-message\"/>');\n",
       "    nav_element.append(status_bar);\n",
       "    this.message = status_bar[0];\n",
       "}\n",
       "\n",
       "mpl.figure.prototype.request_resize = function(x_pixels, y_pixels) {\n",
       "    // Request matplotlib to resize the figure. Matplotlib will then trigger a resize in the client,\n",
       "    // which will in turn request a refresh of the image.\n",
       "    this.send_message('resize', {'width': x_pixels, 'height': y_pixels});\n",
       "}\n",
       "\n",
       "mpl.figure.prototype.send_message = function(type, properties) {\n",
       "    properties['type'] = type;\n",
       "    properties['figure_id'] = this.id;\n",
       "    this.ws.send(JSON.stringify(properties));\n",
       "}\n",
       "\n",
       "mpl.figure.prototype.send_draw_message = function() {\n",
       "    if (!this.waiting) {\n",
       "        this.waiting = true;\n",
       "        this.ws.send(JSON.stringify({type: \"draw\", figure_id: this.id}));\n",
       "    }\n",
       "}\n",
       "\n",
       "\n",
       "mpl.figure.prototype.handle_save = function(fig, msg) {\n",
       "    var format_dropdown = fig.format_dropdown;\n",
       "    var format = format_dropdown.options[format_dropdown.selectedIndex].value;\n",
       "    fig.ondownload(fig, format);\n",
       "}\n",
       "\n",
       "\n",
       "mpl.figure.prototype.handle_resize = function(fig, msg) {\n",
       "    var size = msg['size'];\n",
       "    if (size[0] != fig.canvas.width || size[1] != fig.canvas.height) {\n",
       "        fig._resize_canvas(size[0], size[1]);\n",
       "        fig.send_message(\"refresh\", {});\n",
       "    };\n",
       "}\n",
       "\n",
       "mpl.figure.prototype.handle_rubberband = function(fig, msg) {\n",
       "    var x0 = msg['x0'] / mpl.ratio;\n",
       "    var y0 = (fig.canvas.height - msg['y0']) / mpl.ratio;\n",
       "    var x1 = msg['x1'] / mpl.ratio;\n",
       "    var y1 = (fig.canvas.height - msg['y1']) / mpl.ratio;\n",
       "    x0 = Math.floor(x0) + 0.5;\n",
       "    y0 = Math.floor(y0) + 0.5;\n",
       "    x1 = Math.floor(x1) + 0.5;\n",
       "    y1 = Math.floor(y1) + 0.5;\n",
       "    var min_x = Math.min(x0, x1);\n",
       "    var min_y = Math.min(y0, y1);\n",
       "    var width = Math.abs(x1 - x0);\n",
       "    var height = Math.abs(y1 - y0);\n",
       "\n",
       "    fig.rubberband_context.clearRect(\n",
       "        0, 0, fig.canvas.width, fig.canvas.height);\n",
       "\n",
       "    fig.rubberband_context.strokeRect(min_x, min_y, width, height);\n",
       "}\n",
       "\n",
       "mpl.figure.prototype.handle_figure_label = function(fig, msg) {\n",
       "    // Updates the figure title.\n",
       "    fig.header.textContent = msg['label'];\n",
       "}\n",
       "\n",
       "mpl.figure.prototype.handle_cursor = function(fig, msg) {\n",
       "    var cursor = msg['cursor'];\n",
       "    switch(cursor)\n",
       "    {\n",
       "    case 0:\n",
       "        cursor = 'pointer';\n",
       "        break;\n",
       "    case 1:\n",
       "        cursor = 'default';\n",
       "        break;\n",
       "    case 2:\n",
       "        cursor = 'crosshair';\n",
       "        break;\n",
       "    case 3:\n",
       "        cursor = 'move';\n",
       "        break;\n",
       "    }\n",
       "    fig.rubberband_canvas.style.cursor = cursor;\n",
       "}\n",
       "\n",
       "mpl.figure.prototype.handle_message = function(fig, msg) {\n",
       "    fig.message.textContent = msg['message'];\n",
       "}\n",
       "\n",
       "mpl.figure.prototype.handle_draw = function(fig, msg) {\n",
       "    // Request the server to send over a new figure.\n",
       "    fig.send_draw_message();\n",
       "}\n",
       "\n",
       "mpl.figure.prototype.handle_image_mode = function(fig, msg) {\n",
       "    fig.image_mode = msg['mode'];\n",
       "}\n",
       "\n",
       "mpl.figure.prototype.updated_canvas_event = function() {\n",
       "    // Called whenever the canvas gets updated.\n",
       "    this.send_message(\"ack\", {});\n",
       "}\n",
       "\n",
       "// A function to construct a web socket function for onmessage handling.\n",
       "// Called in the figure constructor.\n",
       "mpl.figure.prototype._make_on_message_function = function(fig) {\n",
       "    return function socket_on_message(evt) {\n",
       "        if (evt.data instanceof Blob) {\n",
       "            /* FIXME: We get \"Resource interpreted as Image but\n",
       "             * transferred with MIME type text/plain:\" errors on\n",
       "             * Chrome.  But how to set the MIME type?  It doesn't seem\n",
       "             * to be part of the websocket stream */\n",
       "            evt.data.type = \"image/png\";\n",
       "\n",
       "            /* Free the memory for the previous frames */\n",
       "            if (fig.imageObj.src) {\n",
       "                (window.URL || window.webkitURL).revokeObjectURL(\n",
       "                    fig.imageObj.src);\n",
       "            }\n",
       "\n",
       "            fig.imageObj.src = (window.URL || window.webkitURL).createObjectURL(\n",
       "                evt.data);\n",
       "            fig.updated_canvas_event();\n",
       "            fig.waiting = false;\n",
       "            return;\n",
       "        }\n",
       "        else if (typeof evt.data === 'string' && evt.data.slice(0, 21) == \"data:image/png;base64\") {\n",
       "            fig.imageObj.src = evt.data;\n",
       "            fig.updated_canvas_event();\n",
       "            fig.waiting = false;\n",
       "            return;\n",
       "        }\n",
       "\n",
       "        var msg = JSON.parse(evt.data);\n",
       "        var msg_type = msg['type'];\n",
       "\n",
       "        // Call the  \"handle_{type}\" callback, which takes\n",
       "        // the figure and JSON message as its only arguments.\n",
       "        try {\n",
       "            var callback = fig[\"handle_\" + msg_type];\n",
       "        } catch (e) {\n",
       "            console.log(\"No handler for the '\" + msg_type + \"' message type: \", msg);\n",
       "            return;\n",
       "        }\n",
       "\n",
       "        if (callback) {\n",
       "            try {\n",
       "                // console.log(\"Handling '\" + msg_type + \"' message: \", msg);\n",
       "                callback(fig, msg);\n",
       "            } catch (e) {\n",
       "                console.log(\"Exception inside the 'handler_\" + msg_type + \"' callback:\", e, e.stack, msg);\n",
       "            }\n",
       "        }\n",
       "    };\n",
       "}\n",
       "\n",
       "// from http://stackoverflow.com/questions/1114465/getting-mouse-location-in-canvas\n",
       "mpl.findpos = function(e) {\n",
       "    //this section is from http://www.quirksmode.org/js/events_properties.html\n",
       "    var targ;\n",
       "    if (!e)\n",
       "        e = window.event;\n",
       "    if (e.target)\n",
       "        targ = e.target;\n",
       "    else if (e.srcElement)\n",
       "        targ = e.srcElement;\n",
       "    if (targ.nodeType == 3) // defeat Safari bug\n",
       "        targ = targ.parentNode;\n",
       "\n",
       "    // jQuery normalizes the pageX and pageY\n",
       "    // pageX,Y are the mouse positions relative to the document\n",
       "    // offset() returns the position of the element relative to the document\n",
       "    var x = e.pageX - $(targ).offset().left;\n",
       "    var y = e.pageY - $(targ).offset().top;\n",
       "\n",
       "    return {\"x\": x, \"y\": y};\n",
       "};\n",
       "\n",
       "/*\n",
       " * return a copy of an object with only non-object keys\n",
       " * we need this to avoid circular references\n",
       " * http://stackoverflow.com/a/24161582/3208463\n",
       " */\n",
       "function simpleKeys (original) {\n",
       "  return Object.keys(original).reduce(function (obj, key) {\n",
       "    if (typeof original[key] !== 'object')\n",
       "        obj[key] = original[key]\n",
       "    return obj;\n",
       "  }, {});\n",
       "}\n",
       "\n",
       "mpl.figure.prototype.mouse_event = function(event, name) {\n",
       "    var canvas_pos = mpl.findpos(event)\n",
       "\n",
       "    if (name === 'button_press')\n",
       "    {\n",
       "        this.canvas.focus();\n",
       "        this.canvas_div.focus();\n",
       "    }\n",
       "\n",
       "    var x = canvas_pos.x * mpl.ratio;\n",
       "    var y = canvas_pos.y * mpl.ratio;\n",
       "\n",
       "    this.send_message(name, {x: x, y: y, button: event.button,\n",
       "                             step: event.step,\n",
       "                             guiEvent: simpleKeys(event)});\n",
       "\n",
       "    /* This prevents the web browser from automatically changing to\n",
       "     * the text insertion cursor when the button is pressed.  We want\n",
       "     * to control all of the cursor setting manually through the\n",
       "     * 'cursor' event from matplotlib */\n",
       "    event.preventDefault();\n",
       "    return false;\n",
       "}\n",
       "\n",
       "mpl.figure.prototype._key_event_extra = function(event, name) {\n",
       "    // Handle any extra behaviour associated with a key event\n",
       "}\n",
       "\n",
       "mpl.figure.prototype.key_event = function(event, name) {\n",
       "\n",
       "    // Prevent repeat events\n",
       "    if (name == 'key_press')\n",
       "    {\n",
       "        if (event.which === this._key)\n",
       "            return;\n",
       "        else\n",
       "            this._key = event.which;\n",
       "    }\n",
       "    if (name == 'key_release')\n",
       "        this._key = null;\n",
       "\n",
       "    var value = '';\n",
       "    if (event.ctrlKey && event.which != 17)\n",
       "        value += \"ctrl+\";\n",
       "    if (event.altKey && event.which != 18)\n",
       "        value += \"alt+\";\n",
       "    if (event.shiftKey && event.which != 16)\n",
       "        value += \"shift+\";\n",
       "\n",
       "    value += 'k';\n",
       "    value += event.which.toString();\n",
       "\n",
       "    this._key_event_extra(event, name);\n",
       "\n",
       "    this.send_message(name, {key: value,\n",
       "                             guiEvent: simpleKeys(event)});\n",
       "    return false;\n",
       "}\n",
       "\n",
       "mpl.figure.prototype.toolbar_button_onclick = function(name) {\n",
       "    if (name == 'download') {\n",
       "        this.handle_save(this, null);\n",
       "    } else {\n",
       "        this.send_message(\"toolbar_button\", {name: name});\n",
       "    }\n",
       "};\n",
       "\n",
       "mpl.figure.prototype.toolbar_button_onmouseover = function(tooltip) {\n",
       "    this.message.textContent = tooltip;\n",
       "};\n",
       "mpl.toolbar_items = [[\"Home\", \"Reset original view\", \"fa fa-home icon-home\", \"home\"], [\"Back\", \"Back to  previous view\", \"fa fa-arrow-left icon-arrow-left\", \"back\"], [\"Forward\", \"Forward to next view\", \"fa fa-arrow-right icon-arrow-right\", \"forward\"], [\"\", \"\", \"\", \"\"], [\"Pan\", \"Pan axes with left mouse, zoom with right\", \"fa fa-arrows icon-move\", \"pan\"], [\"Zoom\", \"Zoom to rectangle\", \"fa fa-square-o icon-check-empty\", \"zoom\"], [\"\", \"\", \"\", \"\"], [\"Download\", \"Download plot\", \"fa fa-floppy-o icon-save\", \"download\"]];\n",
       "\n",
       "mpl.extensions = [\"eps\", \"jpeg\", \"pdf\", \"png\", \"ps\", \"raw\", \"svg\", \"tif\"];\n",
       "\n",
       "mpl.default_extension = \"png\";var comm_websocket_adapter = function(comm) {\n",
       "    // Create a \"websocket\"-like object which calls the given IPython comm\n",
       "    // object with the appropriate methods. Currently this is a non binary\n",
       "    // socket, so there is still some room for performance tuning.\n",
       "    var ws = {};\n",
       "\n",
       "    ws.close = function() {\n",
       "        comm.close()\n",
       "    };\n",
       "    ws.send = function(m) {\n",
       "        //console.log('sending', m);\n",
       "        comm.send(m);\n",
       "    };\n",
       "    // Register the callback with on_msg.\n",
       "    comm.on_msg(function(msg) {\n",
       "        //console.log('receiving', msg['content']['data'], msg);\n",
       "        // Pass the mpl event to the overridden (by mpl) onmessage function.\n",
       "        ws.onmessage(msg['content']['data'])\n",
       "    });\n",
       "    return ws;\n",
       "}\n",
       "\n",
       "mpl.mpl_figure_comm = function(comm, msg) {\n",
       "    // This is the function which gets called when the mpl process\n",
       "    // starts-up an IPython Comm through the \"matplotlib\" channel.\n",
       "\n",
       "    var id = msg.content.data.id;\n",
       "    // Get hold of the div created by the display call when the Comm\n",
       "    // socket was opened in Python.\n",
       "    var element = $(\"#\" + id);\n",
       "    var ws_proxy = comm_websocket_adapter(comm)\n",
       "\n",
       "    function ondownload(figure, format) {\n",
       "        window.open(figure.imageObj.src);\n",
       "    }\n",
       "\n",
       "    var fig = new mpl.figure(id, ws_proxy,\n",
       "                           ondownload,\n",
       "                           element.get(0));\n",
       "\n",
       "    // Call onopen now - mpl needs it, as it is assuming we've passed it a real\n",
       "    // web socket which is closed, not our websocket->open comm proxy.\n",
       "    ws_proxy.onopen();\n",
       "\n",
       "    fig.parent_element = element.get(0);\n",
       "    fig.cell_info = mpl.find_output_cell(\"<div id='\" + id + \"'></div>\");\n",
       "    if (!fig.cell_info) {\n",
       "        console.error(\"Failed to find cell for figure\", id, fig);\n",
       "        return;\n",
       "    }\n",
       "\n",
       "    var output_index = fig.cell_info[2]\n",
       "    var cell = fig.cell_info[0];\n",
       "\n",
       "};\n",
       "\n",
       "mpl.figure.prototype.handle_close = function(fig, msg) {\n",
       "    var width = fig.canvas.width/mpl.ratio\n",
       "    fig.root.unbind('remove')\n",
       "\n",
       "    // Update the output cell to use the data from the current canvas.\n",
       "    fig.push_to_output();\n",
       "    var dataURL = fig.canvas.toDataURL();\n",
       "    // Re-enable the keyboard manager in IPython - without this line, in FF,\n",
       "    // the notebook keyboard shortcuts fail.\n",
       "    IPython.keyboard_manager.enable()\n",
       "    $(fig.parent_element).html('<img src=\"' + dataURL + '\" width=\"' + width + '\">');\n",
       "    fig.close_ws(fig, msg);\n",
       "}\n",
       "\n",
       "mpl.figure.prototype.close_ws = function(fig, msg){\n",
       "    fig.send_message('closing', msg);\n",
       "    // fig.ws.close()\n",
       "}\n",
       "\n",
       "mpl.figure.prototype.push_to_output = function(remove_interactive) {\n",
       "    // Turn the data on the canvas into data in the output cell.\n",
       "    var width = this.canvas.width/mpl.ratio\n",
       "    var dataURL = this.canvas.toDataURL();\n",
       "    this.cell_info[1]['text/html'] = '<img src=\"' + dataURL + '\" width=\"' + width + '\">';\n",
       "}\n",
       "\n",
       "mpl.figure.prototype.updated_canvas_event = function() {\n",
       "    // Tell IPython that the notebook contents must change.\n",
       "    IPython.notebook.set_dirty(true);\n",
       "    this.send_message(\"ack\", {});\n",
       "    var fig = this;\n",
       "    // Wait a second, then push the new image to the DOM so\n",
       "    // that it is saved nicely (might be nice to debounce this).\n",
       "    setTimeout(function () { fig.push_to_output() }, 1000);\n",
       "}\n",
       "\n",
       "mpl.figure.prototype._init_toolbar = function() {\n",
       "    var fig = this;\n",
       "\n",
       "    var nav_element = $('<div/>')\n",
       "    nav_element.attr('style', 'width: 100%');\n",
       "    this.root.append(nav_element);\n",
       "\n",
       "    // Define a callback function for later on.\n",
       "    function toolbar_event(event) {\n",
       "        return fig.toolbar_button_onclick(event['data']);\n",
       "    }\n",
       "    function toolbar_mouse_event(event) {\n",
       "        return fig.toolbar_button_onmouseover(event['data']);\n",
       "    }\n",
       "\n",
       "    for(var toolbar_ind in mpl.toolbar_items){\n",
       "        var name = mpl.toolbar_items[toolbar_ind][0];\n",
       "        var tooltip = mpl.toolbar_items[toolbar_ind][1];\n",
       "        var image = mpl.toolbar_items[toolbar_ind][2];\n",
       "        var method_name = mpl.toolbar_items[toolbar_ind][3];\n",
       "\n",
       "        if (!name) { continue; };\n",
       "\n",
       "        var button = $('<button class=\"btn btn-default\" href=\"#\" title=\"' + name + '\"><i class=\"fa ' + image + ' fa-lg\"></i></button>');\n",
       "        button.click(method_name, toolbar_event);\n",
       "        button.mouseover(tooltip, toolbar_mouse_event);\n",
       "        nav_element.append(button);\n",
       "    }\n",
       "\n",
       "    // Add the status bar.\n",
       "    var status_bar = $('<span class=\"mpl-message\" style=\"text-align:right; float: right;\"/>');\n",
       "    nav_element.append(status_bar);\n",
       "    this.message = status_bar[0];\n",
       "\n",
       "    // Add the close button to the window.\n",
       "    var buttongrp = $('<div class=\"btn-group inline pull-right\"></div>');\n",
       "    var button = $('<button class=\"btn btn-mini btn-primary\" href=\"#\" title=\"Stop Interaction\"><i class=\"fa fa-power-off icon-remove icon-large\"></i></button>');\n",
       "    button.click(function (evt) { fig.handle_close(fig, {}); } );\n",
       "    button.mouseover('Stop Interaction', toolbar_mouse_event);\n",
       "    buttongrp.append(button);\n",
       "    var titlebar = this.root.find($('.ui-dialog-titlebar'));\n",
       "    titlebar.prepend(buttongrp);\n",
       "}\n",
       "\n",
       "mpl.figure.prototype._root_extra_style = function(el){\n",
       "    var fig = this\n",
       "    el.on(\"remove\", function(){\n",
       "\tfig.close_ws(fig, {});\n",
       "    });\n",
       "}\n",
       "\n",
       "mpl.figure.prototype._canvas_extra_style = function(el){\n",
       "    // this is important to make the div 'focusable\n",
       "    el.attr('tabindex', 0)\n",
       "    // reach out to IPython and tell the keyboard manager to turn it's self\n",
       "    // off when our div gets focus\n",
       "\n",
       "    // location in version 3\n",
       "    if (IPython.notebook.keyboard_manager) {\n",
       "        IPython.notebook.keyboard_manager.register_events(el);\n",
       "    }\n",
       "    else {\n",
       "        // location in version 2\n",
       "        IPython.keyboard_manager.register_events(el);\n",
       "    }\n",
       "\n",
       "}\n",
       "\n",
       "mpl.figure.prototype._key_event_extra = function(event, name) {\n",
       "    var manager = IPython.notebook.keyboard_manager;\n",
       "    if (!manager)\n",
       "        manager = IPython.keyboard_manager;\n",
       "\n",
       "    // Check for shift+enter\n",
       "    if (event.shiftKey && event.which == 13) {\n",
       "        this.canvas_div.blur();\n",
       "        event.shiftKey = false;\n",
       "        // Send a \"J\" for go to next cell\n",
       "        event.which = 74;\n",
       "        event.keyCode = 74;\n",
       "        manager.command_mode();\n",
       "        manager.handle_keydown(event);\n",
       "    }\n",
       "}\n",
       "\n",
       "mpl.figure.prototype.handle_save = function(fig, msg) {\n",
       "    fig.ondownload(fig, null);\n",
       "}\n",
       "\n",
       "\n",
       "mpl.find_output_cell = function(html_output) {\n",
       "    // Return the cell and output element which can be found *uniquely* in the notebook.\n",
       "    // Note - this is a bit hacky, but it is done because the \"notebook_saving.Notebook\"\n",
       "    // IPython event is triggered only after the cells have been serialised, which for\n",
       "    // our purposes (turning an active figure into a static one), is too late.\n",
       "    var cells = IPython.notebook.get_cells();\n",
       "    var ncells = cells.length;\n",
       "    for (var i=0; i<ncells; i++) {\n",
       "        var cell = cells[i];\n",
       "        if (cell.cell_type === 'code'){\n",
       "            for (var j=0; j<cell.output_area.outputs.length; j++) {\n",
       "                var data = cell.output_area.outputs[j];\n",
       "                if (data.data) {\n",
       "                    // IPython >= 3 moved mimebundle to data attribute of output\n",
       "                    data = data.data;\n",
       "                }\n",
       "                if (data['text/html'] == html_output) {\n",
       "                    return [cell, data, j];\n",
       "                }\n",
       "            }\n",
       "        }\n",
       "    }\n",
       "}\n",
       "\n",
       "// Register the function which deals with the matplotlib target/channel.\n",
       "// The kernel may be null if the page has been refreshed.\n",
       "if (IPython.notebook.kernel != null) {\n",
       "    IPython.notebook.kernel.comm_manager.register_target('matplotlib', mpl.mpl_figure_comm);\n",
       "}\n"
      ],
      "text/plain": [
       "<IPython.core.display.Javascript object>"
      ]
     },
     "metadata": {},
     "output_type": "display_data"
    },
    {
     "data": {
      "text/html": [
       "<img src=\"data:image/png;base64,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\" width=\"1499.6666666666667\">"
      ],
      "text/plain": [
       "<IPython.core.display.HTML object>"
      ]
     },
     "metadata": {},
     "output_type": "display_data"
    }
   ],
   "source": [
    "''' prior box heights vs Counts'''\n",
    "fig, ax = plt.subplots(figsize=(15, 5))\n",
    "plt.bar(height_unique, height_counts, width=8);"
   ]
  },
  {
   "cell_type": "code",
   "execution_count": 67,
   "metadata": {
    "ExecuteTime": {
     "end_time": "2018-10-24T12:18:40.858606Z",
     "start_time": "2018-10-24T12:18:40.840287Z"
    }
   },
   "outputs": [],
   "source": [
    "# [x for x in widths]\n",
    "priors_ = priors"
   ]
  },
  {
   "cell_type": "code",
   "execution_count": 61,
   "metadata": {
    "ExecuteTime": {
     "end_time": "2018-10-24T13:44:28.298906Z",
     "start_time": "2018-10-24T13:44:28.234741Z"
    }
   },
   "outputs": [],
   "source": [
    "cfg = {\n",
    "    'name': 'RSNA',\n",
    "    'num_classes': 2,  # 1 is bg\n",
    "    'lr_steps': (80000, 100000, 120000),\n",
    "    'max_iter': 120000,\n",
    "    'feature_maps': [38, 19, 10, 5, 3],\n",
    "    'min_dim': 300,\n",
    "    'steps': [8, 16, 32, 64, 100],  # distance b/w prior centroids (scaled to input image (300, 300))\n",
    "    'min_sizes': [60, 90, 120, 150, 180],  # s_k's (scaled to input image) of each feature maps (essentially, w and h)\n",
    "    'max_sizes': [80, 100, 120, 140, 160],\n",
    "    'aspect_ratios': [[1/3, 1/2, 2, 3], [1/3, 1/2, 2, 3], [1/3, 1/2, 2, 3], [1/3, 1/2, 2, 3], [1/3, 1/2, 2, 3]],\n",
    "\n",
    "    'variance': [0.1, 0.2],\n",
    "    'clip': True,\n",
    "    'base': {\n",
    "        '300': [64, 64, 'M', 128, 128, 'M', 256, 256, 256, 'C', 512, 512, 512, 'M', 512, 512, 512],\n",
    "    },\n",
    "    'extras': {\n",
    "        '300': [256, 'S', 512, 128, 'S', 256, 128, 256, 128, 256],\n",
    "    },\n",
    "    'mbox': {\n",
    "        '300': [5, 5, 5, 3, 3],  # number of boxes per feature map location\n",
    "    }\n",
    "}\n"
   ]
  },
  {
   "cell_type": "code",
   "execution_count": 3,
   "metadata": {
    "ExecuteTime": {
     "end_time": "2018-10-24T13:25:26.746890Z",
     "start_time": "2018-10-24T13:25:26.742693Z"
    }
   },
   "outputs": [],
   "source": [
    "def get_sk(k, m):\n",
    "    '''to compute s_k, m: number of feature maps, k=[1, m] '''\n",
    "    return 0.2 + (0.7 / (m - 1)) * (k - 1)"
   ]
  },
  {
   "cell_type": "code",
   "execution_count": 70,
   "metadata": {
    "ExecuteTime": {
     "end_time": "2018-10-24T14:21:16.113993Z",
     "start_time": "2018-10-24T14:21:16.053643Z"
    }
   },
   "outputs": [],
   "source": [
    "import pdb\n",
    "from math import sqrt as sqrt\n",
    "from itertools import product as product\n",
    "import torch\n",
    "\n",
    "\n",
    "class PriorBox(object):\n",
    "    \"\"\"Compute priorbox coordinates in center-offset form for each source\n",
    "    feature map.\n",
    "    \"\"\"\n",
    "    def __init__(self, cfg):\n",
    "        super(PriorBox, self).__init__()\n",
    "        self.image_size = cfg['min_dim']\n",
    "        # number of priors for feature map location (either 4 or 6)\n",
    "        self.num_priors = len(cfg['aspect_ratios'])\n",
    "        self.variance = cfg['variance'] or [0.1]\n",
    "        self.feature_maps = cfg['feature_maps']  # sizes of feature maps to be used\n",
    "        self.min_sizes = cfg['min_sizes']\n",
    "        self.max_sizes = cfg['max_sizes']\n",
    "        self.steps = cfg['steps']\n",
    "        self.aspect_ratios = cfg['aspect_ratios']\n",
    "        self.clip = cfg['clip']\n",
    "        self.version = cfg['name']\n",
    "        for v in self.variance:\n",
    "            if v <= 0:\n",
    "                raise ValueError('Variances must be greater than 0')\n",
    "\n",
    "    def forward(self):\n",
    "        mean = []\n",
    "        # pdb.set_trace()\n",
    "        for k, f in enumerate(self.feature_maps):  # [19, 10, 5, 3, 1],\n",
    "#             f_k = self.image_size / self.steps[k]  # [18.75, 9.375, 4.6875, 3.0, 1.0]\n",
    "            f_k = self.steps[k]  # [16, 32, 64, 100, 300]\n",
    "            for i, j in product(range(f), repeat=2):  # all possible coords in fxf feature map\n",
    "                # f * f cells are there in each fm\n",
    "                # 389, 100, 25, 3, 1 => prior boxes per fm\n",
    "                # unit center x,y\n",
    "#               cx = (j + 0.5) / f_k\n",
    "#               cy = (i + 0.5) / f_k\n",
    "                cx = (j + 0.5) * f_k\n",
    "                cy = (i + 0.5) * f_k\n",
    "                # print(f, cx, cy)\n",
    "                # continue\n",
    "\n",
    "                # aspect_ratio: 1\n",
    "                # rel size: min_size\n",
    "                s_k = self.min_sizes[k]\n",
    "                mean += [cx, cy, s_k, s_k]\n",
    "                # print([x*300 for x in mean[-4:]])\n",
    "                # if s_k * 300 < 50:\n",
    "                #     pdb.set_trace()\n",
    "\n",
    "                # aspect_ratio: 1\n",
    "                # rel size: sqrt(s_k * s_(k+1))\n",
    "#                 s_k_prime = sqrt(s_k * (self.max_sizes[k]))\n",
    "#                 mean += [cx, cy, s_k_prime, s_k_prime]\n",
    "                # print(mean[-1])\n",
    "\n",
    "                # rest of aspect ratios\n",
    "                for ar in self.aspect_ratios[k]:\n",
    "                    mean += [cx, cy, s_k * sqrt(ar), s_k / sqrt(ar)]  # transforming the box to the aspect ratio: ar, keeping the area constant (s_k ^ 2)\n",
    "        # back to torch land\n",
    "        output = torch.Tensor(mean).view(-1, 4)\n",
    "#         if self.clip:\n",
    "#             output.clamp_(max=1, min=0)\n",
    "        return output"
   ]
  },
  {
   "cell_type": "code",
   "execution_count": 71,
   "metadata": {
    "ExecuteTime": {
     "end_time": "2018-10-24T14:21:17.248895Z",
     "start_time": "2018-10-24T14:21:17.144858Z"
    },
    "scrolled": false
   },
   "outputs": [
    {
     "data": {
      "text/plain": [
       "torch.Size([9695, 4])"
      ]
     },
     "execution_count": 71,
     "metadata": {},
     "output_type": "execute_result"
    }
   ],
   "source": [
    "priors = PriorBox(cfg).forward()\n",
    "priors.shape"
   ]
  },
  {
   "cell_type": "code",
   "execution_count": 6,
   "metadata": {
    "ExecuteTime": {
     "end_time": "2018-10-24T13:09:54.124945Z",
     "start_time": "2018-10-24T13:09:54.089999Z"
    }
   },
   "outputs": [],
   "source": [
    "# for i in pd:\n",
    "#     print(i)"
   ]
  },
  {
   "cell_type": "code",
   "execution_count": 7,
   "metadata": {
    "ExecuteTime": {
     "end_time": "2018-10-24T13:10:09.325282Z",
     "start_time": "2018-10-24T13:09:54.974601Z"
    },
    "collapsed": true
   },
   "outputs": [
    {
     "name": "stderr",
     "output_type": "stream",
     "text": [
      "100%|██████████| 2480/2480 [00:06<00:00, 403.06it/s]\n"
     ]
    },
    {
     "data": {
      "image/png": "[encoded data removed]",
      "text/plain": [
       "<Figure size 720x720 with 1 Axes>"
      ]
     },
     "metadata": {},
     "output_type": "display_data"
    }
   ],
   "source": [
    "'''Let's plot all the priors (on a larger canvas that 300*300 as many priors go out of ROI)'''\n",
    "canvas = np.ones([500, 500])\n",
    "\n",
    "colors = ['b', 'g', 'r', 'c', 'm', 'y', 'k']\n",
    "fig, ax = plt.subplots(figsize=(10, 10))\n",
    "for box in tqdm(priors):\n",
    "    x, y, w, h = box\n",
    "    rect = plt.Rectangle((x, y), width=w, height=h, edgecolor=random.choice(colors), fill=None, linewidth=2)\n",
    "    ax.add_patch(rect)\n",
    "ax.imshow(canvas, cmap='binary')\n",
    "plt.show();"
   ]
  },
  {
   "cell_type": "code",
   "execution_count": 70,
   "metadata": {
    "ExecuteTime": {
     "end_time": "2018-10-24T12:19:11.848574Z",
     "start_time": "2018-10-24T12:19:10.567388Z"
    },
    "collapsed": true
   },
   "outputs": [
    {
     "name": "stderr",
     "output_type": "stream",
     "text": [
      "100%|██████████| 1488/1488 [00:00<00:00, 26676.72it/s]\n"
     ]
    },
    {
     "data": {
      "image/png": "[encoded data removed]",
      "text/plain": [
       "<Figure size 720x720 with 1 Axes>"
      ]
     },
     "metadata": {},
     "output_type": "display_data"
    }
   ],
   "source": [
    "'''Ploting centroids as dots on a canvas'''\n",
    "canvas = np.ones([300, 300])\n",
    "colors = ['b', 'g', 'r', 'c', 'm', 'y', 'k']\n",
    "fig, ax = plt.subplots(figsize=(10, 10))\n",
    "xs, ys = [], []\n",
    "for box in tqdm(priors):\n",
    "    x1, y1, w, h = [i.item() for i in box]  # box is a torch tensor\n",
    "    x, y = x1 + w /2, y1 + h / 2\n",
    "    xs.append(x)\n",
    "    ys.append(y)\n",
    "ax.imshow(canvas, cmap='binary')\n",
    "ax.scatter(xs, ys)\n",
    "plt.show();"
   ]
  },
  {
   "cell_type": "code",
   "execution_count": 7,
   "metadata": {
    "ExecuteTime": {
     "end_time": "2018-10-24T13:25:47.738902Z",
     "start_time": "2018-10-24T13:25:47.706914Z"
    }
   },
   "outputs": [],
   "source": [
    "%matploblib notebook # has to be rerun for real time plotting (nonsense, i know)"
   ]
  },
  {
   "cell_type": "code",
   "execution_count": 38,
   "metadata": {
    "ExecuteTime": {
     "end_time": "2018-10-24T13:38:06.230016Z",
     "start_time": "2018-10-24T13:37:35.410703Z"
    },
    "scrolled": false
   },
   "outputs": [
    {
     "data": {
      "application/javascript": [
       "/* Put everything inside the global mpl namespace */\n",
       "window.mpl = {};\n",
       "\n",
       "\n",
       "mpl.get_websocket_type = function() {\n",
       "    if (typeof(WebSocket) !== 'undefined') {\n",
       "        return WebSocket;\n",
       "    } else if (typeof(MozWebSocket) !== 'undefined') {\n",
       "        return MozWebSocket;\n",
       "    } else {\n",
       "        alert('Your browser does not have WebSocket support.' +\n",
       "              'Please try Chrome, Safari or Firefox ≥ 6. ' +\n",
       "              'Firefox 4 and 5 are also supported but you ' +\n",
       "              'have to enable WebSockets in about:config.');\n",
       "    };\n",
       "}\n",
       "\n",
       "mpl.figure = function(figure_id, websocket, ondownload, parent_element) {\n",
       "    this.id = figure_id;\n",
       "\n",
       "    this.ws = websocket;\n",
       "\n",
       "    this.supports_binary = (this.ws.binaryType != undefined);\n",
       "\n",
       "    if (!this.supports_binary) {\n",
       "        var warnings = document.getElementById(\"mpl-warnings\");\n",
       "        if (warnings) {\n",
       "            warnings.style.display = 'block';\n",
       "            warnings.textContent = (\n",
       "                \"This browser does not support binary websocket messages. \" +\n",
       "                    \"Performance may be slow.\");\n",
       "        }\n",
       "    }\n",
       "\n",
       "    this.imageObj = new Image();\n",
       "\n",
       "    this.context = undefined;\n",
       "    this.message = undefined;\n",
       "    this.canvas = undefined;\n",
       "    this.rubberband_canvas = undefined;\n",
       "    this.rubberband_context = undefined;\n",
       "    this.format_dropdown = undefined;\n",
       "\n",
       "    this.image_mode = 'full';\n",
       "\n",
       "    this.root = $('<div/>');\n",
       "    this._root_extra_style(this.root)\n",
       "    this.root.attr('style', 'display: inline-block');\n",
       "\n",
       "    $(parent_element).append(this.root);\n",
       "\n",
       "    this._init_header(this);\n",
       "    this._init_canvas(this);\n",
       "    this._init_toolbar(this);\n",
       "\n",
       "    var fig = this;\n",
       "\n",
       "    this.waiting = false;\n",
       "\n",
       "    this.ws.onopen =  function () {\n",
       "            fig.send_message(\"supports_binary\", {value: fig.supports_binary});\n",
       "            fig.send_message(\"send_image_mode\", {});\n",
       "            if (mpl.ratio != 1) {\n",
       "                fig.send_message(\"set_dpi_ratio\", {'dpi_ratio': mpl.ratio});\n",
       "            }\n",
       "            fig.send_message(\"refresh\", {});\n",
       "        }\n",
       "\n",
       "    this.imageObj.onload = function() {\n",
       "            if (fig.image_mode == 'full') {\n",
       "                // Full images could contain transparency (where diff images\n",
       "                // almost always do), so we need to clear the canvas so that\n",
       "                // there is no ghosting.\n",
       "                fig.context.clearRect(0, 0, fig.canvas.width, fig.canvas.height);\n",
       "            }\n",
       "            fig.context.drawImage(fig.imageObj, 0, 0);\n",
       "        };\n",
       "\n",
       "    this.imageObj.onunload = function() {\n",
       "        fig.ws.close();\n",
       "    }\n",
       "\n",
       "    this.ws.onmessage = this._make_on_message_function(this);\n",
       "\n",
       "    this.ondownload = ondownload;\n",
       "}\n",
       "\n",
       "mpl.figure.prototype._init_header = function() {\n",
       "    var titlebar = $(\n",
       "        '<div class=\"ui-dialog-titlebar ui-widget-header ui-corner-all ' +\n",
       "        'ui-helper-clearfix\"/>');\n",
       "    var titletext = $(\n",
       "        '<div class=\"ui-dialog-title\" style=\"width: 100%; ' +\n",
       "        'text-align: center; padding: 3px;\"/>');\n",
       "    titlebar.append(titletext)\n",
       "    this.root.append(titlebar);\n",
       "    this.header = titletext[0];\n",
       "}\n",
       "\n",
       "\n",
       "\n",
       "mpl.figure.prototype._canvas_extra_style = function(canvas_div) {\n",
       "\n",
       "}\n",
       "\n",
       "\n",
       "mpl.figure.prototype._root_extra_style = function(canvas_div) {\n",
       "\n",
       "}\n",
       "\n",
       "mpl.figure.prototype._init_canvas = function() {\n",
       "    var fig = this;\n",
       "\n",
       "    var canvas_div = $('<div/>');\n",
       "\n",
       "    canvas_div.attr('style', 'position: relative; clear: both; outline: 0');\n",
       "\n",
       "    function canvas_keyboard_event(event) {\n",
       "        return fig.key_event(event, event['data']);\n",
       "    }\n",
       "\n",
       "    canvas_div.keydown('key_press', canvas_keyboard_event);\n",
       "    canvas_div.keyup('key_release', canvas_keyboard_event);\n",
       "    this.canvas_div = canvas_div\n",
       "    this._canvas_extra_style(canvas_div)\n",
       "    this.root.append(canvas_div);\n",
       "\n",
       "    var canvas = $('<canvas/>');\n",
       "    canvas.addClass('mpl-canvas');\n",
       "    canvas.attr('style', \"left: 0; top: 0; z-index: 0; outline: 0\")\n",
       "\n",
       "    this.canvas = canvas[0];\n",
       "    this.context = canvas[0].getContext(\"2d\");\n",
       "\n",
       "    var backingStore = this.context.backingStorePixelRatio ||\n",
       "\tthis.context.webkitBackingStorePixelRatio ||\n",
       "\tthis.context.mozBackingStorePixelRatio ||\n",
       "\tthis.context.msBackingStorePixelRatio ||\n",
       "\tthis.context.oBackingStorePixelRatio ||\n",
       "\tthis.context.backingStorePixelRatio || 1;\n",
       "\n",
       "    mpl.ratio = (window.devicePixelRatio || 1) / backingStore;\n",
       "\n",
       "    var rubberband = $('<canvas/>');\n",
       "    rubberband.attr('style', \"position: absolute; left: 0; top: 0; z-index: 1;\")\n",
       "\n",
       "    var pass_mouse_events = true;\n",
       "\n",
       "    canvas_div.resizable({\n",
       "        start: function(event, ui) {\n",
       "            pass_mouse_events = false;\n",
       "        },\n",
       "        resize: function(event, ui) {\n",
       "            fig.request_resize(ui.size.width, ui.size.height);\n",
       "        },\n",
       "        stop: function(event, ui) {\n",
       "            pass_mouse_events = true;\n",
       "            fig.request_resize(ui.size.width, ui.size.height);\n",
       "        },\n",
       "    });\n",
       "\n",
       "    function mouse_event_fn(event) {\n",
       "        if (pass_mouse_events)\n",
       "            return fig.mouse_event(event, event['data']);\n",
       "    }\n",
       "\n",
       "    rubberband.mousedown('button_press', mouse_event_fn);\n",
       "    rubberband.mouseup('button_release', mouse_event_fn);\n",
       "    // Throttle sequential mouse events to 1 every 20ms.\n",
       "    rubberband.mousemove('motion_notify', mouse_event_fn);\n",
       "\n",
       "    rubberband.mouseenter('figure_enter', mouse_event_fn);\n",
       "    rubberband.mouseleave('figure_leave', mouse_event_fn);\n",
       "\n",
       "    canvas_div.on(\"wheel\", function (event) {\n",
       "        event = event.originalEvent;\n",
       "        event['data'] = 'scroll'\n",
       "        if (event.deltaY < 0) {\n",
       "            event.step = 1;\n",
       "        } else {\n",
       "            event.step = -1;\n",
       "        }\n",
       "        mouse_event_fn(event);\n",
       "    });\n",
       "\n",
       "    canvas_div.append(canvas);\n",
       "    canvas_div.append(rubberband);\n",
       "\n",
       "    this.rubberband = rubberband;\n",
       "    this.rubberband_canvas = rubberband[0];\n",
       "    this.rubberband_context = rubberband[0].getContext(\"2d\");\n",
       "    this.rubberband_context.strokeStyle = \"#000000\";\n",
       "\n",
       "    this._resize_canvas = function(width, height) {\n",
       "        // Keep the size of the canvas, canvas container, and rubber band\n",
       "        // canvas in synch.\n",
       "        canvas_div.css('width', width)\n",
       "        canvas_div.css('height', height)\n",
       "\n",
       "        canvas.attr('width', width * mpl.ratio);\n",
       "        canvas.attr('height', height * mpl.ratio);\n",
       "        canvas.attr('style', 'width: ' + width + 'px; height: ' + height + 'px;');\n",
       "\n",
       "        rubberband.attr('width', width);\n",
       "        rubberband.attr('height', height);\n",
       "    }\n",
       "\n",
       "    // Set the figure to an initial 600x600px, this will subsequently be updated\n",
       "    // upon first draw.\n",
       "    this._resize_canvas(600, 600);\n",
       "\n",
       "    // Disable right mouse context menu.\n",
       "    $(this.rubberband_canvas).bind(\"contextmenu\",function(e){\n",
       "        return false;\n",
       "    });\n",
       "\n",
       "    function set_focus () {\n",
       "        canvas.focus();\n",
       "        canvas_div.focus();\n",
       "    }\n",
       "\n",
       "    window.setTimeout(set_focus, 100);\n",
       "}\n",
       "\n",
       "mpl.figure.prototype._init_toolbar = function() {\n",
       "    var fig = this;\n",
       "\n",
       "    var nav_element = $('<div/>')\n",
       "    nav_element.attr('style', 'width: 100%');\n",
       "    this.root.append(nav_element);\n",
       "\n",
       "    // Define a callback function for later on.\n",
       "    function toolbar_event(event) {\n",
       "        return fig.toolbar_button_onclick(event['data']);\n",
       "    }\n",
       "    function toolbar_mouse_event(event) {\n",
       "        return fig.toolbar_button_onmouseover(event['data']);\n",
       "    }\n",
       "\n",
       "    for(var toolbar_ind in mpl.toolbar_items) {\n",
       "        var name = mpl.toolbar_items[toolbar_ind][0];\n",
       "        var tooltip = mpl.toolbar_items[toolbar_ind][1];\n",
       "        var image = mpl.toolbar_items[toolbar_ind][2];\n",
       "        var method_name = mpl.toolbar_items[toolbar_ind][3];\n",
       "\n",
       "        if (!name) {\n",
       "            // put a spacer in here.\n",
       "            continue;\n",
       "        }\n",
       "        var button = $('<button/>');\n",
       "        button.addClass('ui-button ui-widget ui-state-default ui-corner-all ' +\n",
       "                        'ui-button-icon-only');\n",
       "        button.attr('role', 'button');\n",
       "        button.attr('aria-disabled', 'false');\n",
       "        button.click(method_name, toolbar_event);\n",
       "        button.mouseover(tooltip, toolbar_mouse_event);\n",
       "\n",
       "        var icon_img = $('<span/>');\n",
       "        icon_img.addClass('ui-button-icon-primary ui-icon');\n",
       "        icon_img.addClass(image);\n",
       "        icon_img.addClass('ui-corner-all');\n",
       "\n",
       "        var tooltip_span = $('<span/>');\n",
       "        tooltip_span.addClass('ui-button-text');\n",
       "        tooltip_span.html(tooltip);\n",
       "\n",
       "        button.append(icon_img);\n",
       "        button.append(tooltip_span);\n",
       "\n",
       "        nav_element.append(button);\n",
       "    }\n",
       "\n",
       "    var fmt_picker_span = $('<span/>');\n",
       "\n",
       "    var fmt_picker = $('<select/>');\n",
       "    fmt_picker.addClass('mpl-toolbar-option ui-widget ui-widget-content');\n",
       "    fmt_picker_span.append(fmt_picker);\n",
       "    nav_element.append(fmt_picker_span);\n",
       "    this.format_dropdown = fmt_picker[0];\n",
       "\n",
       "    for (var ind in mpl.extensions) {\n",
       "        var fmt = mpl.extensions[ind];\n",
       "        var option = $(\n",
       "            '<option/>', {selected: fmt === mpl.default_extension}).html(fmt);\n",
       "        fmt_picker.append(option)\n",
       "    }\n",
       "\n",
       "    // Add hover states to the ui-buttons\n",
       "    $( \".ui-button\" ).hover(\n",
       "        function() { $(this).addClass(\"ui-state-hover\");},\n",
       "        function() { $(this).removeClass(\"ui-state-hover\");}\n",
       "    );\n",
       "\n",
       "    var status_bar = $('<span class=\"mpl-message\"/>');\n",
       "    nav_element.append(status_bar);\n",
       "    this.message = status_bar[0];\n",
       "}\n",
       "\n",
       "mpl.figure.prototype.request_resize = function(x_pixels, y_pixels) {\n",
       "    // Request matplotlib to resize the figure. Matplotlib will then trigger a resize in the client,\n",
       "    // which will in turn request a refresh of the image.\n",
       "    this.send_message('resize', {'width': x_pixels, 'height': y_pixels});\n",
       "}\n",
       "\n",
       "mpl.figure.prototype.send_message = function(type, properties) {\n",
       "    properties['type'] = type;\n",
       "    properties['figure_id'] = this.id;\n",
       "    this.ws.send(JSON.stringify(properties));\n",
       "}\n",
       "\n",
       "mpl.figure.prototype.send_draw_message = function() {\n",
       "    if (!this.waiting) {\n",
       "        this.waiting = true;\n",
       "        this.ws.send(JSON.stringify({type: \"draw\", figure_id: this.id}));\n",
       "    }\n",
       "}\n",
       "\n",
       "\n",
       "mpl.figure.prototype.handle_save = function(fig, msg) {\n",
       "    var format_dropdown = fig.format_dropdown;\n",
       "    var format = format_dropdown.options[format_dropdown.selectedIndex].value;\n",
       "    fig.ondownload(fig, format);\n",
       "}\n",
       "\n",
       "\n",
       "mpl.figure.prototype.handle_resize = function(fig, msg) {\n",
       "    var size = msg['size'];\n",
       "    if (size[0] != fig.canvas.width || size[1] != fig.canvas.height) {\n",
       "        fig._resize_canvas(size[0], size[1]);\n",
       "        fig.send_message(\"refresh\", {});\n",
       "    };\n",
       "}\n",
       "\n",
       "mpl.figure.prototype.handle_rubberband = function(fig, msg) {\n",
       "    var x0 = msg['x0'] / mpl.ratio;\n",
       "    var y0 = (fig.canvas.height - msg['y0']) / mpl.ratio;\n",
       "    var x1 = msg['x1'] / mpl.ratio;\n",
       "    var y1 = (fig.canvas.height - msg['y1']) / mpl.ratio;\n",
       "    x0 = Math.floor(x0) + 0.5;\n",
       "    y0 = Math.floor(y0) + 0.5;\n",
       "    x1 = Math.floor(x1) + 0.5;\n",
       "    y1 = Math.floor(y1) + 0.5;\n",
       "    var min_x = Math.min(x0, x1);\n",
       "    var min_y = Math.min(y0, y1);\n",
       "    var width = Math.abs(x1 - x0);\n",
       "    var height = Math.abs(y1 - y0);\n",
       "\n",
       "    fig.rubberband_context.clearRect(\n",
       "        0, 0, fig.canvas.width, fig.canvas.height);\n",
       "\n",
       "    fig.rubberband_context.strokeRect(min_x, min_y, width, height);\n",
       "}\n",
       "\n",
       "mpl.figure.prototype.handle_figure_label = function(fig, msg) {\n",
       "    // Updates the figure title.\n",
       "    fig.header.textContent = msg['label'];\n",
       "}\n",
       "\n",
       "mpl.figure.prototype.handle_cursor = function(fig, msg) {\n",
       "    var cursor = msg['cursor'];\n",
       "    switch(cursor)\n",
       "    {\n",
       "    case 0:\n",
       "        cursor = 'pointer';\n",
       "        break;\n",
       "    case 1:\n",
       "        cursor = 'default';\n",
       "        break;\n",
       "    case 2:\n",
       "        cursor = 'crosshair';\n",
       "        break;\n",
       "    case 3:\n",
       "        cursor = 'move';\n",
       "        break;\n",
       "    }\n",
       "    fig.rubberband_canvas.style.cursor = cursor;\n",
       "}\n",
       "\n",
       "mpl.figure.prototype.handle_message = function(fig, msg) {\n",
       "    fig.message.textContent = msg['message'];\n",
       "}\n",
       "\n",
       "mpl.figure.prototype.handle_draw = function(fig, msg) {\n",
       "    // Request the server to send over a new figure.\n",
       "    fig.send_draw_message();\n",
       "}\n",
       "\n",
       "mpl.figure.prototype.handle_image_mode = function(fig, msg) {\n",
       "    fig.image_mode = msg['mode'];\n",
       "}\n",
       "\n",
       "mpl.figure.prototype.updated_canvas_event = function() {\n",
       "    // Called whenever the canvas gets updated.\n",
       "    this.send_message(\"ack\", {});\n",
       "}\n",
       "\n",
       "// A function to construct a web socket function for onmessage handling.\n",
       "// Called in the figure constructor.\n",
       "mpl.figure.prototype._make_on_message_function = function(fig) {\n",
       "    return function socket_on_message(evt) {\n",
       "        if (evt.data instanceof Blob) {\n",
       "            /* FIXME: We get \"Resource interpreted as Image but\n",
       "             * transferred with MIME type text/plain:\" errors on\n",
       "             * Chrome.  But how to set the MIME type?  It doesn't seem\n",
       "             * to be part of the websocket stream */\n",
       "            evt.data.type = \"image/png\";\n",
       "\n",
       "            /* Free the memory for the previous frames */\n",
       "            if (fig.imageObj.src) {\n",
       "                (window.URL || window.webkitURL).revokeObjectURL(\n",
       "                    fig.imageObj.src);\n",
       "            }\n",
       "\n",
       "            fig.imageObj.src = (window.URL || window.webkitURL).createObjectURL(\n",
       "                evt.data);\n",
       "            fig.updated_canvas_event();\n",
       "            fig.waiting = false;\n",
       "            return;\n",
       "        }\n",
       "        else if (typeof evt.data === 'string' && evt.data.slice(0, 21) == \"data:image/png;base64\") {\n",
       "            fig.imageObj.src = evt.data;\n",
       "            fig.updated_canvas_event();\n",
       "            fig.waiting = false;\n",
       "            return;\n",
       "        }\n",
       "\n",
       "        var msg = JSON.parse(evt.data);\n",
       "        var msg_type = msg['type'];\n",
       "\n",
       "        // Call the  \"handle_{type}\" callback, which takes\n",
       "        // the figure and JSON message as its only arguments.\n",
       "        try {\n",
       "            var callback = fig[\"handle_\" + msg_type];\n",
       "        } catch (e) {\n",
       "            console.log(\"No handler for the '\" + msg_type + \"' message type: \", msg);\n",
       "            return;\n",
       "        }\n",
       "\n",
       "        if (callback) {\n",
       "            try {\n",
       "                // console.log(\"Handling '\" + msg_type + \"' message: \", msg);\n",
       "                callback(fig, msg);\n",
       "            } catch (e) {\n",
       "                console.log(\"Exception inside the 'handler_\" + msg_type + \"' callback:\", e, e.stack, msg);\n",
       "            }\n",
       "        }\n",
       "    };\n",
       "}\n",
       "\n",
       "// from http://stackoverflow.com/questions/1114465/getting-mouse-location-in-canvas\n",
       "mpl.findpos = function(e) {\n",
       "    //this section is from http://www.quirksmode.org/js/events_properties.html\n",
       "    var targ;\n",
       "    if (!e)\n",
       "        e = window.event;\n",
       "    if (e.target)\n",
       "        targ = e.target;\n",
       "    else if (e.srcElement)\n",
       "        targ = e.srcElement;\n",
       "    if (targ.nodeType == 3) // defeat Safari bug\n",
       "        targ = targ.parentNode;\n",
       "\n",
       "    // jQuery normalizes the pageX and pageY\n",
       "    // pageX,Y are the mouse positions relative to the document\n",
       "    // offset() returns the position of the element relative to the document\n",
       "    var x = e.pageX - $(targ).offset().left;\n",
       "    var y = e.pageY - $(targ).offset().top;\n",
       "\n",
       "    return {\"x\": x, \"y\": y};\n",
       "};\n",
       "\n",
       "/*\n",
       " * return a copy of an object with only non-object keys\n",
       " * we need this to avoid circular references\n",
       " * http://stackoverflow.com/a/24161582/3208463\n",
       " */\n",
       "function simpleKeys (original) {\n",
       "  return Object.keys(original).reduce(function (obj, key) {\n",
       "    if (typeof original[key] !== 'object')\n",
       "        obj[key] = original[key]\n",
       "    return obj;\n",
       "  }, {});\n",
       "}\n",
       "\n",
       "mpl.figure.prototype.mouse_event = function(event, name) {\n",
       "    var canvas_pos = mpl.findpos(event)\n",
       "\n",
       "    if (name === 'button_press')\n",
       "    {\n",
       "        this.canvas.focus();\n",
       "        this.canvas_div.focus();\n",
       "    }\n",
       "\n",
       "    var x = canvas_pos.x * mpl.ratio;\n",
       "    var y = canvas_pos.y * mpl.ratio;\n",
       "\n",
       "    this.send_message(name, {x: x, y: y, button: event.button,\n",
       "                             step: event.step,\n",
       "                             guiEvent: simpleKeys(event)});\n",
       "\n",
       "    /* This prevents the web browser from automatically changing to\n",
       "     * the text insertion cursor when the button is pressed.  We want\n",
       "     * to control all of the cursor setting manually through the\n",
       "     * 'cursor' event from matplotlib */\n",
       "    event.preventDefault();\n",
       "    return false;\n",
       "}\n",
       "\n",
       "mpl.figure.prototype._key_event_extra = function(event, name) {\n",
       "    // Handle any extra behaviour associated with a key event\n",
       "}\n",
       "\n",
       "mpl.figure.prototype.key_event = function(event, name) {\n",
       "\n",
       "    // Prevent repeat events\n",
       "    if (name == 'key_press')\n",
       "    {\n",
       "        if (event.which === this._key)\n",
       "            return;\n",
       "        else\n",
       "            this._key = event.which;\n",
       "    }\n",
       "    if (name == 'key_release')\n",
       "        this._key = null;\n",
       "\n",
       "    var value = '';\n",
       "    if (event.ctrlKey && event.which != 17)\n",
       "        value += \"ctrl+\";\n",
       "    if (event.altKey && event.which != 18)\n",
       "        value += \"alt+\";\n",
       "    if (event.shiftKey && event.which != 16)\n",
       "        value += \"shift+\";\n",
       "\n",
       "    value += 'k';\n",
       "    value += event.which.toString();\n",
       "\n",
       "    this._key_event_extra(event, name);\n",
       "\n",
       "    this.send_message(name, {key: value,\n",
       "                             guiEvent: simpleKeys(event)});\n",
       "    return false;\n",
       "}\n",
       "\n",
       "mpl.figure.prototype.toolbar_button_onclick = function(name) {\n",
       "    if (name == 'download') {\n",
       "        this.handle_save(this, null);\n",
       "    } else {\n",
       "        this.send_message(\"toolbar_button\", {name: name});\n",
       "    }\n",
       "};\n",
       "\n",
       "mpl.figure.prototype.toolbar_button_onmouseover = function(tooltip) {\n",
       "    this.message.textContent = tooltip;\n",
       "};\n",
       "mpl.toolbar_items = [[\"Home\", \"Reset original view\", \"fa fa-home icon-home\", \"home\"], [\"Back\", \"Back to  previous view\", \"fa fa-arrow-left icon-arrow-left\", \"back\"], [\"Forward\", \"Forward to next view\", \"fa fa-arrow-right icon-arrow-right\", \"forward\"], [\"\", \"\", \"\", \"\"], [\"Pan\", \"Pan axes with left mouse, zoom with right\", \"fa fa-arrows icon-move\", \"pan\"], [\"Zoom\", \"Zoom to rectangle\", \"fa fa-square-o icon-check-empty\", \"zoom\"], [\"\", \"\", \"\", \"\"], [\"Download\", \"Download plot\", \"fa fa-floppy-o icon-save\", \"download\"]];\n",
       "\n",
       "mpl.extensions = [\"eps\", \"jpeg\", \"pdf\", \"png\", \"ps\", \"raw\", \"svg\", \"tif\"];\n",
       "\n",
       "mpl.default_extension = \"png\";var comm_websocket_adapter = function(comm) {\n",
       "    // Create a \"websocket\"-like object which calls the given IPython comm\n",
       "    // object with the appropriate methods. Currently this is a non binary\n",
       "    // socket, so there is still some room for performance tuning.\n",
       "    var ws = {};\n",
       "\n",
       "    ws.close = function() {\n",
       "        comm.close()\n",
       "    };\n",
       "    ws.send = function(m) {\n",
       "        //console.log('sending', m);\n",
       "        comm.send(m);\n",
       "    };\n",
       "    // Register the callback with on_msg.\n",
       "    comm.on_msg(function(msg) {\n",
       "        //console.log('receiving', msg['content']['data'], msg);\n",
       "        // Pass the mpl event to the overridden (by mpl) onmessage function.\n",
       "        ws.onmessage(msg['content']['data'])\n",
       "    });\n",
       "    return ws;\n",
       "}\n",
       "\n",
       "mpl.mpl_figure_comm = function(comm, msg) {\n",
       "    // This is the function which gets called when the mpl process\n",
       "    // starts-up an IPython Comm through the \"matplotlib\" channel.\n",
       "\n",
       "    var id = msg.content.data.id;\n",
       "    // Get hold of the div created by the display call when the Comm\n",
       "    // socket was opened in Python.\n",
       "    var element = $(\"#\" + id);\n",
       "    var ws_proxy = comm_websocket_adapter(comm)\n",
       "\n",
       "    function ondownload(figure, format) {\n",
       "        window.open(figure.imageObj.src);\n",
       "    }\n",
       "\n",
       "    var fig = new mpl.figure(id, ws_proxy,\n",
       "                           ondownload,\n",
       "                           element.get(0));\n",
       "\n",
       "    // Call onopen now - mpl needs it, as it is assuming we've passed it a real\n",
       "    // web socket which is closed, not our websocket->open comm proxy.\n",
       "    ws_proxy.onopen();\n",
       "\n",
       "    fig.parent_element = element.get(0);\n",
       "    fig.cell_info = mpl.find_output_cell(\"<div id='\" + id + \"'></div>\");\n",
       "    if (!fig.cell_info) {\n",
       "        console.error(\"Failed to find cell for figure\", id, fig);\n",
       "        return;\n",
       "    }\n",
       "\n",
       "    var output_index = fig.cell_info[2]\n",
       "    var cell = fig.cell_info[0];\n",
       "\n",
       "};\n",
       "\n",
       "mpl.figure.prototype.handle_close = function(fig, msg) {\n",
       "    var width = fig.canvas.width/mpl.ratio\n",
       "    fig.root.unbind('remove')\n",
       "\n",
       "    // Update the output cell to use the data from the current canvas.\n",
       "    fig.push_to_output();\n",
       "    var dataURL = fig.canvas.toDataURL();\n",
       "    // Re-enable the keyboard manager in IPython - without this line, in FF,\n",
       "    // the notebook keyboard shortcuts fail.\n",
       "    IPython.keyboard_manager.enable()\n",
       "    $(fig.parent_element).html('<img src=\"' + dataURL + '\" width=\"' + width + '\">');\n",
       "    fig.close_ws(fig, msg);\n",
       "}\n",
       "\n",
       "mpl.figure.prototype.close_ws = function(fig, msg){\n",
       "    fig.send_message('closing', msg);\n",
       "    // fig.ws.close()\n",
       "}\n",
       "\n",
       "mpl.figure.prototype.push_to_output = function(remove_interactive) {\n",
       "    // Turn the data on the canvas into data in the output cell.\n",
       "    var width = this.canvas.width/mpl.ratio\n",
       "    var dataURL = this.canvas.toDataURL();\n",
       "    this.cell_info[1]['text/html'] = '<img src=\"' + dataURL + '\" width=\"' + width + '\">';\n",
       "}\n",
       "\n",
       "mpl.figure.prototype.updated_canvas_event = function() {\n",
       "    // Tell IPython that the notebook contents must change.\n",
       "    IPython.notebook.set_dirty(true);\n",
       "    this.send_message(\"ack\", {});\n",
       "    var fig = this;\n",
       "    // Wait a second, then push the new image to the DOM so\n",
       "    // that it is saved nicely (might be nice to debounce this).\n",
       "    setTimeout(function () { fig.push_to_output() }, 1000);\n",
       "}\n",
       "\n",
       "mpl.figure.prototype._init_toolbar = function() {\n",
       "    var fig = this;\n",
       "\n",
       "    var nav_element = $('<div/>')\n",
       "    nav_element.attr('style', 'width: 100%');\n",
       "    this.root.append(nav_element);\n",
       "\n",
       "    // Define a callback function for later on.\n",
       "    function toolbar_event(event) {\n",
       "        return fig.toolbar_button_onclick(event['data']);\n",
       "    }\n",
       "    function toolbar_mouse_event(event) {\n",
       "        return fig.toolbar_button_onmouseover(event['data']);\n",
       "    }\n",
       "\n",
       "    for(var toolbar_ind in mpl.toolbar_items){\n",
       "        var name = mpl.toolbar_items[toolbar_ind][0];\n",
       "        var tooltip = mpl.toolbar_items[toolbar_ind][1];\n",
       "        var image = mpl.toolbar_items[toolbar_ind][2];\n",
       "        var method_name = mpl.toolbar_items[toolbar_ind][3];\n",
       "\n",
       "        if (!name) { continue; };\n",
       "\n",
       "        var button = $('<button class=\"btn btn-default\" href=\"#\" title=\"' + name + '\"><i class=\"fa ' + image + ' fa-lg\"></i></button>');\n",
       "        button.click(method_name, toolbar_event);\n",
       "        button.mouseover(tooltip, toolbar_mouse_event);\n",
       "        nav_element.append(button);\n",
       "    }\n",
       "\n",
       "    // Add the status bar.\n",
       "    var status_bar = $('<span class=\"mpl-message\" style=\"text-align:right; float: right;\"/>');\n",
       "    nav_element.append(status_bar);\n",
       "    this.message = status_bar[0];\n",
       "\n",
       "    // Add the close button to the window.\n",
       "    var buttongrp = $('<div class=\"btn-group inline pull-right\"></div>');\n",
       "    var button = $('<button class=\"btn btn-mini btn-primary\" href=\"#\" title=\"Stop Interaction\"><i class=\"fa fa-power-off icon-remove icon-large\"></i></button>');\n",
       "    button.click(function (evt) { fig.handle_close(fig, {}); } );\n",
       "    button.mouseover('Stop Interaction', toolbar_mouse_event);\n",
       "    buttongrp.append(button);\n",
       "    var titlebar = this.root.find($('.ui-dialog-titlebar'));\n",
       "    titlebar.prepend(buttongrp);\n",
       "}\n",
       "\n",
       "mpl.figure.prototype._root_extra_style = function(el){\n",
       "    var fig = this\n",
       "    el.on(\"remove\", function(){\n",
       "\tfig.close_ws(fig, {});\n",
       "    });\n",
       "}\n",
       "\n",
       "mpl.figure.prototype._canvas_extra_style = function(el){\n",
       "    // this is important to make the div 'focusable\n",
       "    el.attr('tabindex', 0)\n",
       "    // reach out to IPython and tell the keyboard manager to turn it's self\n",
       "    // off when our div gets focus\n",
       "\n",
       "    // location in version 3\n",
       "    if (IPython.notebook.keyboard_manager) {\n",
       "        IPython.notebook.keyboard_manager.register_events(el);\n",
       "    }\n",
       "    else {\n",
       "        // location in version 2\n",
       "        IPython.keyboard_manager.register_events(el);\n",
       "    }\n",
       "\n",
       "}\n",
       "\n",
       "mpl.figure.prototype._key_event_extra = function(event, name) {\n",
       "    var manager = IPython.notebook.keyboard_manager;\n",
       "    if (!manager)\n",
       "        manager = IPython.keyboard_manager;\n",
       "\n",
       "    // Check for shift+enter\n",
       "    if (event.shiftKey && event.which == 13) {\n",
       "        this.canvas_div.blur();\n",
       "        event.shiftKey = false;\n",
       "        // Send a \"J\" for go to next cell\n",
       "        event.which = 74;\n",
       "        event.keyCode = 74;\n",
       "        manager.command_mode();\n",
       "        manager.handle_keydown(event);\n",
       "    }\n",
       "}\n",
       "\n",
       "mpl.figure.prototype.handle_save = function(fig, msg) {\n",
       "    fig.ondownload(fig, null);\n",
       "}\n",
       "\n",
       "\n",
       "mpl.find_output_cell = function(html_output) {\n",
       "    // Return the cell and output element which can be found *uniquely* in the notebook.\n",
       "    // Note - this is a bit hacky, but it is done because the \"notebook_saving.Notebook\"\n",
       "    // IPython event is triggered only after the cells have been serialised, which for\n",
       "    // our purposes (turning an active figure into a static one), is too late.\n",
       "    var cells = IPython.notebook.get_cells();\n",
       "    var ncells = cells.length;\n",
       "    for (var i=0; i<ncells; i++) {\n",
       "        var cell = cells[i];\n",
       "        if (cell.cell_type === 'code'){\n",
       "            for (var j=0; j<cell.output_area.outputs.length; j++) {\n",
       "                var data = cell.output_area.outputs[j];\n",
       "                if (data.data) {\n",
       "                    // IPython >= 3 moved mimebundle to data attribute of output\n",
       "                    data = data.data;\n",
       "                }\n",
       "                if (data['text/html'] == html_output) {\n",
       "                    return [cell, data, j];\n",
       "                }\n",
       "            }\n",
       "        }\n",
       "    }\n",
       "}\n",
       "\n",
       "// Register the function which deals with the matplotlib target/channel.\n",
       "// The kernel may be null if the page has been refreshed.\n",
       "if (IPython.notebook.kernel != null) {\n",
       "    IPython.notebook.kernel.comm_manager.register_target('matplotlib', mpl.mpl_figure_comm);\n",
       "}\n"
      ],
      "text/plain": [
       "<IPython.core.display.Javascript object>"
      ]
     },
     "metadata": {},
     "output_type": "display_data"
    },
    {
     "data": {
      "text/html": [
       "<img src=\"data:image/png;base64,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\" width=\"639.8333333333334\">"
      ],
      "text/plain": [
       "<IPython.core.display.HTML object>"
      ]
     },
     "metadata": {},
     "output_type": "display_data"
    },
    {
     "ename": "KeyboardInterrupt",
     "evalue": "",
     "output_type": "error",
     "traceback": [
      "\u001b[0;31m---------------------------------------------------------------------------\u001b[0m",
      "\u001b[0;31mKeyboardInterrupt\u001b[0m                         Traceback (most recent call last)",
      "\u001b[0;32m<ipython-input-38-55ee0d7b28d9>\u001b[0m in \u001b[0;36m<module>\u001b[0;34m()\u001b[0m\n\u001b[1;32m     15\u001b[0m         \u001b[0max\u001b[0m\u001b[0;34m.\u001b[0m\u001b[0madd_patch\u001b[0m\u001b[0;34m(\u001b[0m\u001b[0mrect\u001b[0m\u001b[0;34m)\u001b[0m\u001b[0;34m\u001b[0m\u001b[0m\n\u001b[1;32m     16\u001b[0m         \u001b[0max\u001b[0m\u001b[0;34m.\u001b[0m\u001b[0mscatter\u001b[0m\u001b[0;34m(\u001b[0m\u001b[0mx\u001b[0m\u001b[0;34m+\u001b[0m\u001b[0mw\u001b[0m\u001b[0;34m/\u001b[0m\u001b[0;36m2\u001b[0m\u001b[0;34m,\u001b[0m \u001b[0my\u001b[0m\u001b[0;34m+\u001b[0m\u001b[0mh\u001b[0m\u001b[0;34m/\u001b[0m\u001b[0;36m2\u001b[0m\u001b[0;34m)\u001b[0m\u001b[0;34m\u001b[0m\u001b[0m\n\u001b[0;32m---> 17\u001b[0;31m         \u001b[0mfig\u001b[0m\u001b[0;34m.\u001b[0m\u001b[0mcanvas\u001b[0m\u001b[0;34m.\u001b[0m\u001b[0mdraw\u001b[0m\u001b[0;34m(\u001b[0m\u001b[0;34m)\u001b[0m\u001b[0;34m;\u001b[0m\u001b[0;34m\u001b[0m\u001b[0m\n\u001b[0m\u001b[1;32m     18\u001b[0m         \u001b[0mplt\u001b[0m\u001b[0;34m.\u001b[0m\u001b[0mpause\u001b[0m\u001b[0;34m(\u001b[0m\u001b[0;36m1\u001b[0m\u001b[0;34m)\u001b[0m\u001b[0;34m\u001b[0m\u001b[0m\n\u001b[1;32m     19\u001b[0m         \u001b[0max\u001b[0m\u001b[0;34m.\u001b[0m\u001b[0mlegend\u001b[0m\u001b[0;34m(\u001b[0m\u001b[0;34m[\u001b[0m\u001b[0mcount\u001b[0m\u001b[0;34m]\u001b[0m\u001b[0;34m)\u001b[0m\u001b[0;34m\u001b[0m\u001b[0m\n",
      "\u001b[0;32m~/miniconda3/envs/ML/lib/python3.7/site-packages/matplotlib/backends/backend_webagg_core.py\u001b[0m in \u001b[0;36mdraw\u001b[0;34m(self)\u001b[0m\n\u001b[1;32m    157\u001b[0m         \u001b[0mbackend_agg\u001b[0m\u001b[0;34m.\u001b[0m\u001b[0mRendererAgg\u001b[0m\u001b[0;34m.\u001b[0m\u001b[0mlock\u001b[0m\u001b[0;34m.\u001b[0m\u001b[0macquire\u001b[0m\u001b[0;34m(\u001b[0m\u001b[0;34m)\u001b[0m\u001b[0;34m\u001b[0m\u001b[0m\n\u001b[1;32m    158\u001b[0m         \u001b[0;32mtry\u001b[0m\u001b[0;34m:\u001b[0m\u001b[0;34m\u001b[0m\u001b[0m\n\u001b[0;32m--> 159\u001b[0;31m             \u001b[0mself\u001b[0m\u001b[0;34m.\u001b[0m\u001b[0mfigure\u001b[0m\u001b[0;34m.\u001b[0m\u001b[0mdraw\u001b[0m\u001b[0;34m(\u001b[0m\u001b[0mrenderer\u001b[0m\u001b[0;34m)\u001b[0m\u001b[0;34m\u001b[0m\u001b[0m\n\u001b[0m\u001b[1;32m    160\u001b[0m         \u001b[0;32mfinally\u001b[0m\u001b[0;34m:\u001b[0m\u001b[0;34m\u001b[0m\u001b[0m\n\u001b[1;32m    161\u001b[0m             \u001b[0mbackend_agg\u001b[0m\u001b[0;34m.\u001b[0m\u001b[0mRendererAgg\u001b[0m\u001b[0;34m.\u001b[0m\u001b[0mlock\u001b[0m\u001b[0;34m.\u001b[0m\u001b[0mrelease\u001b[0m\u001b[0;34m(\u001b[0m\u001b[0;34m)\u001b[0m\u001b[0;34m\u001b[0m\u001b[0m\n",
      "\u001b[0;32m~/miniconda3/envs/ML/lib/python3.7/site-packages/matplotlib/artist.py\u001b[0m in \u001b[0;36mdraw_wrapper\u001b[0;34m(artist, renderer, *args, **kwargs)\u001b[0m\n\u001b[1;32m     53\u001b[0m                 \u001b[0mrenderer\u001b[0m\u001b[0;34m.\u001b[0m\u001b[0mstart_filter\u001b[0m\u001b[0;34m(\u001b[0m\u001b[0;34m)\u001b[0m\u001b[0;34m\u001b[0m\u001b[0m\n\u001b[1;32m     54\u001b[0m \u001b[0;34m\u001b[0m\u001b[0m\n\u001b[0;32m---> 55\u001b[0;31m             \u001b[0;32mreturn\u001b[0m \u001b[0mdraw\u001b[0m\u001b[0;34m(\u001b[0m\u001b[0martist\u001b[0m\u001b[0;34m,\u001b[0m \u001b[0mrenderer\u001b[0m\u001b[0;34m,\u001b[0m \u001b[0;34m*\u001b[0m\u001b[0margs\u001b[0m\u001b[0;34m,\u001b[0m \u001b[0;34m**\u001b[0m\u001b[0mkwargs\u001b[0m\u001b[0;34m)\u001b[0m\u001b[0;34m\u001b[0m\u001b[0m\n\u001b[0m\u001b[1;32m     56\u001b[0m         \u001b[0;32mfinally\u001b[0m\u001b[0;34m:\u001b[0m\u001b[0;34m\u001b[0m\u001b[0m\n\u001b[1;32m     57\u001b[0m             \u001b[0;32mif\u001b[0m \u001b[0martist\u001b[0m\u001b[0;34m.\u001b[0m\u001b[0mget_agg_filter\u001b[0m\u001b[0;34m(\u001b[0m\u001b[0;34m)\u001b[0m \u001b[0;32mis\u001b[0m \u001b[0;32mnot\u001b[0m \u001b[0;32mNone\u001b[0m\u001b[0;34m:\u001b[0m\u001b[0;34m\u001b[0m\u001b[0m\n",
      "\u001b[0;32m~/miniconda3/envs/ML/lib/python3.7/site-packages/matplotlib/figure.py\u001b[0m in \u001b[0;36mdraw\u001b[0;34m(self, renderer)\u001b[0m\n\u001b[1;32m   1491\u001b[0m \u001b[0;34m\u001b[0m\u001b[0m\n\u001b[1;32m   1492\u001b[0m             mimage._draw_list_compositing_images(\n\u001b[0;32m-> 1493\u001b[0;31m                 renderer, self, artists, self.suppressComposite)\n\u001b[0m\u001b[1;32m   1494\u001b[0m \u001b[0;34m\u001b[0m\u001b[0m\n\u001b[1;32m   1495\u001b[0m             \u001b[0mrenderer\u001b[0m\u001b[0;34m.\u001b[0m\u001b[0mclose_group\u001b[0m\u001b[0;34m(\u001b[0m\u001b[0;34m'figure'\u001b[0m\u001b[0;34m)\u001b[0m\u001b[0;34m\u001b[0m\u001b[0m\n",
      "\u001b[0;32m~/miniconda3/envs/ML/lib/python3.7/site-packages/matplotlib/image.py\u001b[0m in \u001b[0;36m_draw_list_compositing_images\u001b[0;34m(renderer, parent, artists, suppress_composite)\u001b[0m\n\u001b[1;32m    139\u001b[0m     \u001b[0;32mif\u001b[0m \u001b[0mnot_composite\u001b[0m \u001b[0;32mor\u001b[0m \u001b[0;32mnot\u001b[0m \u001b[0mhas_images\u001b[0m\u001b[0;34m:\u001b[0m\u001b[0;34m\u001b[0m\u001b[0m\n\u001b[1;32m    140\u001b[0m         \u001b[0;32mfor\u001b[0m \u001b[0ma\u001b[0m \u001b[0;32min\u001b[0m \u001b[0martists\u001b[0m\u001b[0;34m:\u001b[0m\u001b[0;34m\u001b[0m\u001b[0m\n\u001b[0;32m--> 141\u001b[0;31m             \u001b[0ma\u001b[0m\u001b[0;34m.\u001b[0m\u001b[0mdraw\u001b[0m\u001b[0;34m(\u001b[0m\u001b[0mrenderer\u001b[0m\u001b[0;34m)\u001b[0m\u001b[0;34m\u001b[0m\u001b[0m\n\u001b[0m\u001b[1;32m    142\u001b[0m     \u001b[0;32melse\u001b[0m\u001b[0;34m:\u001b[0m\u001b[0;34m\u001b[0m\u001b[0m\n\u001b[1;32m    143\u001b[0m         \u001b[0;31m# Composite any adjacent images together\u001b[0m\u001b[0;34m\u001b[0m\u001b[0;34m\u001b[0m\u001b[0m\n",
      "\u001b[0;32m~/miniconda3/envs/ML/lib/python3.7/site-packages/matplotlib/artist.py\u001b[0m in \u001b[0;36mdraw_wrapper\u001b[0;34m(artist, renderer, *args, **kwargs)\u001b[0m\n\u001b[1;32m     53\u001b[0m                 \u001b[0mrenderer\u001b[0m\u001b[0;34m.\u001b[0m\u001b[0mstart_filter\u001b[0m\u001b[0;34m(\u001b[0m\u001b[0;34m)\u001b[0m\u001b[0;34m\u001b[0m\u001b[0m\n\u001b[1;32m     54\u001b[0m \u001b[0;34m\u001b[0m\u001b[0m\n\u001b[0;32m---> 55\u001b[0;31m             \u001b[0;32mreturn\u001b[0m \u001b[0mdraw\u001b[0m\u001b[0;34m(\u001b[0m\u001b[0martist\u001b[0m\u001b[0;34m,\u001b[0m \u001b[0mrenderer\u001b[0m\u001b[0;34m,\u001b[0m \u001b[0;34m*\u001b[0m\u001b[0margs\u001b[0m\u001b[0;34m,\u001b[0m \u001b[0;34m**\u001b[0m\u001b[0mkwargs\u001b[0m\u001b[0;34m)\u001b[0m\u001b[0;34m\u001b[0m\u001b[0m\n\u001b[0m\u001b[1;32m     56\u001b[0m         \u001b[0;32mfinally\u001b[0m\u001b[0;34m:\u001b[0m\u001b[0;34m\u001b[0m\u001b[0m\n\u001b[1;32m     57\u001b[0m             \u001b[0;32mif\u001b[0m \u001b[0martist\u001b[0m\u001b[0;34m.\u001b[0m\u001b[0mget_agg_filter\u001b[0m\u001b[0;34m(\u001b[0m\u001b[0;34m)\u001b[0m \u001b[0;32mis\u001b[0m \u001b[0;32mnot\u001b[0m \u001b[0;32mNone\u001b[0m\u001b[0;34m:\u001b[0m\u001b[0;34m\u001b[0m\u001b[0m\n",
      "\u001b[0;32m~/miniconda3/envs/ML/lib/python3.7/site-packages/matplotlib/axes/_base.py\u001b[0m in \u001b[0;36mdraw\u001b[0;34m(self, renderer, inframe)\u001b[0m\n\u001b[1;32m   2633\u001b[0m             \u001b[0mrenderer\u001b[0m\u001b[0;34m.\u001b[0m\u001b[0mstop_rasterizing\u001b[0m\u001b[0;34m(\u001b[0m\u001b[0;34m)\u001b[0m\u001b[0;34m\u001b[0m\u001b[0m\n\u001b[1;32m   2634\u001b[0m \u001b[0;34m\u001b[0m\u001b[0m\n\u001b[0;32m-> 2635\u001b[0;31m         \u001b[0mmimage\u001b[0m\u001b[0;34m.\u001b[0m\u001b[0m_draw_list_compositing_images\u001b[0m\u001b[0;34m(\u001b[0m\u001b[0mrenderer\u001b[0m\u001b[0;34m,\u001b[0m \u001b[0mself\u001b[0m\u001b[0;34m,\u001b[0m \u001b[0martists\u001b[0m\u001b[0;34m)\u001b[0m\u001b[0;34m\u001b[0m\u001b[0m\n\u001b[0m\u001b[1;32m   2636\u001b[0m \u001b[0;34m\u001b[0m\u001b[0m\n\u001b[1;32m   2637\u001b[0m         \u001b[0mrenderer\u001b[0m\u001b[0;34m.\u001b[0m\u001b[0mclose_group\u001b[0m\u001b[0;34m(\u001b[0m\u001b[0;34m'axes'\u001b[0m\u001b[0;34m)\u001b[0m\u001b[0;34m\u001b[0m\u001b[0m\n",
      "\u001b[0;32m~/miniconda3/envs/ML/lib/python3.7/site-packages/matplotlib/image.py\u001b[0m in \u001b[0;36m_draw_list_compositing_images\u001b[0;34m(renderer, parent, artists, suppress_composite)\u001b[0m\n\u001b[1;32m    139\u001b[0m     \u001b[0;32mif\u001b[0m \u001b[0mnot_composite\u001b[0m \u001b[0;32mor\u001b[0m \u001b[0;32mnot\u001b[0m \u001b[0mhas_images\u001b[0m\u001b[0;34m:\u001b[0m\u001b[0;34m\u001b[0m\u001b[0m\n\u001b[1;32m    140\u001b[0m         \u001b[0;32mfor\u001b[0m \u001b[0ma\u001b[0m \u001b[0;32min\u001b[0m \u001b[0martists\u001b[0m\u001b[0;34m:\u001b[0m\u001b[0;34m\u001b[0m\u001b[0m\n\u001b[0;32m--> 141\u001b[0;31m             \u001b[0ma\u001b[0m\u001b[0;34m.\u001b[0m\u001b[0mdraw\u001b[0m\u001b[0;34m(\u001b[0m\u001b[0mrenderer\u001b[0m\u001b[0;34m)\u001b[0m\u001b[0;34m\u001b[0m\u001b[0m\n\u001b[0m\u001b[1;32m    142\u001b[0m     \u001b[0;32melse\u001b[0m\u001b[0;34m:\u001b[0m\u001b[0;34m\u001b[0m\u001b[0m\n\u001b[1;32m    143\u001b[0m         \u001b[0;31m# Composite any adjacent images together\u001b[0m\u001b[0;34m\u001b[0m\u001b[0;34m\u001b[0m\u001b[0m\n",
      "\u001b[0;32m~/miniconda3/envs/ML/lib/python3.7/site-packages/matplotlib/artist.py\u001b[0m in \u001b[0;36mdraw_wrapper\u001b[0;34m(artist, renderer, *args, **kwargs)\u001b[0m\n\u001b[1;32m     53\u001b[0m                 \u001b[0mrenderer\u001b[0m\u001b[0;34m.\u001b[0m\u001b[0mstart_filter\u001b[0m\u001b[0;34m(\u001b[0m\u001b[0;34m)\u001b[0m\u001b[0;34m\u001b[0m\u001b[0m\n\u001b[1;32m     54\u001b[0m \u001b[0;34m\u001b[0m\u001b[0m\n\u001b[0;32m---> 55\u001b[0;31m             \u001b[0;32mreturn\u001b[0m \u001b[0mdraw\u001b[0m\u001b[0;34m(\u001b[0m\u001b[0martist\u001b[0m\u001b[0;34m,\u001b[0m \u001b[0mrenderer\u001b[0m\u001b[0;34m,\u001b[0m \u001b[0;34m*\u001b[0m\u001b[0margs\u001b[0m\u001b[0;34m,\u001b[0m \u001b[0;34m**\u001b[0m\u001b[0mkwargs\u001b[0m\u001b[0;34m)\u001b[0m\u001b[0;34m\u001b[0m\u001b[0m\n\u001b[0m\u001b[1;32m     56\u001b[0m         \u001b[0;32mfinally\u001b[0m\u001b[0;34m:\u001b[0m\u001b[0;34m\u001b[0m\u001b[0m\n\u001b[1;32m     57\u001b[0m             \u001b[0;32mif\u001b[0m \u001b[0martist\u001b[0m\u001b[0;34m.\u001b[0m\u001b[0mget_agg_filter\u001b[0m\u001b[0;34m(\u001b[0m\u001b[0;34m)\u001b[0m \u001b[0;32mis\u001b[0m \u001b[0;32mnot\u001b[0m \u001b[0;32mNone\u001b[0m\u001b[0;34m:\u001b[0m\u001b[0;34m\u001b[0m\u001b[0m\n",
      "\u001b[0;32m~/miniconda3/envs/ML/lib/python3.7/site-packages/matplotlib/axis.py\u001b[0m in \u001b[0;36mdraw\u001b[0;34m(self, renderer, *args, **kwargs)\u001b[0m\n\u001b[1;32m   1190\u001b[0m         \u001b[0mticks_to_draw\u001b[0m \u001b[0;34m=\u001b[0m \u001b[0mself\u001b[0m\u001b[0;34m.\u001b[0m\u001b[0m_update_ticks\u001b[0m\u001b[0;34m(\u001b[0m\u001b[0mrenderer\u001b[0m\u001b[0;34m)\u001b[0m\u001b[0;34m\u001b[0m\u001b[0m\n\u001b[1;32m   1191\u001b[0m         ticklabelBoxes, ticklabelBoxes2 = self._get_tick_bboxes(ticks_to_draw,\n\u001b[0;32m-> 1192\u001b[0;31m                                                                 renderer)\n\u001b[0m\u001b[1;32m   1193\u001b[0m \u001b[0;34m\u001b[0m\u001b[0m\n\u001b[1;32m   1194\u001b[0m         \u001b[0;32mfor\u001b[0m \u001b[0mtick\u001b[0m \u001b[0;32min\u001b[0m \u001b[0mticks_to_draw\u001b[0m\u001b[0;34m:\u001b[0m\u001b[0;34m\u001b[0m\u001b[0m\n",
      "\u001b[0;32m~/miniconda3/envs/ML/lib/python3.7/site-packages/matplotlib/axis.py\u001b[0m in \u001b[0;36m_get_tick_bboxes\u001b[0;34m(self, ticks, renderer)\u001b[0m\n\u001b[1;32m   1128\u001b[0m         \u001b[0;32mfor\u001b[0m \u001b[0mtick\u001b[0m \u001b[0;32min\u001b[0m \u001b[0mticks\u001b[0m\u001b[0;34m:\u001b[0m\u001b[0;34m\u001b[0m\u001b[0m\n\u001b[1;32m   1129\u001b[0m             \u001b[0;32mif\u001b[0m \u001b[0mtick\u001b[0m\u001b[0;34m.\u001b[0m\u001b[0mlabel1On\u001b[0m \u001b[0;32mand\u001b[0m \u001b[0mtick\u001b[0m\u001b[0;34m.\u001b[0m\u001b[0mlabel1\u001b[0m\u001b[0;34m.\u001b[0m\u001b[0mget_visible\u001b[0m\u001b[0;34m(\u001b[0m\u001b[0;34m)\u001b[0m\u001b[0;34m:\u001b[0m\u001b[0;34m\u001b[0m\u001b[0m\n\u001b[0;32m-> 1130\u001b[0;31m                 \u001b[0mextent\u001b[0m \u001b[0;34m=\u001b[0m \u001b[0mtick\u001b[0m\u001b[0;34m.\u001b[0m\u001b[0mlabel1\u001b[0m\u001b[0;34m.\u001b[0m\u001b[0mget_window_extent\u001b[0m\u001b[0;34m(\u001b[0m\u001b[0mrenderer\u001b[0m\u001b[0;34m)\u001b[0m\u001b[0;34m\u001b[0m\u001b[0m\n\u001b[0m\u001b[1;32m   1131\u001b[0m                 \u001b[0mticklabelBoxes\u001b[0m\u001b[0;34m.\u001b[0m\u001b[0mappend\u001b[0m\u001b[0;34m(\u001b[0m\u001b[0mextent\u001b[0m\u001b[0;34m)\u001b[0m\u001b[0;34m\u001b[0m\u001b[0m\n\u001b[1;32m   1132\u001b[0m             \u001b[0;32mif\u001b[0m \u001b[0mtick\u001b[0m\u001b[0;34m.\u001b[0m\u001b[0mlabel2On\u001b[0m \u001b[0;32mand\u001b[0m \u001b[0mtick\u001b[0m\u001b[0;34m.\u001b[0m\u001b[0mlabel2\u001b[0m\u001b[0;34m.\u001b[0m\u001b[0mget_visible\u001b[0m\u001b[0;34m(\u001b[0m\u001b[0;34m)\u001b[0m\u001b[0;34m:\u001b[0m\u001b[0;34m\u001b[0m\u001b[0m\n",
      "\u001b[0;32m~/miniconda3/envs/ML/lib/python3.7/site-packages/matplotlib/text.py\u001b[0m in \u001b[0;36mget_window_extent\u001b[0;34m(self, renderer, dpi)\u001b[0m\n\u001b[1;32m    920\u001b[0m             \u001b[0;32mraise\u001b[0m \u001b[0mRuntimeError\u001b[0m\u001b[0;34m(\u001b[0m\u001b[0;34m'Cannot get window extent w/o renderer'\u001b[0m\u001b[0;34m)\u001b[0m\u001b[0;34m\u001b[0m\u001b[0m\n\u001b[1;32m    921\u001b[0m \u001b[0;34m\u001b[0m\u001b[0m\n\u001b[0;32m--> 922\u001b[0;31m         \u001b[0mbbox\u001b[0m\u001b[0;34m,\u001b[0m \u001b[0minfo\u001b[0m\u001b[0;34m,\u001b[0m \u001b[0mdescent\u001b[0m \u001b[0;34m=\u001b[0m \u001b[0mself\u001b[0m\u001b[0;34m.\u001b[0m\u001b[0m_get_layout\u001b[0m\u001b[0;34m(\u001b[0m\u001b[0mself\u001b[0m\u001b[0;34m.\u001b[0m\u001b[0m_renderer\u001b[0m\u001b[0;34m)\u001b[0m\u001b[0;34m\u001b[0m\u001b[0m\n\u001b[0m\u001b[1;32m    923\u001b[0m         \u001b[0mx\u001b[0m\u001b[0;34m,\u001b[0m \u001b[0my\u001b[0m \u001b[0;34m=\u001b[0m \u001b[0mself\u001b[0m\u001b[0;34m.\u001b[0m\u001b[0mget_unitless_position\u001b[0m\u001b[0;34m(\u001b[0m\u001b[0;34m)\u001b[0m\u001b[0;34m\u001b[0m\u001b[0m\n\u001b[1;32m    924\u001b[0m         \u001b[0mx\u001b[0m\u001b[0;34m,\u001b[0m \u001b[0my\u001b[0m \u001b[0;34m=\u001b[0m \u001b[0mself\u001b[0m\u001b[0;34m.\u001b[0m\u001b[0mget_transform\u001b[0m\u001b[0;34m(\u001b[0m\u001b[0;34m)\u001b[0m\u001b[0;34m.\u001b[0m\u001b[0mtransform_point\u001b[0m\u001b[0;34m(\u001b[0m\u001b[0;34m(\u001b[0m\u001b[0mx\u001b[0m\u001b[0;34m,\u001b[0m \u001b[0my\u001b[0m\u001b[0;34m)\u001b[0m\u001b[0;34m)\u001b[0m\u001b[0;34m\u001b[0m\u001b[0m\n",
      "\u001b[0;32m~/miniconda3/envs/ML/lib/python3.7/site-packages/matplotlib/text.py\u001b[0m in \u001b[0;36m_get_layout\u001b[0;34m(self, renderer)\u001b[0m\n\u001b[1;32m    280\u001b[0m         \u001b[0mof\u001b[0m \u001b[0ma\u001b[0m \u001b[0mrotated\u001b[0m \u001b[0mtext\u001b[0m \u001b[0mwhen\u001b[0m \u001b[0mnecessary\u001b[0m\u001b[0;34m.\u001b[0m\u001b[0;34m\u001b[0m\u001b[0m\n\u001b[1;32m    281\u001b[0m         \"\"\"\n\u001b[0;32m--> 282\u001b[0;31m         \u001b[0mkey\u001b[0m \u001b[0;34m=\u001b[0m \u001b[0mself\u001b[0m\u001b[0;34m.\u001b[0m\u001b[0mget_prop_tup\u001b[0m\u001b[0;34m(\u001b[0m\u001b[0mrenderer\u001b[0m\u001b[0;34m=\u001b[0m\u001b[0mrenderer\u001b[0m\u001b[0;34m)\u001b[0m\u001b[0;34m\u001b[0m\u001b[0m\n\u001b[0m\u001b[1;32m    283\u001b[0m         \u001b[0;32mif\u001b[0m \u001b[0mkey\u001b[0m \u001b[0;32min\u001b[0m \u001b[0mself\u001b[0m\u001b[0;34m.\u001b[0m\u001b[0m_cached\u001b[0m\u001b[0;34m:\u001b[0m\u001b[0;34m\u001b[0m\u001b[0m\n\u001b[1;32m    284\u001b[0m             \u001b[0;32mreturn\u001b[0m \u001b[0mself\u001b[0m\u001b[0;34m.\u001b[0m\u001b[0m_cached\u001b[0m\u001b[0;34m[\u001b[0m\u001b[0mkey\u001b[0m\u001b[0;34m]\u001b[0m\u001b[0;34m\u001b[0m\u001b[0m\n",
      "\u001b[0;32m~/miniconda3/envs/ML/lib/python3.7/site-packages/matplotlib/text.py\u001b[0m in \u001b[0;36mget_prop_tup\u001b[0;34m(self, renderer)\u001b[0m\n\u001b[1;32m    866\u001b[0m                 \u001b[0mhash\u001b[0m\u001b[0;34m(\u001b[0m\u001b[0mself\u001b[0m\u001b[0;34m.\u001b[0m\u001b[0m_fontproperties\u001b[0m\u001b[0;34m)\u001b[0m\u001b[0;34m,\u001b[0m\u001b[0;34m\u001b[0m\u001b[0m\n\u001b[1;32m    867\u001b[0m                 \u001b[0mself\u001b[0m\u001b[0;34m.\u001b[0m\u001b[0m_rotation\u001b[0m\u001b[0;34m,\u001b[0m \u001b[0mself\u001b[0m\u001b[0;34m.\u001b[0m\u001b[0m_rotation_mode\u001b[0m\u001b[0;34m,\u001b[0m\u001b[0;34m\u001b[0m\u001b[0m\n\u001b[0;32m--> 868\u001b[0;31m                 \u001b[0mself\u001b[0m\u001b[0;34m.\u001b[0m\u001b[0mfigure\u001b[0m\u001b[0;34m.\u001b[0m\u001b[0mdpi\u001b[0m\u001b[0;34m,\u001b[0m \u001b[0mweakref\u001b[0m\u001b[0;34m.\u001b[0m\u001b[0mref\u001b[0m\u001b[0;34m(\u001b[0m\u001b[0mrenderer\u001b[0m\u001b[0;34m)\u001b[0m\u001b[0;34m,\u001b[0m\u001b[0;34m\u001b[0m\u001b[0m\n\u001b[0m\u001b[1;32m    869\u001b[0m                 \u001b[0mself\u001b[0m\u001b[0;34m.\u001b[0m\u001b[0m_linespacing\u001b[0m\u001b[0;34m\u001b[0m\u001b[0m\n\u001b[1;32m    870\u001b[0m                 )\n",
      "\u001b[0;31mKeyboardInterrupt\u001b[0m: "
     ]
    }
   ],
   "source": [
    "canvas = np.ones([300, 300])\n",
    "colors = ['b', 'g', 'r', 'c', 'm', 'y', 'k']\n",
    "count = 0\n",
    "fig, ax = plt.subplots()#figsize=(10, 10))\n",
    "ax.imshow(canvas, cmap='binary')\n",
    "fig.canvas.draw()\n",
    "start = 38**2*5 + 361*5 + 100*5\n",
    "count = start\n",
    "for idx, box in enumerate(priors[start:]):\n",
    "    x, y, w, h = box\n",
    "    if count>=0:\n",
    "        rect = plt.Rectangle((x, y), width=w, height=h, edgecolor=random.choice(colors), fill=None, linewidth=2)\n",
    "        ax.add_patch(rect)\n",
    "        ax.scatter(x+w/2, y+h/2)\n",
    "        fig.canvas.draw();\n",
    "        plt.pause(1)\n",
    "        ax.legend([count])\n",
    "    count += 1\n",
    "plt.show()"
   ]
  },
  {
   "cell_type": "code",
   "execution_count": 30,
   "metadata": {
    "ExecuteTime": {
     "end_time": "2018-10-24T13:32:48.638728Z",
     "start_time": "2018-10-24T13:32:48.557846Z"
    }
   },
   "outputs": [
    {
     "data": {
      "text/plain": [
       "{0.3333333134651184, 0.3333333432674408, 0.5, 1.0, 2.0, 2.999999761581421, 3.0}"
      ]
     },
     "execution_count": 30,
     "metadata": {},
     "output_type": "execute_result"
    }
   ],
   "source": [
    "ARs = set()\n",
    "for box in priors:\n",
    "    x1, y1, w, h = box\n",
    "    ARs.add((w/h).item())\n",
    "ARs"
   ]
  },
  {
   "cell_type": "code",
   "execution_count": null,
   "metadata": {},
   "outputs": [],
   "source": [
    "def area(box):\n",
    "    XMin, YMin, XMax, YMax = box\n",
    "    w = XMax - XMin + 1\n",
    "    h = YMax - YMin + 1\n",
    "#     print(abs(w), abs(h))\n",
    "    return abs(w*h)"
   ]
  },
  {
   "cell_type": "code",
   "execution_count": null,
   "metadata": {},
   "outputs": [],
   "source": [
    "for idx, box in enumerate(priors):\n",
    "#     print(box)\n",
    "    a = area(box)\n",
    "    print(a)\n",
    "#     break"
   ]
  },
  {
   "cell_type": "code",
   "execution_count": null,
   "metadata": {},
   "outputs": [],
   "source": [
    "priors"
   ]
  },
  {
   "cell_type": "code",
   "execution_count": null,
   "metadata": {},
   "outputs": [],
   "source": []
  },
  {
   "cell_type": "code",
   "execution_count": null,
   "metadata": {},
   "outputs": [],
   "source": []
  },
  {
   "cell_type": "code",
   "execution_count": null,
   "metadata": {},
   "outputs": [],
   "source": []
  },
  {
   "cell_type": "markdown",
   "metadata": {},
   "source": [
    "\n",
    "## random testing"
   ]
  },
  {
   "cell_type": "markdown",
   "metadata": {},
   "source": [
    "## Testing data"
   ]
  },
  {
   "cell_type": "code",
   "execution_count": null,
   "metadata": {},
   "outputs": [],
   "source": [
    "df = pd.read_csv('data/stage_1_train_labels.csv')"
   ]
  },
  {
   "cell_type": "code",
   "execution_count": null,
   "metadata": {},
   "outputs": [],
   "source": []
  },
  {
   "cell_type": "code",
   "execution_count": null,
   "metadata": {},
   "outputs": [],
   "source": [
    "df.head()"
   ]
  },
  {
   "cell_type": "code",
   "execution_count": null,
   "metadata": {},
   "outputs": [],
   "source": [
    "df = df[df['Target'] == 1]\n",
    "df_groups = df.groupby([\"patientId\"]).groups"
   ]
  },
  {
   "cell_type": "code",
   "execution_count": null,
   "metadata": {},
   "outputs": [],
   "source": [
    "df.head()"
   ]
  },
  {
   "cell_type": "code",
   "execution_count": null,
   "metadata": {},
   "outputs": [],
   "source": [
    "df.iloc[0]"
   ]
  },
  {
   "cell_type": "code",
   "execution_count": null,
   "metadata": {},
   "outputs": [],
   "source": [
    "random.seed(69)\n",
    "df_groups = df.groupby([\"patientId\"]).groups\n",
    "fnames = df_groups.keys()"
   ]
  },
  {
   "cell_type": "code",
   "execution_count": null,
   "metadata": {},
   "outputs": [],
   "source": [
    "\n",
    "# train_fnames, val_fnames = train_test_split(fnames, test_size=0.2)\n",
    "# fnames = train_fnames if phase == \"train\" else val_fnames\n",
    "boxes = []\n",
    "labels = []\n",
    "for name in fnames:\n",
    "    indices = df_groups[name]\n",
    "    box, label = [], []\n",
    "    for idx in indices:\n",
    "        line = df.iloc[idx]\n",
    "        if line['Target']:\n",
    "            x, y = line[\"x\"], line[\"y\"]\n",
    "            box.append([x, y, (x + line[\"width\"]), (y + line[\"height\"])])\n",
    "    labels.append(np.zeros(len(box)))\n",
    "    boxes.append(box)\n",
    "    if len(boxes) >10: break  # just for testing\n",
    "num_samples = len(fnames)\n"
   ]
  },
  {
   "cell_type": "code",
   "execution_count": null,
   "metadata": {},
   "outputs": [],
   "source": [
    "len(fnames)"
   ]
  },
  {
   "cell_type": "markdown",
   "metadata": {
    "heading_collapsed": true
   },
   "source": [
    "## Testing dataloader"
   ]
  },
  {
   "cell_type": "code",
   "execution_count": null,
   "metadata": {
    "ExecuteTime": {
     "end_time": "2018-10-22T07:00:56.670944Z",
     "start_time": "2018-10-22T07:00:54.589931Z"
    },
    "hidden": true
   },
   "outputs": [],
   "source": [
    "from data.dataloader import provider\n",
    "# from utils.augmentations import *"
   ]
  },
  {
   "cell_type": "code",
   "execution_count": null,
   "metadata": {
    "ExecuteTime": {
     "end_time": "2018-10-22T07:01:00.215150Z",
     "start_time": "2018-10-22T07:00:57.628475Z"
    },
    "hidden": true
   },
   "outputs": [],
   "source": [
    "df = pd.read_csv(\"../data/stage_1_train_labels.csv\")\n",
    "df_groups = df.groupby([\"patientId\"]).groups"
   ]
  },
  {
   "cell_type": "code",
   "execution_count": null,
   "metadata": {
    "ExecuteTime": {
     "end_time": "2018-10-22T07:01:13.935103Z",
     "start_time": "2018-10-22T07:01:13.169047Z"
    },
    "hidden": true
   },
   "outputs": [],
   "source": [
    "dataloader = provider(phase='train', num_workers=4)"
   ]
  },
  {
   "cell_type": "code",
   "execution_count": null,
   "metadata": {
    "ExecuteTime": {
     "end_time": "2018-10-22T06:51:56.123158Z",
     "start_time": "2018-10-22T06:51:56.113906Z"
    },
    "hidden": true
   },
   "outputs": [],
   "source": [
    "# dataloader = provider(phase='train', num_workers=0)\n",
    "# size=300\n",
    "# mean=(104, 117, 123)\n",
    "# transforms = [\n",
    "#     ConvertFromInts(),\n",
    "#     PhotometricDistort(),\n",
    "#     Expand(mean),\n",
    "# #     RandomSampleCrop(),\n",
    "#     RandomMirror(),\n",
    "#     ToPercentCoords(),\n",
    "#     Resize(300),\n",
    "#     SubtractMeans(mean)\n",
    "# ]\n",
    "\n",
    "# dataloader.dataset.transform.augment = Compose(transforms)"
   ]
  },
  {
   "cell_type": "code",
   "execution_count": null,
   "metadata": {
    "ExecuteTime": {
     "end_time": "2018-10-22T07:03:01.332333Z",
     "start_time": "2018-10-22T07:01:30.458503Z"
    },
    "hidden": true
   },
   "outputs": [],
   "source": [
    "fnames, images, boxes = next(iter(dataloader))\n",
    "index_range = iter(range(len(images)))"
   ]
  },
  {
   "cell_type": "code",
   "execution_count": null,
   "metadata": {
    "ExecuteTime": {
     "end_time": "2018-10-22T07:03:18.543213Z",
     "start_time": "2018-10-22T07:03:18.512344Z"
    },
    "hidden": true
   },
   "outputs": [],
   "source": [
    "boxes"
   ]
  },
  {
   "cell_type": "code",
   "execution_count": null,
   "metadata": {
    "ExecuteTime": {
     "end_time": "2018-10-22T06:41:11.812581Z",
     "start_time": "2018-10-22T06:41:11.803712Z"
    },
    "hidden": true
   },
   "outputs": [],
   "source": [
    "# images[i].shape\n",
    "# images[i].numpy().transpose(1,2,0) + np.array((104, 117, 123), dtype=np.float32)"
   ]
  },
  {
   "cell_type": "code",
   "execution_count": null,
   "metadata": {
    "ExecuteTime": {
     "end_time": "2018-10-22T10:25:41.442935Z",
     "start_time": "2018-10-22T10:25:36.923438Z"
    },
    "hidden": true
   },
   "outputs": [],
   "source": [
    "'''Plot random images from the dataloader with the original ground truth bboxes'''\n",
    "# i = random.choice(list(range(len(images))))\n",
    "i = next(index_range)\n",
    "print(i, boxes[i])\n",
    "fig = plt.figure(figsize=(40, 10))\n",
    "ax = fig.add_subplot(111)\n",
    "j = 0\n",
    "for box in boxes[i]:\n",
    "    box = [i.item() * 300 for i in box[:4]]\n",
    "#     print(box)\n",
    "    XMin, YMin, XMax, YMax = box\n",
    "    w = XMax - XMin\n",
    "    h = YMax - YMin\n",
    "    rect = plt.Rectangle((XMin, YMin), width=w, height=h, edgecolor='r', fill=None, linewidth=2)\n",
    "    ax.add_patch(rect)\n",
    "    j += 1\n",
    "img_aug = images[i].numpy().transpose(1,2,0) + np.array((104, 117, 123), dtype=np.float32)\n",
    "img_aug = img_aug.astype('int')\n",
    "ax.imshow(img_aug, cmap=\"gist_gray\", label=\"aug image\")\n",
    "\n",
    "\n",
    "ax = fig.add_subplot(122)\n",
    "# print(fnames[i])\n",
    "gt_boxes = []\n",
    "indices = df_groups[fnames[i]]\n",
    "for idx in indices:\n",
    "    line = df.iloc[idx]\n",
    "    x, y = line[\"x\"], line[\"y\"]\n",
    "    if line[\"Target\"]:\n",
    "        gt_boxes.append([x, y, (x + line[\"width\"]), (y + line[\"height\"])])\n",
    "img = pydicom.read_file('../data/stage_1_train_images/' + fnames[i] + \".dcm\")\n",
    "img = np.expand_dims(img.pixel_array, -1)\n",
    "img = img.repeat(3, axis=-1)\n",
    "for box in gt_boxes:\n",
    "    XMin, YMin, XMax, YMax = box\n",
    "    w = XMax - XMin\n",
    "    h = YMax - YMin\n",
    "    rect = plt.Rectangle((XMin, YMin), width=w, height=h, edgecolor='r', fill=None, linewidth=2)\n",
    "    ax.add_patch(rect)\n",
    "    j += 1\n",
    "ax.imshow(img / 255, cmap=\"gist_gray\", label=\"org image\")\n",
    "plt.show()"
   ]
  },
  {
   "cell_type": "code",
   "execution_count": null,
   "metadata": {
    "hidden": true
   },
   "outputs": [],
   "source": []
  },
  {
   "cell_type": "code",
   "execution_count": null,
   "metadata": {
    "hidden": true
   },
   "outputs": [],
   "source": []
  },
  {
   "cell_type": "code",
   "execution_count": null,
   "metadata": {
    "hidden": true
   },
   "outputs": [],
   "source": []
  },
  {
   "cell_type": "code",
   "execution_count": null,
   "metadata": {
    "hidden": true
   },
   "outputs": [],
   "source": []
  },
  {
   "cell_type": "code",
   "execution_count": null,
   "metadata": {
    "hidden": true
   },
   "outputs": [],
   "source": []
  },
  {
   "cell_type": "code",
   "execution_count": null,
   "metadata": {
    "ExecuteTime": {
     "end_time": "2018-10-22T06:54:37.530125Z",
     "start_time": "2018-10-22T06:54:37.426375Z"
    },
    "hidden": true
   },
   "outputs": [],
   "source": [
    "iaa.Affine?"
   ]
  },
  {
   "cell_type": "code",
   "execution_count": null,
   "metadata": {
    "ExecuteTime": {
     "end_time": "2018-10-08T13:10:19.660235Z",
     "start_time": "2018-10-08T13:10:19.588027Z"
    },
    "hidden": true
   },
   "outputs": [],
   "source": [
    "np.max(images[i].numpy().transpose(1,2,0))"
   ]
  },
  {
   "cell_type": "code",
   "execution_count": null,
   "metadata": {
    "ExecuteTime": {
     "end_time": "2018-10-08T13:12:51.563641Z",
     "start_time": "2018-10-08T13:12:38.837434Z"
    },
    "hidden": true
   },
   "outputs": [],
   "source": [
    "import imgaug as ia\n",
    "from imgaug import augmenters as iaa\n",
    "\n",
    "ia.seed(1)\n"
   ]
  },
  {
   "cell_type": "code",
   "execution_count": null,
   "metadata": {
    "ExecuteTime": {
     "end_time": "2018-10-08T13:27:54.263317Z",
     "start_time": "2018-10-08T13:27:54.216278Z"
    },
    "hidden": true
   },
   "outputs": [],
   "source": [
    "ia.BoundingBoxesOnImage?"
   ]
  },
  {
   "cell_type": "code",
   "execution_count": null,
   "metadata": {
    "ExecuteTime": {
     "end_time": "2018-10-08T13:37:02.314910Z",
     "start_time": "2018-10-08T13:37:02.047441Z"
    },
    "hidden": true
   },
   "outputs": [],
   "source": [
    "\n",
    "image = ia.quokka(size=(256, 256))\n",
    "bbs = ia.BoundingBoxesOnImage([ia.BoundingBox(*[0, 0, 1, 1])], shape=image.shape)\n",
    "\n",
    "seq = iaa.Sequential([\n",
    "    iaa.Multiply((1.2, 1.5)), # change brightness, doesn't affect BBs\n",
    "    iaa.Affine(\n",
    "        translate_px={\"x\": 40, \"y\": 60},\n",
    "        scale=(0.5, 0.7)\n",
    "    ) # translate by 40/60px on x/y axis, and scale to 50-70%, affects BBs\n",
    "])\n",
    "\n",
    "seq_det = seq.to_deterministic()\n",
    "image_aug = seq_det.augment_images([image])[0]\n",
    "bbs_aug = seq_det.augment_bounding_boxes([bbs])[0]\n",
    "\n",
    "# print coordinates before/after augmentation (see below)\n",
    "# use .x1_int, .y_int, ... to get integer coordinates\n",
    "for i in range(len(bbs.bounding_boxes)):\n",
    "    before = bbs.bounding_boxes[i]\n",
    "    after = bbs_aug.bounding_boxes[i]\n",
    "    print(\"BB %d: (%.4f, %.4f, %.4f, %.4f) -> (%.4f, %.4f, %.4f, %.4f)\" % (\n",
    "        i,\n",
    "        before.x1, before.y1, before.x2, before.y2,\n",
    "        after.x1, after.y1, after.x2, after.y2)\n",
    "    )\n",
    "\n",
    "# image with BBs before/after augmentation (shown below)\n",
    "image_before = bbs.draw_on_image(image, thickness=2)\n",
    "image_after = bbs_aug.draw_on_image(image_aug, thickness=2, color=[0, 0, 255])\n"
   ]
  },
  {
   "cell_type": "code",
   "execution_count": null,
   "metadata": {
    "ExecuteTime": {
     "end_time": "2018-10-22T06:13:43.677493Z",
     "start_time": "2018-10-22T06:13:43.580652Z"
    },
    "hidden": true
   },
   "outputs": [],
   "source": [
    "bbs_aug."
   ]
  },
  {
   "cell_type": "code",
   "execution_count": null,
   "metadata": {
    "ExecuteTime": {
     "end_time": "2018-10-08T13:37:13.461368Z",
     "start_time": "2018-10-08T13:37:11.833981Z"
    },
    "hidden": true
   },
   "outputs": [],
   "source": [
    "plt.imshow(image_after)"
   ]
  },
  {
   "cell_type": "code",
   "execution_count": null,
   "metadata": {
    "ExecuteTime": {
     "end_time": "2018-10-08T12:49:53.542205Z",
     "start_time": "2018-10-08T12:49:53.522282Z"
    },
    "hidden": true
   },
   "outputs": [],
   "source": []
  },
  {
   "cell_type": "markdown",
   "metadata": {
    "heading_collapsed": true
   },
   "source": [
    "## Prepare VOC formatted dataset"
   ]
  },
  {
   "cell_type": "code",
   "execution_count": null,
   "metadata": {
    "hidden": true
   },
   "outputs": [],
   "source": [
    "from pascal_voc_writer import Writer\n",
    "import random\n",
    "import numpy as np\n",
    "import pandas as pd\n",
    "from tqdm import tqdm\n",
    "import matplotlib.pyplot as plt\n",
    "import matplotlib.image as mpimg\n",
    "from collections import defaultdict\n",
    "%matplotlib inline"
   ]
  },
  {
   "cell_type": "code",
   "execution_count": null,
   "metadata": {
    "hidden": true
   },
   "outputs": [],
   "source": [
    "root = '/home/eee/ug/15084015/ML/codefest/data/'\n",
    "image_data_root = '/home/eee/ug/15084015/ML/codefest/data/image_data/'"
   ]
  },
  {
   "cell_type": "code",
   "execution_count": null,
   "metadata": {
    "hidden": true
   },
   "outputs": [],
   "source": [
    "'''Prepare xml annotations using bbox_train.csv file'''\n",
    "\n",
    "image_root = 'VOCFace/JPEGImages/'\n",
    "annotations_root = 'VOCFace/Annotations/'\n",
    "\n",
    "df = pd.read_csv(root + \"train.csv\")\n",
    "box_df = pd.read_csv(root + \"bbox_train.csv\")\n",
    "fnames = df[\"Name\"].values\n",
    "box_df_groups = box_df.groupby([\"Name\"]).groups\n",
    "\n",
    "for name in tqdm(fnames):\n",
    "    indices = box_df_groups[name]\n",
    "    width = box_df.iloc[indices[0]]['width']\n",
    "    height = box_df.iloc[indices[0]]['height']\n",
    "    writer = Writer(image_root + '17182.jpg', width, height)\n",
    "    for idx in indices:\n",
    "        line = box_df.iloc[idx]\n",
    "        writer.addObject('face', line[\"xmin\"], line[\"ymin\"], line[\"xmax\"], line[\"ymax\"])\n",
    "    writer.save(annotations_root + name.split('.')[0] + '.xml')"
   ]
  },
  {
   "cell_type": "code",
   "execution_count": null,
   "metadata": {
    "hidden": true
   },
   "outputs": [],
   "source": [
    "'''Create trainval.txt file too '''\n",
    "fnames_clean = [x.split('.')[0] for x in fnames]\n",
    "trainvalfile = open('VOCFace/ImageSets/Main/trainval.txt', 'w')\n",
    "for item in fnames_clean:\n",
    "    trainvalfile.write(\"%s\\n\" % item)"
   ]
  },
  {
   "cell_type": "code",
   "execution_count": null,
   "metadata": {
    "hidden": true
   },
   "outputs": [],
   "source": []
  },
  {
   "cell_type": "code",
   "execution_count": null,
   "metadata": {
    "hidden": true
   },
   "outputs": [],
   "source": []
  }
 ],
 "metadata": {
  "kernelspec": {
   "display_name": "ML",
   "language": "python",
   "name": "ml"
  },
  "language_info": {
   "codemirror_mode": {
    "name": "ipython",
    "version": 3
   },
   "file_extension": ".py",
   "mimetype": "text/x-python",
   "name": "python",
   "nbconvert_exporter": "python",
   "pygments_lexer": "ipython3",
   "version": "3.7.0"
  }
 },
 "nbformat": 4,
 "nbformat_minor": 2
}
