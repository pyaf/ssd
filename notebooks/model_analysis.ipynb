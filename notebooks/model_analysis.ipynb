{
 "cells": [
  {
   "cell_type": "code",
   "execution_count": null,
   "metadata": {
    "ExecuteTime": {
     "end_time": "2018-10-23T14:13:23.659486Z",
     "start_time": "2018-10-23T14:13:23.622955Z"
    }
   },
   "outputs": [],
   "source": [
    "import sys\n",
    "sys.path.append('../')\n",
    "from __future__ import print_function\n",
    "import pdb\n",
    "from PIL import Image\n",
    "import matplotlib.pyplot as plt\n",
    "import sys\n",
    "import random\n",
    "import os\n",
    "import argparse\n",
    "import torch\n",
    "import pandas as pd\n",
    "import torch.nn as nn\n",
    "import torch.backends.cudnn as cudnn\n",
    "import torchvision.transforms as transforms\n",
    "from torch.autograd import Variable\n",
    "from data.dataloader import DATA_ROOT\n",
    "from data.transform import BaseTransform\n",
    "from data.config import HOME\n",
    "from PIL import Image\n",
    "from ssd import *\n",
    "import torch.utils.data as data\n",
    "from data.dataloader import provider\n",
    "from submission import *\n",
    "\n",
    "%matplotlib inline"
   ]
  },
  {
   "cell_type": "code",
   "execution_count": null,
   "metadata": {
    "ExecuteTime": {
     "end_time": "2018-10-23T14:13:00.274507Z",
     "start_time": "2018-10-23T14:13:00.073048Z"
    }
   },
   "outputs": [],
   "source": [
    "cuda=True\n",
    "if cuda and torch.cuda.is_available():\n",
    "    torch.set_default_tensor_type('torch.cuda.FloatTensor')\n",
    "else:\n",
    "    torch.set_default_tensor_type('torch.FloatTensor')\n",
    "visual_threshold = 0.6\n",
    "device = torch.device(\"cuda:0\" if cuda else \"cpu\")\n",
    "\n",
    "trained_model_path = '../weights/model.pth'"
   ]
  },
  {
   "cell_type": "code",
   "execution_count": null,
   "metadata": {
    "ExecuteTime": {
     "end_time": "2018-10-23T14:13:16.873069Z",
     "start_time": "2018-10-23T14:13:00.935225Z"
    }
   },
   "outputs": [],
   "source": [
    "# load net\n",
    "num_classes = len(CLASSES) + 1 # +1 background\n",
    "net = build_ssd('test', 300, num_classes) # initialize SSD\n",
    "net = torch.nn.DataParallel(net)"
   ]
  },
  {
   "cell_type": "code",
   "execution_count": null,
   "metadata": {
    "ExecuteTime": {
     "end_time": "2018-10-23T14:13:20.624289Z",
     "start_time": "2018-10-23T14:13:16.907910Z"
    }
   },
   "outputs": [],
   "source": [
    "# if not cuda:\n",
    "#     net.load_state_dict(torch.load(trained_model_path,  map_location=lambda storage, loc: storage)['state'])\n",
    "# else:\n",
    "net.load_state_dict(torch.load(trained_model_path)['state_dict'])\n",
    "net = net.to(device)\n",
    "net.eval();"
   ]
  },
  {
   "cell_type": "markdown",
   "metadata": {
    "ExecuteTime": {
     "end_time": "2018-10-23T13:23:45.146000Z",
     "start_time": "2018-10-23T13:23:45.140186Z"
    },
    "heading_collapsed": true
   },
   "source": [
    "## Analyse the model on dataloader"
   ]
  },
  {
   "cell_type": "code",
   "execution_count": null,
   "metadata": {
    "ExecuteTime": {
     "end_time": "2018-10-23T13:27:45.074446Z",
     "start_time": "2018-10-23T13:27:45.040057Z"
    },
    "hidden": true
   },
   "outputs": [],
   "source": [
    "dataloader = provider(phase='val', batch_size=8)"
   ]
  },
  {
   "cell_type": "code",
   "execution_count": null,
   "metadata": {
    "ExecuteTime": {
     "end_time": "2018-10-23T13:27:47.709649Z",
     "start_time": "2018-10-23T13:27:45.730103Z"
    },
    "hidden": true
   },
   "outputs": [],
   "source": [
    "fnames, images, boxes = next(iter(dataloader))\n",
    "images = images.to(device)\n",
    "pred = net(images)\n",
    "detections = pred.data\n",
    "iter_range = iter(range(len(images)))"
   ]
  },
  {
   "cell_type": "code",
   "execution_count": null,
   "metadata": {
    "ExecuteTime": {
     "end_time": "2018-10-23T13:27:47.740722Z",
     "start_time": "2018-10-23T13:27:47.717697Z"
    },
    "hidden": true
   },
   "outputs": [],
   "source": [
    "for i, box in enumerate(boxes):\n",
    "    print(i, box)"
   ]
  },
  {
   "cell_type": "code",
   "execution_count": null,
   "metadata": {
    "ExecuteTime": {
     "end_time": "2018-10-23T13:27:47.817164Z",
     "start_time": "2018-10-23T13:27:47.748335Z"
    },
    "hidden": true
   },
   "outputs": [],
   "source": [
    "for i in range(len(images)):\n",
    "    print(i, detections[i, 1, :9, 0])"
   ]
  },
  {
   "cell_type": "code",
   "execution_count": null,
   "metadata": {
    "ExecuteTime": {
     "end_time": "2018-10-23T13:30:26.074550Z",
     "start_time": "2018-10-23T13:30:25.428798Z"
    },
    "hidden": true
   },
   "outputs": [],
   "source": [
    "'''Plot random test images with trained SSD's predictions'''\n",
    "# iter_range = iter(range(len(images)))\n",
    "# i = random.choice(list(range(len(images))))\n",
    "i = next(iter_range)\n",
    "# i=7\n",
    "print(i, detections[i, 1, :5, 0])\n",
    "fig, ax = plt.subplots(figsize=(10, 10))\n",
    "for box in boxes[i]:\n",
    "    box = [i* 300 for i in box]\n",
    "    XMin, YMin, XMax, YMax = box[0], box[1], box[2], box[3]\n",
    "    w = XMax - XMin + 1\n",
    "    h = YMax - YMin + 1\n",
    "    rect = plt.Rectangle((XMin, YMin), width=w, height=h, edgecolor='g', fill=None, linewidth=2)\n",
    "    ax.add_patch(rect)\n",
    "\n",
    "scale = torch.Tensor([300] * 4)\n",
    "colors = ['b', 'g', 'r', 'c', 'm', 'y', 'k', 'w']\n",
    "\n",
    "for idx in np.where(detections[i, 1, :, 0] >= 0.2)[0]:\n",
    "    score = detections[i, 1, idx, 0]\n",
    "    XMin, YMin, XMax, YMax = [x * 300 for x in detections[i, 1, idx, 1:]]\n",
    "    w = XMax - XMin + 1\n",
    "    h = YMax - YMin + 1\n",
    "    rect = plt.Rectangle((XMin, YMin), width=w, height=h, edgecolor='r', fill=None, linewidth=2)\n",
    "    ax.add_patch(rect)\n",
    "\n",
    "ax.imshow(images.data[i][0] * 255, cmap=\"gist_gray\")\n",
    "plt.show();\n",
    "# Red => prediction, Green=Ground Truth"
   ]
  },
  {
   "cell_type": "code",
   "execution_count": null,
   "metadata": {
    "hidden": true
   },
   "outputs": [],
   "source": []
  },
  {
   "cell_type": "code",
   "execution_count": null,
   "metadata": {
    "hidden": true
   },
   "outputs": [],
   "source": []
  },
  {
   "cell_type": "markdown",
   "metadata": {},
   "source": [
    "## Analyse on test set"
   ]
  },
  {
   "cell_type": "code",
   "execution_count": null,
   "metadata": {
    "ExecuteTime": {
     "end_time": "2018-10-23T13:32:39.214459Z",
     "start_time": "2018-10-23T13:32:39.207346Z"
    }
   },
   "outputs": [],
   "source": []
  },
  {
   "cell_type": "code",
   "execution_count": null,
   "metadata": {
    "ExecuteTime": {
     "end_time": "2018-10-23T14:13:28.195824Z",
     "start_time": "2018-10-23T14:13:28.095460Z"
    }
   },
   "outputs": [],
   "source": [
    "# load data\n",
    "root = os.path.join(HOME, \"data/stage_1_test_images/\")\n",
    "sample_submission_path =  os.path.join(HOME, \"data/stage_1_sample_submission.csv\")\n",
    "testset = TestDataset(\n",
    "    root,\n",
    "    sample_submission_path,\n",
    ")\n",
    "transform = BaseTransform(net.module.size, (104, 117, 123))\n",
    "num_images = len(testset)\n"
   ]
  },
  {
   "cell_type": "code",
   "execution_count": null,
   "metadata": {
    "ExecuteTime": {
     "end_time": "2018-10-23T14:13:29.692827Z",
     "start_time": "2018-10-23T14:13:29.684064Z"
    }
   },
   "outputs": [],
   "source": [
    "iter_range = iter(range(num_images))"
   ]
  },
  {
   "cell_type": "code",
   "execution_count": null,
   "metadata": {
    "ExecuteTime": {
     "end_time": "2018-10-23T14:25:03.719039Z",
     "start_time": "2018-10-23T14:25:02.240631Z"
    },
    "code_folding": []
   },
   "outputs": [],
   "source": [
    "i = next(iter_range)\n",
    "img = testset.pull_image(i)\n",
    "x = torch.Tensor(img).view(1, 3, 300, 300)\n",
    "x = x.to(device)\n",
    "y = net(x)      # forward pass\n",
    "detections = y.data\n",
    "print(i, detections[0, 1, :5, 0])\n",
    "fig, ax = plt.subplots(figsize=(10, 10))\n",
    "scale = torch.Tensor([300] * 4)\n",
    "for idx in np.where(detections[0, 1, :, 0] >= 0.2)[0]:\n",
    "    score = detections[0, 1, idx, 0]\n",
    "    XMin, YMin, XMax, YMax = [x * 300 for x in detections[0, 1, idx, 1:]]\n",
    "    w = XMax - XMin + 1\n",
    "    h = YMax - YMin + 1\n",
    "    rect = plt.Rectangle((XMin, YMin), width=w, height=h, edgecolor='r', fill=None, linewidth=2)\n",
    "    ax.add_patch(rect)\n",
    "\n",
    "ax.imshow((img.transpose(1,2,0) * 255).astype('int'), cmap=\"gist_gray\")\n",
    "plt.show();\n",
    "# Red => prediction, Green=Ground Truth\n"
   ]
  },
  {
   "cell_type": "code",
   "execution_count": null,
   "metadata": {},
   "outputs": [],
   "source": []
  },
  {
   "cell_type": "code",
   "execution_count": null,
   "metadata": {},
   "outputs": [],
   "source": []
  },
  {
   "cell_type": "code",
   "execution_count": null,
   "metadata": {},
   "outputs": [],
   "source": []
  },
  {
   "cell_type": "code",
   "execution_count": null,
   "metadata": {},
   "outputs": [],
   "source": []
  }
 ],
 "metadata": {
  "kernelspec": {
   "display_name": "ML",
   "language": "python",
   "name": "ml"
  },
  "language_info": {
   "codemirror_mode": {
    "name": "ipython",
    "version": 3
   },
   "file_extension": ".py",
   "mimetype": "text/x-python",
   "name": "python",
   "nbconvert_exporter": "python",
   "pygments_lexer": "ipython3",
   "version": "3.7.0"
  }
 },
 "nbformat": 4,
 "nbformat_minor": 2
}
